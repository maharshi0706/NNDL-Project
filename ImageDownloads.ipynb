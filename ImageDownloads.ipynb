{
 "cells": [
  {
   "cell_type": "code",
   "execution_count": 1,
   "metadata": {},
   "outputs": [],
   "source": [
    "import os \n",
    "import requests\n",
    "import pandas as pd\n",
    "from PIL import Image\n",
    "from tqdm import tqdm"
   ]
  },
  {
   "cell_type": "code",
   "execution_count": 3,
   "metadata": {},
   "outputs": [
    {
     "ename": "UnicodeDecodeError",
     "evalue": "'utf-8' codec can't decode byte 0xed in position 17156: invalid continuation byte",
     "output_type": "error",
     "traceback": [
      "\u001b[1;31m---------------------------------------------------------------------------\u001b[0m",
      "\u001b[1;31mUnicodeDecodeError\u001b[0m                        Traceback (most recent call last)",
      "Cell \u001b[1;32mIn[3], line 1\u001b[0m\n\u001b[1;32m----> 1\u001b[0m imdb_df \u001b[38;5;241m=\u001b[39m \u001b[43mpd\u001b[49m\u001b[38;5;241;43m.\u001b[39;49m\u001b[43mread_csv\u001b[49m\u001b[43m(\u001b[49m\u001b[38;5;124;43m'\u001b[39;49m\u001b[38;5;124;43mIMDB1.csv\u001b[39;49m\u001b[38;5;124;43m'\u001b[39;49m\u001b[43m)\u001b[49m\n\u001b[0;32m      2\u001b[0m imdb_df\u001b[38;5;241m.\u001b[39mhead()\n",
      "File \u001b[1;32mc:\\libraries\\python\\lib\\site-packages\\pandas\\io\\parsers\\readers.py:912\u001b[0m, in \u001b[0;36mread_csv\u001b[1;34m(filepath_or_buffer, sep, delimiter, header, names, index_col, usecols, dtype, engine, converters, true_values, false_values, skipinitialspace, skiprows, skipfooter, nrows, na_values, keep_default_na, na_filter, verbose, skip_blank_lines, parse_dates, infer_datetime_format, keep_date_col, date_parser, date_format, dayfirst, cache_dates, iterator, chunksize, compression, thousands, decimal, lineterminator, quotechar, quoting, doublequote, escapechar, comment, encoding, encoding_errors, dialect, on_bad_lines, delim_whitespace, low_memory, memory_map, float_precision, storage_options, dtype_backend)\u001b[0m\n\u001b[0;32m    899\u001b[0m kwds_defaults \u001b[38;5;241m=\u001b[39m _refine_defaults_read(\n\u001b[0;32m    900\u001b[0m     dialect,\n\u001b[0;32m    901\u001b[0m     delimiter,\n\u001b[1;32m   (...)\u001b[0m\n\u001b[0;32m    908\u001b[0m     dtype_backend\u001b[38;5;241m=\u001b[39mdtype_backend,\n\u001b[0;32m    909\u001b[0m )\n\u001b[0;32m    910\u001b[0m kwds\u001b[38;5;241m.\u001b[39mupdate(kwds_defaults)\n\u001b[1;32m--> 912\u001b[0m \u001b[38;5;28;01mreturn\u001b[39;00m \u001b[43m_read\u001b[49m\u001b[43m(\u001b[49m\u001b[43mfilepath_or_buffer\u001b[49m\u001b[43m,\u001b[49m\u001b[43m \u001b[49m\u001b[43mkwds\u001b[49m\u001b[43m)\u001b[49m\n",
      "File \u001b[1;32mc:\\libraries\\python\\lib\\site-packages\\pandas\\io\\parsers\\readers.py:577\u001b[0m, in \u001b[0;36m_read\u001b[1;34m(filepath_or_buffer, kwds)\u001b[0m\n\u001b[0;32m    574\u001b[0m _validate_names(kwds\u001b[38;5;241m.\u001b[39mget(\u001b[38;5;124m\"\u001b[39m\u001b[38;5;124mnames\u001b[39m\u001b[38;5;124m\"\u001b[39m, \u001b[38;5;28;01mNone\u001b[39;00m))\n\u001b[0;32m    576\u001b[0m \u001b[38;5;66;03m# Create the parser.\u001b[39;00m\n\u001b[1;32m--> 577\u001b[0m parser \u001b[38;5;241m=\u001b[39m TextFileReader(filepath_or_buffer, \u001b[38;5;241m*\u001b[39m\u001b[38;5;241m*\u001b[39mkwds)\n\u001b[0;32m    579\u001b[0m \u001b[38;5;28;01mif\u001b[39;00m chunksize \u001b[38;5;129;01mor\u001b[39;00m iterator:\n\u001b[0;32m    580\u001b[0m     \u001b[38;5;28;01mreturn\u001b[39;00m parser\n",
      "File \u001b[1;32mc:\\libraries\\python\\lib\\site-packages\\pandas\\io\\parsers\\readers.py:1407\u001b[0m, in \u001b[0;36mTextFileReader.__init__\u001b[1;34m(self, f, engine, **kwds)\u001b[0m\n\u001b[0;32m   1404\u001b[0m     \u001b[38;5;28mself\u001b[39m\u001b[38;5;241m.\u001b[39moptions[\u001b[38;5;124m\"\u001b[39m\u001b[38;5;124mhas_index_names\u001b[39m\u001b[38;5;124m\"\u001b[39m] \u001b[38;5;241m=\u001b[39m kwds[\u001b[38;5;124m\"\u001b[39m\u001b[38;5;124mhas_index_names\u001b[39m\u001b[38;5;124m\"\u001b[39m]\n\u001b[0;32m   1406\u001b[0m \u001b[38;5;28mself\u001b[39m\u001b[38;5;241m.\u001b[39mhandles: IOHandles \u001b[38;5;241m|\u001b[39m \u001b[38;5;28;01mNone\u001b[39;00m \u001b[38;5;241m=\u001b[39m \u001b[38;5;28;01mNone\u001b[39;00m\n\u001b[1;32m-> 1407\u001b[0m \u001b[38;5;28mself\u001b[39m\u001b[38;5;241m.\u001b[39m_engine \u001b[38;5;241m=\u001b[39m \u001b[38;5;28;43mself\u001b[39;49m\u001b[38;5;241;43m.\u001b[39;49m\u001b[43m_make_engine\u001b[49m\u001b[43m(\u001b[49m\u001b[43mf\u001b[49m\u001b[43m,\u001b[49m\u001b[43m \u001b[49m\u001b[38;5;28;43mself\u001b[39;49m\u001b[38;5;241;43m.\u001b[39;49m\u001b[43mengine\u001b[49m\u001b[43m)\u001b[49m\n",
      "File \u001b[1;32mc:\\libraries\\python\\lib\\site-packages\\pandas\\io\\parsers\\readers.py:1679\u001b[0m, in \u001b[0;36mTextFileReader._make_engine\u001b[1;34m(self, f, engine)\u001b[0m\n\u001b[0;32m   1676\u001b[0m     \u001b[38;5;28;01mraise\u001b[39;00m \u001b[38;5;167;01mValueError\u001b[39;00m(msg)\n\u001b[0;32m   1678\u001b[0m \u001b[38;5;28;01mtry\u001b[39;00m:\n\u001b[1;32m-> 1679\u001b[0m     \u001b[38;5;28;01mreturn\u001b[39;00m mapping[engine](f, \u001b[38;5;241m*\u001b[39m\u001b[38;5;241m*\u001b[39m\u001b[38;5;28mself\u001b[39m\u001b[38;5;241m.\u001b[39moptions)\n\u001b[0;32m   1680\u001b[0m \u001b[38;5;28;01mexcept\u001b[39;00m \u001b[38;5;167;01mException\u001b[39;00m:\n\u001b[0;32m   1681\u001b[0m     \u001b[38;5;28;01mif\u001b[39;00m \u001b[38;5;28mself\u001b[39m\u001b[38;5;241m.\u001b[39mhandles \u001b[38;5;129;01mis\u001b[39;00m \u001b[38;5;129;01mnot\u001b[39;00m \u001b[38;5;28;01mNone\u001b[39;00m:\n",
      "File \u001b[1;32mc:\\libraries\\python\\lib\\site-packages\\pandas\\io\\parsers\\c_parser_wrapper.py:93\u001b[0m, in \u001b[0;36mCParserWrapper.__init__\u001b[1;34m(self, src, **kwds)\u001b[0m\n\u001b[0;32m     90\u001b[0m \u001b[38;5;28;01mif\u001b[39;00m kwds[\u001b[38;5;124m\"\u001b[39m\u001b[38;5;124mdtype_backend\u001b[39m\u001b[38;5;124m\"\u001b[39m] \u001b[38;5;241m==\u001b[39m \u001b[38;5;124m\"\u001b[39m\u001b[38;5;124mpyarrow\u001b[39m\u001b[38;5;124m\"\u001b[39m:\n\u001b[0;32m     91\u001b[0m     \u001b[38;5;66;03m# Fail here loudly instead of in cython after reading\u001b[39;00m\n\u001b[0;32m     92\u001b[0m     import_optional_dependency(\u001b[38;5;124m\"\u001b[39m\u001b[38;5;124mpyarrow\u001b[39m\u001b[38;5;124m\"\u001b[39m)\n\u001b[1;32m---> 93\u001b[0m \u001b[38;5;28mself\u001b[39m\u001b[38;5;241m.\u001b[39m_reader \u001b[38;5;241m=\u001b[39m parsers\u001b[38;5;241m.\u001b[39mTextReader(src, \u001b[38;5;241m*\u001b[39m\u001b[38;5;241m*\u001b[39mkwds)\n\u001b[0;32m     95\u001b[0m \u001b[38;5;28mself\u001b[39m\u001b[38;5;241m.\u001b[39munnamed_cols \u001b[38;5;241m=\u001b[39m \u001b[38;5;28mself\u001b[39m\u001b[38;5;241m.\u001b[39m_reader\u001b[38;5;241m.\u001b[39munnamed_cols\n\u001b[0;32m     97\u001b[0m \u001b[38;5;66;03m# error: Cannot determine type of 'names'\u001b[39;00m\n",
      "File \u001b[1;32mc:\\libraries\\python\\lib\\site-packages\\pandas\\_libs\\parsers.pyx:550\u001b[0m, in \u001b[0;36mpandas._libs.parsers.TextReader.__cinit__\u001b[1;34m()\u001b[0m\n",
      "File \u001b[1;32mc:\\libraries\\python\\lib\\site-packages\\pandas\\_libs\\parsers.pyx:639\u001b[0m, in \u001b[0;36mpandas._libs.parsers.TextReader._get_header\u001b[1;34m()\u001b[0m\n",
      "File \u001b[1;32mc:\\libraries\\python\\lib\\site-packages\\pandas\\_libs\\parsers.pyx:850\u001b[0m, in \u001b[0;36mpandas._libs.parsers.TextReader._tokenize_rows\u001b[1;34m()\u001b[0m\n",
      "File \u001b[1;32mc:\\libraries\\python\\lib\\site-packages\\pandas\\_libs\\parsers.pyx:861\u001b[0m, in \u001b[0;36mpandas._libs.parsers.TextReader._check_tokenize_status\u001b[1;34m()\u001b[0m\n",
      "File \u001b[1;32mc:\\libraries\\python\\lib\\site-packages\\pandas\\_libs\\parsers.pyx:2021\u001b[0m, in \u001b[0;36mpandas._libs.parsers.raise_parser_error\u001b[1;34m()\u001b[0m\n",
      "\u001b[1;31mUnicodeDecodeError\u001b[0m: 'utf-8' codec can't decode byte 0xed in position 17156: invalid continuation byte"
     ]
    }
   ],
   "source": [
    "imdb_df = pd.read_csv('IMDB1.csv')\n",
    "imdb_df.head()"
   ]
  },
  {
   "cell_type": "code",
   "execution_count": 4,
   "metadata": {},
   "outputs": [],
   "source": [
    "if 'IMDb_ID' not in imdb_df.columns:\n",
    "    imdb_df['IMDb_ID'] = [f\"tt{i+1:07d}\" for i in range(len(imdb_df))]"
   ]
  },
  {
   "cell_type": "code",
   "execution_count": 10,
   "metadata": {},
   "outputs": [],
   "source": [
    "download_dir = \"poster_images\"\n",
    "os.makedirs(download_dir, exist_ok=True)\n",
    "\n",
    "def download_poster(poster_url, movie_id):\n",
    "    try:\n",
    "        response = requests.get(poster_url, stream=True)\n",
    "        if response.status_code == 200:\n",
    "            with open(f\"{download_dir}/{movie_id}.jpg\", 'wb') as f:\n",
    "                f.write(response.content)\n",
    "            return True\n",
    "        else:\n",
    "            return False\n",
    "    except Exception as e:\n",
    "        print(f\"Error downloading poster for movie ID {movie_id}: {e}\")\n",
    "        return False"
   ]
  },
  {
   "cell_type": "code",
   "execution_count": 11,
   "metadata": {},
   "outputs": [
    {
     "name": "stderr",
     "output_type": "stream",
     "text": [
      "Downloading posters:   0%|          | 3/1000 [00:00<02:43,  6.09it/s]"
     ]
    },
    {
     "name": "stdout",
     "output_type": "stream",
     "text": [
      "Downloaded poster for movie ID tt0000001\n",
      "Downloaded poster for movie ID tt0000002\n",
      "Downloaded poster for movie ID tt0000003\n",
      "Downloaded poster for movie ID tt0000004\n"
     ]
    },
    {
     "name": "stderr",
     "output_type": "stream",
     "text": [
      "Downloading posters:   1%|          | 7/1000 [00:01<01:59,  8.29it/s]"
     ]
    },
    {
     "name": "stdout",
     "output_type": "stream",
     "text": [
      "Downloaded poster for movie ID tt0000005\n",
      "Downloaded poster for movie ID tt0000006\n",
      "Downloaded poster for movie ID tt0000007\n"
     ]
    },
    {
     "name": "stderr",
     "output_type": "stream",
     "text": [
      "Downloading posters:   1%|          | 11/1000 [00:01<01:51,  8.87it/s]"
     ]
    },
    {
     "name": "stdout",
     "output_type": "stream",
     "text": [
      "Downloaded poster for movie ID tt0000008\n",
      "Downloaded poster for movie ID tt0000009\n",
      "Downloaded poster for movie ID tt0000010\n",
      "Downloaded poster for movie ID tt0000011\n"
     ]
    },
    {
     "name": "stderr",
     "output_type": "stream",
     "text": [
      "Downloading posters:   1%|▏         | 13/1000 [00:01<01:35, 10.38it/s]"
     ]
    },
    {
     "name": "stdout",
     "output_type": "stream",
     "text": [
      "Downloaded poster for movie ID tt0000012\n",
      "Downloaded poster for movie ID tt0000013\n",
      "Downloaded poster for movie ID tt0000014\n",
      "Downloaded poster for movie ID tt0000015\n"
     ]
    },
    {
     "name": "stderr",
     "output_type": "stream",
     "text": [
      "Downloading posters:   2%|▏         | 17/1000 [00:01<01:21, 12.07it/s]"
     ]
    },
    {
     "name": "stdout",
     "output_type": "stream",
     "text": [
      "Downloaded poster for movie ID tt0000016\n",
      "Downloaded poster for movie ID tt0000017\n",
      "Downloaded poster for movie ID tt0000018\n",
      "Downloaded poster for movie ID tt0000019\n"
     ]
    },
    {
     "name": "stderr",
     "output_type": "stream",
     "text": [
      "Downloading posters:   2%|▏         | 21/1000 [00:02<01:11, 13.72it/s]"
     ]
    },
    {
     "name": "stdout",
     "output_type": "stream",
     "text": [
      "Downloaded poster for movie ID tt0000020\n",
      "Downloaded poster for movie ID tt0000021\n",
      "Downloaded poster for movie ID tt0000022\n"
     ]
    },
    {
     "name": "stderr",
     "output_type": "stream",
     "text": [
      "Downloading posters:   2%|▎         | 25/1000 [00:02<01:09, 13.94it/s]"
     ]
    },
    {
     "name": "stdout",
     "output_type": "stream",
     "text": [
      "Downloaded poster for movie ID tt0000023\n",
      "Downloaded poster for movie ID tt0000024\n",
      "Downloaded poster for movie ID tt0000025\n"
     ]
    },
    {
     "name": "stderr",
     "output_type": "stream",
     "text": [
      "Downloading posters:   3%|▎         | 27/1000 [00:02<01:08, 14.29it/s]"
     ]
    },
    {
     "name": "stdout",
     "output_type": "stream",
     "text": [
      "Downloaded poster for movie ID tt0000026\n",
      "Downloaded poster for movie ID tt0000027\n",
      "Downloaded poster for movie ID tt0000028\n",
      "Downloaded poster for movie ID tt0000029\n"
     ]
    },
    {
     "name": "stderr",
     "output_type": "stream",
     "text": [
      "Downloading posters:   3%|▎         | 31/1000 [00:03<01:41,  9.58it/s]"
     ]
    },
    {
     "name": "stdout",
     "output_type": "stream",
     "text": [
      "Failed to download poster for movie ID tt0000030\n",
      "Downloaded poster for movie ID tt0000031\n"
     ]
    },
    {
     "name": "stderr",
     "output_type": "stream",
     "text": [
      "Downloading posters:   3%|▎         | 33/1000 [00:03<01:57,  8.24it/s]"
     ]
    },
    {
     "name": "stdout",
     "output_type": "stream",
     "text": [
      "Failed to download poster for movie ID tt0000032\n",
      "Downloaded poster for movie ID tt0000033\n",
      "Downloaded poster for movie ID tt0000034\n",
      "Downloaded poster for movie ID tt0000035\n"
     ]
    },
    {
     "name": "stderr",
     "output_type": "stream",
     "text": [
      "Downloading posters:   4%|▍         | 39/1000 [00:03<01:17, 12.36it/s]"
     ]
    },
    {
     "name": "stdout",
     "output_type": "stream",
     "text": [
      "Downloaded poster for movie ID tt0000036\n",
      "Downloaded poster for movie ID tt0000037\n",
      "Downloaded poster for movie ID tt0000038\n",
      "Downloaded poster for movie ID tt0000039\n"
     ]
    },
    {
     "name": "stderr",
     "output_type": "stream",
     "text": [
      "Downloading posters:   4%|▍         | 41/1000 [00:03<01:12, 13.29it/s]"
     ]
    },
    {
     "name": "stdout",
     "output_type": "stream",
     "text": [
      "Downloaded poster for movie ID tt0000040\n",
      "Downloaded poster for movie ID tt0000041\n",
      "Downloaded poster for movie ID tt0000042\n"
     ]
    },
    {
     "name": "stderr",
     "output_type": "stream",
     "text": [
      "Downloading posters:   4%|▍         | 45/1000 [00:04<01:26, 11.08it/s]"
     ]
    },
    {
     "name": "stdout",
     "output_type": "stream",
     "text": [
      "Downloaded poster for movie ID tt0000043\n",
      "Downloaded poster for movie ID tt0000044\n",
      "Downloaded poster for movie ID tt0000045\n",
      "Downloaded poster for movie ID tt0000046\n"
     ]
    },
    {
     "name": "stderr",
     "output_type": "stream",
     "text": [
      "Downloading posters:   5%|▍         | 47/1000 [00:04<01:18, 12.15it/s]"
     ]
    },
    {
     "name": "stdout",
     "output_type": "stream",
     "text": [
      "Downloaded poster for movie ID tt0000047\n",
      "Downloaded poster for movie ID tt0000048\n"
     ]
    },
    {
     "name": "stderr",
     "output_type": "stream",
     "text": [
      "Downloading posters:   5%|▌         | 51/1000 [00:04<01:29, 10.66it/s]"
     ]
    },
    {
     "name": "stdout",
     "output_type": "stream",
     "text": [
      "Failed to download poster for movie ID tt0000049\n",
      "Downloaded poster for movie ID tt0000050\n",
      "Downloaded poster for movie ID tt0000051\n",
      "Downloaded poster for movie ID tt0000052\n"
     ]
    },
    {
     "name": "stderr",
     "output_type": "stream",
     "text": [
      "Downloading posters:   5%|▌         | 53/1000 [00:05<01:23, 11.34it/s]"
     ]
    },
    {
     "name": "stdout",
     "output_type": "stream",
     "text": [
      "Downloaded poster for movie ID tt0000053\n",
      "Downloaded poster for movie ID tt0000054\n"
     ]
    },
    {
     "name": "stderr",
     "output_type": "stream",
     "text": [
      "Downloading posters:   6%|▌         | 57/1000 [00:05<01:34,  9.97it/s]"
     ]
    },
    {
     "name": "stdout",
     "output_type": "stream",
     "text": [
      "Downloaded poster for movie ID tt0000055\n",
      "Downloaded poster for movie ID tt0000056\n",
      "Downloaded poster for movie ID tt0000057\n",
      "Downloaded poster for movie ID tt0000058\n"
     ]
    },
    {
     "name": "stderr",
     "output_type": "stream",
     "text": [
      "Downloading posters:   6%|▌         | 59/1000 [00:05<01:22, 11.38it/s]"
     ]
    },
    {
     "name": "stdout",
     "output_type": "stream",
     "text": [
      "Downloaded poster for movie ID tt0000059\n",
      "Downloaded poster for movie ID tt0000060\n"
     ]
    },
    {
     "name": "stderr",
     "output_type": "stream",
     "text": [
      "Downloading posters:   6%|▋         | 63/1000 [00:06<02:06,  7.40it/s]"
     ]
    },
    {
     "name": "stdout",
     "output_type": "stream",
     "text": [
      "Downloaded poster for movie ID tt0000061\n",
      "Downloaded poster for movie ID tt0000062\n",
      "Downloaded poster for movie ID tt0000063\n",
      "Downloaded poster for movie ID tt0000064\n"
     ]
    },
    {
     "name": "stderr",
     "output_type": "stream",
     "text": [
      "Downloading posters:   6%|▋         | 65/1000 [00:06<01:47,  8.74it/s]"
     ]
    },
    {
     "name": "stdout",
     "output_type": "stream",
     "text": [
      "Downloaded poster for movie ID tt0000065\n"
     ]
    },
    {
     "name": "stderr",
     "output_type": "stream",
     "text": [
      "Downloading posters:   7%|▋         | 67/1000 [00:07<02:28,  6.30it/s]"
     ]
    },
    {
     "name": "stdout",
     "output_type": "stream",
     "text": [
      "Downloaded poster for movie ID tt0000066\n",
      "Downloaded poster for movie ID tt0000067\n"
     ]
    },
    {
     "name": "stderr",
     "output_type": "stream",
     "text": [
      "Downloading posters:   7%|▋         | 69/1000 [00:07<02:24,  6.44it/s]"
     ]
    },
    {
     "name": "stdout",
     "output_type": "stream",
     "text": [
      "Downloaded poster for movie ID tt0000068\n",
      "Downloaded poster for movie ID tt0000069\n",
      "Downloaded poster for movie ID tt0000070\n"
     ]
    },
    {
     "name": "stderr",
     "output_type": "stream",
     "text": [
      "Downloading posters:   7%|▋         | 71/1000 [00:07<02:28,  6.25it/s]"
     ]
    },
    {
     "name": "stdout",
     "output_type": "stream",
     "text": [
      "Downloaded poster for movie ID tt0000071\n"
     ]
    },
    {
     "name": "stderr",
     "output_type": "stream",
     "text": [
      "Downloading posters:   7%|▋         | 72/1000 [00:08<02:56,  5.27it/s]"
     ]
    },
    {
     "name": "stdout",
     "output_type": "stream",
     "text": [
      "Downloaded poster for movie ID tt0000072\n"
     ]
    },
    {
     "name": "stderr",
     "output_type": "stream",
     "text": [
      "Downloading posters:   7%|▋         | 73/1000 [00:08<03:10,  4.87it/s]"
     ]
    },
    {
     "name": "stdout",
     "output_type": "stream",
     "text": [
      "Downloaded poster for movie ID tt0000073\n",
      "Downloaded poster for movie ID tt0000074\n"
     ]
    },
    {
     "name": "stderr",
     "output_type": "stream",
     "text": [
      "Downloading posters:   8%|▊         | 75/1000 [00:08<02:58,  5.17it/s]"
     ]
    },
    {
     "name": "stdout",
     "output_type": "stream",
     "text": [
      "Downloaded poster for movie ID tt0000075\n"
     ]
    },
    {
     "name": "stderr",
     "output_type": "stream",
     "text": [
      "Downloading posters:   8%|▊         | 76/1000 [00:09<03:10,  4.86it/s]"
     ]
    },
    {
     "name": "stdout",
     "output_type": "stream",
     "text": [
      "Failed to download poster for movie ID tt0000076\n"
     ]
    },
    {
     "name": "stderr",
     "output_type": "stream",
     "text": [
      "Downloading posters:   8%|▊         | 77/1000 [00:09<03:29,  4.41it/s]"
     ]
    },
    {
     "name": "stdout",
     "output_type": "stream",
     "text": [
      "Downloaded poster for movie ID tt0000077\n",
      "Downloaded poster for movie ID tt0000078\n"
     ]
    },
    {
     "name": "stderr",
     "output_type": "stream",
     "text": [
      "Downloading posters:   8%|▊         | 79/1000 [00:09<03:06,  4.93it/s]"
     ]
    },
    {
     "name": "stdout",
     "output_type": "stream",
     "text": [
      "Downloaded poster for movie ID tt0000079\n"
     ]
    },
    {
     "name": "stderr",
     "output_type": "stream",
     "text": [
      "Downloading posters:   8%|▊         | 80/1000 [00:09<03:28,  4.41it/s]"
     ]
    },
    {
     "name": "stdout",
     "output_type": "stream",
     "text": [
      "Downloaded poster for movie ID tt0000080\n"
     ]
    },
    {
     "name": "stderr",
     "output_type": "stream",
     "text": [
      "Downloading posters:   8%|▊         | 83/1000 [00:10<02:40,  5.71it/s]"
     ]
    },
    {
     "name": "stdout",
     "output_type": "stream",
     "text": [
      "Downloaded poster for movie ID tt0000081\n",
      "Downloaded poster for movie ID tt0000082\n",
      "Downloaded poster for movie ID tt0000083\n"
     ]
    },
    {
     "name": "stderr",
     "output_type": "stream",
     "text": [
      "Downloading posters:   8%|▊         | 85/1000 [00:10<02:03,  7.42it/s]"
     ]
    },
    {
     "name": "stdout",
     "output_type": "stream",
     "text": [
      "Downloaded poster for movie ID tt0000084\n",
      "Downloaded poster for movie ID tt0000085\n",
      "Downloaded poster for movie ID tt0000086\n"
     ]
    },
    {
     "name": "stderr",
     "output_type": "stream",
     "text": [
      "Downloading posters:   9%|▉         | 89/1000 [00:10<01:45,  8.67it/s]"
     ]
    },
    {
     "name": "stdout",
     "output_type": "stream",
     "text": [
      "Downloaded poster for movie ID tt0000087\n",
      "Downloaded poster for movie ID tt0000088\n",
      "Downloaded poster for movie ID tt0000089\n",
      "Downloaded poster for movie ID tt0000090\n",
      "Downloaded poster for movie ID tt0000091\n"
     ]
    },
    {
     "name": "stderr",
     "output_type": "stream",
     "text": [
      "Downloading posters:   9%|▉         | 92/1000 [00:11<01:19, 11.39it/s]"
     ]
    },
    {
     "name": "stdout",
     "output_type": "stream",
     "text": [
      "Downloaded poster for movie ID tt0000092\n"
     ]
    },
    {
     "name": "stderr",
     "output_type": "stream",
     "text": [
      "Downloading posters:   9%|▉         | 94/1000 [00:11<01:45,  8.58it/s]"
     ]
    },
    {
     "name": "stdout",
     "output_type": "stream",
     "text": [
      "Downloaded poster for movie ID tt0000093\n",
      "Downloaded poster for movie ID tt0000094\n",
      "Downloaded poster for movie ID tt0000095\n",
      "Downloaded poster for movie ID tt0000096\n"
     ]
    },
    {
     "name": "stderr",
     "output_type": "stream",
     "text": [
      "Downloading posters:  10%|▉         | 98/1000 [00:11<01:22, 10.96it/s]"
     ]
    },
    {
     "name": "stdout",
     "output_type": "stream",
     "text": [
      "Downloaded poster for movie ID tt0000097\n",
      "Downloaded poster for movie ID tt0000098\n",
      "Downloaded poster for movie ID tt0000099\n"
     ]
    },
    {
     "name": "stderr",
     "output_type": "stream",
     "text": [
      "Downloading posters:  10%|█         | 102/1000 [00:12<01:12, 12.40it/s]"
     ]
    },
    {
     "name": "stdout",
     "output_type": "stream",
     "text": [
      "Downloaded poster for movie ID tt0000100\n",
      "Downloaded poster for movie ID tt0000101\n",
      "Downloaded poster for movie ID tt0000102\n"
     ]
    },
    {
     "name": "stderr",
     "output_type": "stream",
     "text": [
      "Downloading posters:  11%|█         | 106/1000 [00:12<01:04, 13.79it/s]"
     ]
    },
    {
     "name": "stdout",
     "output_type": "stream",
     "text": [
      "Downloaded poster for movie ID tt0000103\n",
      "Downloaded poster for movie ID tt0000104\n",
      "Downloaded poster for movie ID tt0000105\n",
      "Downloaded poster for movie ID tt0000106\n"
     ]
    },
    {
     "name": "stderr",
     "output_type": "stream",
     "text": [
      "Downloading posters:  11%|█         | 108/1000 [00:12<01:28, 10.13it/s]"
     ]
    },
    {
     "name": "stdout",
     "output_type": "stream",
     "text": [
      "Downloaded poster for movie ID tt0000107\n",
      "Downloaded poster for movie ID tt0000108\n",
      "Downloaded poster for movie ID tt0000109\n",
      "Downloaded poster for movie ID tt0000110\n"
     ]
    },
    {
     "name": "stderr",
     "output_type": "stream",
     "text": [
      "Downloading posters:  11%|█         | 112/1000 [00:13<01:47,  8.24it/s]"
     ]
    },
    {
     "name": "stdout",
     "output_type": "stream",
     "text": [
      "Downloaded poster for movie ID tt0000111\n",
      "Downloaded poster for movie ID tt0000112\n",
      "Downloaded poster for movie ID tt0000113\n"
     ]
    },
    {
     "name": "stderr",
     "output_type": "stream",
     "text": [
      "Downloading posters:  11%|█▏        | 114/1000 [00:13<02:05,  7.06it/s]"
     ]
    },
    {
     "name": "stdout",
     "output_type": "stream",
     "text": [
      "Downloaded poster for movie ID tt0000114\n",
      "Downloaded poster for movie ID tt0000115\n"
     ]
    },
    {
     "name": "stderr",
     "output_type": "stream",
     "text": [
      "Downloading posters:  12%|█▏        | 118/1000 [00:14<01:52,  7.87it/s]"
     ]
    },
    {
     "name": "stdout",
     "output_type": "stream",
     "text": [
      "Failed to download poster for movie ID tt0000116\n",
      "Downloaded poster for movie ID tt0000117\n",
      "Downloaded poster for movie ID tt0000118\n"
     ]
    },
    {
     "name": "stderr",
     "output_type": "stream",
     "text": [
      "Downloading posters:  12%|█▏        | 120/1000 [00:14<01:35,  9.21it/s]"
     ]
    },
    {
     "name": "stdout",
     "output_type": "stream",
     "text": [
      "Downloaded poster for movie ID tt0000119\n",
      "Downloaded poster for movie ID tt0000120\n",
      "Downloaded poster for movie ID tt0000121\n"
     ]
    },
    {
     "name": "stderr",
     "output_type": "stream",
     "text": [
      "Downloading posters:  12%|█▏        | 122/1000 [00:14<01:28,  9.87it/s]"
     ]
    },
    {
     "name": "stdout",
     "output_type": "stream",
     "text": [
      "Downloaded poster for movie ID tt0000122\n",
      "Downloaded poster for movie ID tt0000123\n"
     ]
    },
    {
     "name": "stderr",
     "output_type": "stream",
     "text": [
      "Downloading posters:  13%|█▎        | 126/1000 [00:14<01:33,  9.32it/s]"
     ]
    },
    {
     "name": "stdout",
     "output_type": "stream",
     "text": [
      "Downloaded poster for movie ID tt0000124\n",
      "Downloaded poster for movie ID tt0000125\n",
      "Downloaded poster for movie ID tt0000126\n"
     ]
    },
    {
     "name": "stderr",
     "output_type": "stream",
     "text": [
      "Downloading posters:  13%|█▎        | 128/1000 [00:15<01:48,  8.06it/s]"
     ]
    },
    {
     "name": "stdout",
     "output_type": "stream",
     "text": [
      "Downloaded poster for movie ID tt0000127\n",
      "Downloaded poster for movie ID tt0000128\n",
      "Downloaded poster for movie ID tt0000129\n",
      "Downloaded poster for movie ID tt0000130\n"
     ]
    },
    {
     "name": "stderr",
     "output_type": "stream",
     "text": [
      "Downloading posters:  13%|█▎        | 130/1000 [00:15<01:31,  9.47it/s]"
     ]
    },
    {
     "name": "stdout",
     "output_type": "stream",
     "text": [
      "Downloaded poster for movie ID tt0000131\n"
     ]
    },
    {
     "name": "stderr",
     "output_type": "stream",
     "text": [
      "Downloading posters:  13%|█▎        | 134/1000 [00:15<01:32,  9.37it/s]"
     ]
    },
    {
     "name": "stdout",
     "output_type": "stream",
     "text": [
      "Downloaded poster for movie ID tt0000132\n",
      "Downloaded poster for movie ID tt0000133\n",
      "Downloaded poster for movie ID tt0000134\n"
     ]
    },
    {
     "name": "stderr",
     "output_type": "stream",
     "text": [
      "Downloading posters:  14%|█▍        | 138/1000 [00:16<01:26,  9.93it/s]"
     ]
    },
    {
     "name": "stdout",
     "output_type": "stream",
     "text": [
      "Downloaded poster for movie ID tt0000135\n",
      "Downloaded poster for movie ID tt0000136\n",
      "Downloaded poster for movie ID tt0000137\n",
      "Downloaded poster for movie ID tt0000138\n",
      "Downloaded poster for movie ID tt0000139\n"
     ]
    },
    {
     "name": "stderr",
     "output_type": "stream",
     "text": [
      "Downloading posters:  14%|█▍        | 142/1000 [00:16<01:28,  9.69it/s]"
     ]
    },
    {
     "name": "stdout",
     "output_type": "stream",
     "text": [
      "Downloaded poster for movie ID tt0000140\n",
      "Downloaded poster for movie ID tt0000141\n",
      "Downloaded poster for movie ID tt0000142\n",
      "Downloaded poster for movie ID tt0000143\n"
     ]
    },
    {
     "name": "stderr",
     "output_type": "stream",
     "text": [
      "Downloading posters:  15%|█▍        | 146/1000 [00:17<01:32,  9.26it/s]"
     ]
    },
    {
     "name": "stdout",
     "output_type": "stream",
     "text": [
      "Downloaded poster for movie ID tt0000144\n",
      "Downloaded poster for movie ID tt0000145\n",
      "Downloaded poster for movie ID tt0000146\n"
     ]
    },
    {
     "name": "stderr",
     "output_type": "stream",
     "text": [
      "Downloading posters:  15%|█▌        | 150/1000 [00:17<01:30,  9.41it/s]"
     ]
    },
    {
     "name": "stdout",
     "output_type": "stream",
     "text": [
      "Failed to download poster for movie ID tt0000147\n",
      "Downloaded poster for movie ID tt0000148\n",
      "Downloaded poster for movie ID tt0000149\n",
      "Downloaded poster for movie ID tt0000150\n"
     ]
    },
    {
     "name": "stderr",
     "output_type": "stream",
     "text": [
      "Downloading posters:  15%|█▌        | 154/1000 [00:17<01:26,  9.81it/s]"
     ]
    },
    {
     "name": "stdout",
     "output_type": "stream",
     "text": [
      "Failed to download poster for movie ID tt0000151\n",
      "Downloaded poster for movie ID tt0000152\n",
      "Downloaded poster for movie ID tt0000153\n",
      "Downloaded poster for movie ID tt0000154\n"
     ]
    },
    {
     "name": "stderr",
     "output_type": "stream",
     "text": [
      "Downloading posters:  16%|█▌        | 158/1000 [00:18<01:29,  9.36it/s]"
     ]
    },
    {
     "name": "stdout",
     "output_type": "stream",
     "text": [
      "Downloaded poster for movie ID tt0000155\n",
      "Downloaded poster for movie ID tt0000156\n",
      "Downloaded poster for movie ID tt0000157\n",
      "Downloaded poster for movie ID tt0000158\n",
      "Downloaded poster for movie ID tt0000159\n"
     ]
    },
    {
     "name": "stderr",
     "output_type": "stream",
     "text": [
      "Downloading posters:  16%|█▌        | 162/1000 [00:19<01:40,  8.34it/s]"
     ]
    },
    {
     "name": "stdout",
     "output_type": "stream",
     "text": [
      "Downloaded poster for movie ID tt0000160\n",
      "Downloaded poster for movie ID tt0000161\n",
      "Downloaded poster for movie ID tt0000162\n",
      "Downloaded poster for movie ID tt0000163\n"
     ]
    },
    {
     "name": "stderr",
     "output_type": "stream",
     "text": [
      "Downloading posters:  16%|█▋        | 164/1000 [00:19<01:57,  7.12it/s]"
     ]
    },
    {
     "name": "stdout",
     "output_type": "stream",
     "text": [
      "Downloaded poster for movie ID tt0000164\n"
     ]
    },
    {
     "name": "stderr",
     "output_type": "stream",
     "text": [
      "Downloading posters:  16%|█▋        | 165/1000 [00:19<02:16,  6.11it/s]"
     ]
    },
    {
     "name": "stdout",
     "output_type": "stream",
     "text": [
      "Downloaded poster for movie ID tt0000165\n",
      "Downloaded poster for movie ID tt0000166\n"
     ]
    },
    {
     "name": "stderr",
     "output_type": "stream",
     "text": [
      "Downloading posters:  17%|█▋        | 167/1000 [00:20<02:19,  5.97it/s]"
     ]
    },
    {
     "name": "stdout",
     "output_type": "stream",
     "text": [
      "Downloaded poster for movie ID tt0000167\n"
     ]
    },
    {
     "name": "stderr",
     "output_type": "stream",
     "text": [
      "Downloading posters:  17%|█▋        | 168/1000 [00:20<02:37,  5.28it/s]"
     ]
    },
    {
     "name": "stdout",
     "output_type": "stream",
     "text": [
      "Downloaded poster for movie ID tt0000168\n"
     ]
    },
    {
     "name": "stderr",
     "output_type": "stream",
     "text": [
      "Downloading posters:  17%|█▋        | 169/1000 [00:20<02:49,  4.89it/s]"
     ]
    },
    {
     "name": "stdout",
     "output_type": "stream",
     "text": [
      "Downloaded poster for movie ID tt0000169\n"
     ]
    },
    {
     "name": "stderr",
     "output_type": "stream",
     "text": [
      "Downloading posters:  17%|█▋        | 170/1000 [00:20<03:02,  4.55it/s]"
     ]
    },
    {
     "name": "stdout",
     "output_type": "stream",
     "text": [
      "Downloaded poster for movie ID tt0000170\n"
     ]
    },
    {
     "name": "stderr",
     "output_type": "stream",
     "text": [
      "Downloading posters:  17%|█▋        | 171/1000 [00:21<03:12,  4.31it/s]"
     ]
    },
    {
     "name": "stdout",
     "output_type": "stream",
     "text": [
      "Downloaded poster for movie ID tt0000171\n"
     ]
    },
    {
     "name": "stderr",
     "output_type": "stream",
     "text": [
      "Downloading posters:  17%|█▋        | 172/1000 [00:21<03:20,  4.14it/s]"
     ]
    },
    {
     "name": "stdout",
     "output_type": "stream",
     "text": [
      "Downloaded poster for movie ID tt0000172\n"
     ]
    },
    {
     "name": "stderr",
     "output_type": "stream",
     "text": [
      "Downloading posters:  17%|█▋        | 173/1000 [00:21<03:23,  4.07it/s]"
     ]
    },
    {
     "name": "stdout",
     "output_type": "stream",
     "text": [
      "Downloaded poster for movie ID tt0000173\n"
     ]
    },
    {
     "name": "stderr",
     "output_type": "stream",
     "text": [
      "Downloading posters:  17%|█▋        | 174/1000 [00:21<03:25,  4.03it/s]"
     ]
    },
    {
     "name": "stdout",
     "output_type": "stream",
     "text": [
      "Downloaded poster for movie ID tt0000174\n"
     ]
    },
    {
     "name": "stderr",
     "output_type": "stream",
     "text": [
      "Downloading posters:  18%|█▊        | 175/1000 [00:22<03:29,  3.94it/s]"
     ]
    },
    {
     "name": "stdout",
     "output_type": "stream",
     "text": [
      "Downloaded poster for movie ID tt0000175\n"
     ]
    },
    {
     "name": "stderr",
     "output_type": "stream",
     "text": [
      "Downloading posters:  18%|█▊        | 178/1000 [00:22<03:12,  4.27it/s]"
     ]
    },
    {
     "name": "stdout",
     "output_type": "stream",
     "text": [
      "Failed to download poster for movie ID tt0000176\n",
      "Downloaded poster for movie ID tt0000177\n",
      "Downloaded poster for movie ID tt0000178\n",
      "Downloaded poster for movie ID tt0000179\n"
     ]
    },
    {
     "name": "stderr",
     "output_type": "stream",
     "text": [
      "Downloading posters:  18%|█▊        | 180/1000 [00:23<02:15,  6.05it/s]"
     ]
    },
    {
     "name": "stdout",
     "output_type": "stream",
     "text": [
      "Downloaded poster for movie ID tt0000180\n",
      "Downloaded poster for movie ID tt0000181\n"
     ]
    },
    {
     "name": "stderr",
     "output_type": "stream",
     "text": [
      "Downloading posters:  18%|█▊        | 184/1000 [00:23<01:46,  7.63it/s]"
     ]
    },
    {
     "name": "stdout",
     "output_type": "stream",
     "text": [
      "Downloaded poster for movie ID tt0000182\n",
      "Downloaded poster for movie ID tt0000183\n",
      "Downloaded poster for movie ID tt0000184\n"
     ]
    },
    {
     "name": "stderr",
     "output_type": "stream",
     "text": [
      "Downloading posters:  19%|█▊        | 186/1000 [00:23<02:03,  6.61it/s]"
     ]
    },
    {
     "name": "stdout",
     "output_type": "stream",
     "text": [
      "Failed to download poster for movie ID tt0000185\n",
      "Downloaded poster for movie ID tt0000186\n",
      "Downloaded poster for movie ID tt0000187\n"
     ]
    },
    {
     "name": "stderr",
     "output_type": "stream",
     "text": [
      "Downloading posters:  19%|█▉        | 188/1000 [00:24<01:47,  7.59it/s]"
     ]
    },
    {
     "name": "stdout",
     "output_type": "stream",
     "text": [
      "Downloaded poster for movie ID tt0000188\n",
      "Downloaded poster for movie ID tt0000189\n"
     ]
    },
    {
     "name": "stderr",
     "output_type": "stream",
     "text": [
      "Downloading posters:  19%|█▉        | 190/1000 [00:24<01:40,  8.02it/s]"
     ]
    },
    {
     "name": "stdout",
     "output_type": "stream",
     "text": [
      "Downloaded poster for movie ID tt0000190\n",
      "Downloaded poster for movie ID tt0000191\n",
      "Downloaded poster for movie ID tt0000192\n"
     ]
    },
    {
     "name": "stderr",
     "output_type": "stream",
     "text": [
      "Downloading posters:  20%|█▉        | 196/1000 [00:24<01:14, 10.76it/s]"
     ]
    },
    {
     "name": "stdout",
     "output_type": "stream",
     "text": [
      "Downloaded poster for movie ID tt0000193\n",
      "Downloaded poster for movie ID tt0000194\n",
      "Downloaded poster for movie ID tt0000195\n",
      "Downloaded poster for movie ID tt0000196\n"
     ]
    },
    {
     "name": "stderr",
     "output_type": "stream",
     "text": [
      "Downloading posters:  20%|█▉        | 198/1000 [00:24<01:11, 11.16it/s]"
     ]
    },
    {
     "name": "stdout",
     "output_type": "stream",
     "text": [
      "Downloaded poster for movie ID tt0000197\n",
      "Downloaded poster for movie ID tt0000198\n",
      "Downloaded poster for movie ID tt0000199\n"
     ]
    },
    {
     "name": "stderr",
     "output_type": "stream",
     "text": [
      "Downloading posters:  20%|██        | 200/1000 [00:25<01:08, 11.62it/s]"
     ]
    },
    {
     "name": "stdout",
     "output_type": "stream",
     "text": [
      "Downloaded poster for movie ID tt0000200\n",
      "Downloaded poster for movie ID tt0000201\n"
     ]
    },
    {
     "name": "stderr",
     "output_type": "stream",
     "text": [
      "Downloading posters:  20%|██        | 204/1000 [00:25<01:49,  7.28it/s]"
     ]
    },
    {
     "name": "stdout",
     "output_type": "stream",
     "text": [
      "Downloaded poster for movie ID tt0000202\n",
      "Downloaded poster for movie ID tt0000203\n",
      "Downloaded poster for movie ID tt0000204\n"
     ]
    },
    {
     "name": "stderr",
     "output_type": "stream",
     "text": [
      "Downloading posters:  21%|██        | 206/1000 [00:26<02:00,  6.61it/s]"
     ]
    },
    {
     "name": "stdout",
     "output_type": "stream",
     "text": [
      "Downloaded poster for movie ID tt0000205\n",
      "Downloaded poster for movie ID tt0000206\n"
     ]
    },
    {
     "name": "stderr",
     "output_type": "stream",
     "text": [
      "Downloading posters:  21%|██        | 209/1000 [00:26<01:51,  7.07it/s]"
     ]
    },
    {
     "name": "stdout",
     "output_type": "stream",
     "text": [
      "Failed to download poster for movie ID tt0000207\n",
      "Downloaded poster for movie ID tt0000208\n",
      "Downloaded poster for movie ID tt0000209\n"
     ]
    },
    {
     "name": "stderr",
     "output_type": "stream",
     "text": [
      "Downloading posters:  21%|██        | 210/1000 [00:27<02:12,  5.95it/s]"
     ]
    },
    {
     "name": "stdout",
     "output_type": "stream",
     "text": [
      "Downloaded poster for movie ID tt0000210\n"
     ]
    },
    {
     "name": "stderr",
     "output_type": "stream",
     "text": [
      "Downloading posters:  21%|██        | 211/1000 [00:27<02:27,  5.36it/s]"
     ]
    },
    {
     "name": "stdout",
     "output_type": "stream",
     "text": [
      "Downloaded poster for movie ID tt0000211\n"
     ]
    },
    {
     "name": "stderr",
     "output_type": "stream",
     "text": [
      "Downloading posters:  21%|██        | 212/1000 [00:27<02:43,  4.81it/s]"
     ]
    },
    {
     "name": "stdout",
     "output_type": "stream",
     "text": [
      "Downloaded poster for movie ID tt0000212\n"
     ]
    },
    {
     "name": "stderr",
     "output_type": "stream",
     "text": [
      "Downloading posters:  21%|██▏       | 213/1000 [00:27<02:56,  4.46it/s]"
     ]
    },
    {
     "name": "stdout",
     "output_type": "stream",
     "text": [
      "Downloaded poster for movie ID tt0000213\n"
     ]
    },
    {
     "name": "stderr",
     "output_type": "stream",
     "text": [
      "Downloading posters:  21%|██▏       | 214/1000 [00:28<03:09,  4.15it/s]"
     ]
    },
    {
     "name": "stdout",
     "output_type": "stream",
     "text": [
      "Downloaded poster for movie ID tt0000214\n"
     ]
    },
    {
     "name": "stderr",
     "output_type": "stream",
     "text": [
      "Downloading posters:  22%|██▏       | 215/1000 [00:28<03:16,  4.00it/s]"
     ]
    },
    {
     "name": "stdout",
     "output_type": "stream",
     "text": [
      "Downloaded poster for movie ID tt0000215\n"
     ]
    },
    {
     "name": "stderr",
     "output_type": "stream",
     "text": [
      "Downloading posters:  22%|██▏       | 218/1000 [00:28<02:12,  5.92it/s]"
     ]
    },
    {
     "name": "stdout",
     "output_type": "stream",
     "text": [
      "Downloaded poster for movie ID tt0000216\n",
      "Downloaded poster for movie ID tt0000217\n",
      "Downloaded poster for movie ID tt0000218\n",
      "Downloaded poster for movie ID tt0000219\n"
     ]
    },
    {
     "name": "stderr",
     "output_type": "stream",
     "text": [
      "Downloading posters:  22%|██▏       | 220/1000 [00:29<02:10,  5.96it/s]"
     ]
    },
    {
     "name": "stdout",
     "output_type": "stream",
     "text": [
      "Downloaded poster for movie ID tt0000220\n"
     ]
    },
    {
     "name": "stderr",
     "output_type": "stream",
     "text": [
      "Downloading posters:  22%|██▏       | 223/1000 [00:29<01:54,  6.78it/s]"
     ]
    },
    {
     "name": "stdout",
     "output_type": "stream",
     "text": [
      "Downloaded poster for movie ID tt0000221\n",
      "Downloaded poster for movie ID tt0000222\n",
      "Downloaded poster for movie ID tt0000223\n"
     ]
    },
    {
     "name": "stderr",
     "output_type": "stream",
     "text": [
      "Downloading posters:  22%|██▎       | 225/1000 [00:29<01:33,  8.32it/s]"
     ]
    },
    {
     "name": "stdout",
     "output_type": "stream",
     "text": [
      "Downloaded poster for movie ID tt0000224\n",
      "Downloaded poster for movie ID tt0000225\n",
      "Downloaded poster for movie ID tt0000226\n"
     ]
    },
    {
     "name": "stderr",
     "output_type": "stream",
     "text": [
      "Downloading posters:  23%|██▎       | 227/1000 [00:30<01:51,  6.96it/s]"
     ]
    },
    {
     "name": "stdout",
     "output_type": "stream",
     "text": [
      "Downloaded poster for movie ID tt0000227\n",
      "Downloaded poster for movie ID tt0000228\n"
     ]
    },
    {
     "name": "stderr",
     "output_type": "stream",
     "text": [
      "Downloading posters:  23%|██▎       | 231/1000 [00:30<01:38,  7.78it/s]"
     ]
    },
    {
     "name": "stdout",
     "output_type": "stream",
     "text": [
      "Failed to download poster for movie ID tt0000229\n",
      "Downloaded poster for movie ID tt0000230\n",
      "Downloaded poster for movie ID tt0000231\n",
      "Downloaded poster for movie ID tt0000232\n"
     ]
    },
    {
     "name": "stderr",
     "output_type": "stream",
     "text": [
      "Downloading posters:  23%|██▎       | 233/1000 [00:30<01:23,  9.16it/s]"
     ]
    },
    {
     "name": "stdout",
     "output_type": "stream",
     "text": [
      "Downloaded poster for movie ID tt0000233\n"
     ]
    },
    {
     "name": "stderr",
     "output_type": "stream",
     "text": [
      "Downloading posters:  24%|██▎       | 235/1000 [00:31<01:35,  7.97it/s]"
     ]
    },
    {
     "name": "stdout",
     "output_type": "stream",
     "text": [
      "Downloaded poster for movie ID tt0000234\n",
      "Downloaded poster for movie ID tt0000235\n"
     ]
    },
    {
     "name": "stderr",
     "output_type": "stream",
     "text": [
      "Downloading posters:  24%|██▍       | 238/1000 [00:31<01:36,  7.89it/s]"
     ]
    },
    {
     "name": "stdout",
     "output_type": "stream",
     "text": [
      "Downloaded poster for movie ID tt0000236\n",
      "Downloaded poster for movie ID tt0000237\n",
      "Downloaded poster for movie ID tt0000238\n"
     ]
    },
    {
     "name": "stderr",
     "output_type": "stream",
     "text": [
      "Downloading posters:  24%|██▍       | 240/1000 [00:31<01:23,  9.06it/s]"
     ]
    },
    {
     "name": "stdout",
     "output_type": "stream",
     "text": [
      "Downloaded poster for movie ID tt0000239\n",
      "Downloaded poster for movie ID tt0000240\n",
      "Downloaded poster for movie ID tt0000241\n"
     ]
    },
    {
     "name": "stderr",
     "output_type": "stream",
     "text": [
      "Downloading posters:  24%|██▍       | 242/1000 [00:31<01:20,  9.43it/s]"
     ]
    },
    {
     "name": "stdout",
     "output_type": "stream",
     "text": [
      "Downloaded poster for movie ID tt0000242\n"
     ]
    },
    {
     "name": "stderr",
     "output_type": "stream",
     "text": [
      "Downloading posters:  25%|██▍       | 246/1000 [00:32<01:25,  8.80it/s]"
     ]
    },
    {
     "name": "stdout",
     "output_type": "stream",
     "text": [
      "Failed to download poster for movie ID tt0000243\n",
      "Downloaded poster for movie ID tt0000244\n",
      "Downloaded poster for movie ID tt0000245\n",
      "Downloaded poster for movie ID tt0000246\n",
      "Failed to download poster for movie ID tt0000247\n"
     ]
    },
    {
     "name": "stderr",
     "output_type": "stream",
     "text": [
      "Downloading posters:  25%|██▌       | 250/1000 [00:33<02:31,  4.94it/s]"
     ]
    },
    {
     "name": "stdout",
     "output_type": "stream",
     "text": [
      "Downloaded poster for movie ID tt0000248\n",
      "Downloaded poster for movie ID tt0000249\n",
      "Downloaded poster for movie ID tt0000250\n"
     ]
    },
    {
     "name": "stderr",
     "output_type": "stream",
     "text": [
      "Downloading posters:  25%|██▌       | 252/1000 [00:33<02:02,  6.10it/s]"
     ]
    },
    {
     "name": "stdout",
     "output_type": "stream",
     "text": [
      "Downloaded poster for movie ID tt0000251\n",
      "Downloaded poster for movie ID tt0000252\n"
     ]
    },
    {
     "name": "stderr",
     "output_type": "stream",
     "text": [
      "Downloading posters:  25%|██▌       | 254/1000 [00:34<02:08,  5.78it/s]"
     ]
    },
    {
     "name": "stdout",
     "output_type": "stream",
     "text": [
      "Failed to download poster for movie ID tt0000253\n",
      "Downloaded poster for movie ID tt0000254\n",
      "Downloaded poster for movie ID tt0000255\n"
     ]
    },
    {
     "name": "stderr",
     "output_type": "stream",
     "text": [
      "Downloading posters:  26%|██▌       | 256/1000 [00:34<02:09,  5.74it/s]"
     ]
    },
    {
     "name": "stdout",
     "output_type": "stream",
     "text": [
      "Downloaded poster for movie ID tt0000256\n",
      "Downloaded poster for movie ID tt0000257\n"
     ]
    },
    {
     "name": "stderr",
     "output_type": "stream",
     "text": [
      "Downloading posters:  26%|██▌       | 260/1000 [00:35<01:45,  7.01it/s]"
     ]
    },
    {
     "name": "stdout",
     "output_type": "stream",
     "text": [
      "Failed to download poster for movie ID tt0000258\n",
      "Downloaded poster for movie ID tt0000259\n",
      "Downloaded poster for movie ID tt0000260\n"
     ]
    },
    {
     "name": "stderr",
     "output_type": "stream",
     "text": [
      "Downloading posters:  26%|██▌       | 261/1000 [00:35<02:03,  6.00it/s]"
     ]
    },
    {
     "name": "stdout",
     "output_type": "stream",
     "text": [
      "Downloaded poster for movie ID tt0000261\n",
      "Downloaded poster for movie ID tt0000262\n"
     ]
    },
    {
     "name": "stderr",
     "output_type": "stream",
     "text": [
      "Downloading posters:  26%|██▋       | 265/1000 [00:35<01:36,  7.59it/s]"
     ]
    },
    {
     "name": "stdout",
     "output_type": "stream",
     "text": [
      "Downloaded poster for movie ID tt0000263\n",
      "Downloaded poster for movie ID tt0000264\n",
      "Downloaded poster for movie ID tt0000265\n",
      "Downloaded poster for movie ID tt0000266\n"
     ]
    },
    {
     "name": "stderr",
     "output_type": "stream",
     "text": [
      "Downloading posters:  27%|██▋       | 269/1000 [00:36<01:23,  8.76it/s]"
     ]
    },
    {
     "name": "stdout",
     "output_type": "stream",
     "text": [
      "Downloaded poster for movie ID tt0000267\n",
      "Downloaded poster for movie ID tt0000268\n",
      "Downloaded poster for movie ID tt0000269\n",
      "Downloaded poster for movie ID tt0000270\n"
     ]
    },
    {
     "name": "stderr",
     "output_type": "stream",
     "text": [
      "Downloading posters:  27%|██▋       | 273/1000 [00:36<01:05, 11.08it/s]"
     ]
    },
    {
     "name": "stdout",
     "output_type": "stream",
     "text": [
      "Downloaded poster for movie ID tt0000271\n",
      "Downloaded poster for movie ID tt0000272\n",
      "Downloaded poster for movie ID tt0000273\n"
     ]
    },
    {
     "name": "stderr",
     "output_type": "stream",
     "text": [
      "Downloading posters:  28%|██▊       | 275/1000 [00:36<01:02, 11.58it/s]"
     ]
    },
    {
     "name": "stdout",
     "output_type": "stream",
     "text": [
      "Downloaded poster for movie ID tt0000274\n",
      "Downloaded poster for movie ID tt0000275\n"
     ]
    },
    {
     "name": "stderr",
     "output_type": "stream",
     "text": [
      "Downloading posters:  28%|██▊       | 277/1000 [00:36<01:20,  9.01it/s]"
     ]
    },
    {
     "name": "stdout",
     "output_type": "stream",
     "text": [
      "Downloaded poster for movie ID tt0000276\n",
      "Downloaded poster for movie ID tt0000277\n",
      "Downloaded poster for movie ID tt0000278\n"
     ]
    },
    {
     "name": "stderr",
     "output_type": "stream",
     "text": [
      "Downloading posters:  28%|██▊       | 279/1000 [00:37<01:12,  9.88it/s]"
     ]
    },
    {
     "name": "stdout",
     "output_type": "stream",
     "text": [
      "Downloaded poster for movie ID tt0000279\n",
      "Downloaded poster for movie ID tt0000280\n",
      "Downloaded poster for movie ID tt0000281\n"
     ]
    },
    {
     "name": "stderr",
     "output_type": "stream",
     "text": [
      "Downloading posters:  28%|██▊       | 283/1000 [00:37<01:34,  7.61it/s]"
     ]
    },
    {
     "name": "stdout",
     "output_type": "stream",
     "text": [
      "Downloaded poster for movie ID tt0000282\n",
      "Downloaded poster for movie ID tt0000283\n"
     ]
    },
    {
     "name": "stderr",
     "output_type": "stream",
     "text": [
      "Downloading posters:  29%|██▊       | 286/1000 [00:38<01:34,  7.58it/s]"
     ]
    },
    {
     "name": "stdout",
     "output_type": "stream",
     "text": [
      "Failed to download poster for movie ID tt0000284\n",
      "Downloaded poster for movie ID tt0000285\n",
      "Downloaded poster for movie ID tt0000286\n",
      "Downloaded poster for movie ID tt0000287\n"
     ]
    },
    {
     "name": "stderr",
     "output_type": "stream",
     "text": [
      "Downloading posters:  29%|██▉       | 290/1000 [00:38<01:34,  7.54it/s]"
     ]
    },
    {
     "name": "stdout",
     "output_type": "stream",
     "text": [
      "Failed to download poster for movie ID tt0000288\n",
      "Downloaded poster for movie ID tt0000289\n",
      "Downloaded poster for movie ID tt0000290\n"
     ]
    },
    {
     "name": "stderr",
     "output_type": "stream",
     "text": [
      "Downloading posters:  29%|██▉       | 292/1000 [00:38<01:21,  8.71it/s]"
     ]
    },
    {
     "name": "stdout",
     "output_type": "stream",
     "text": [
      "Downloaded poster for movie ID tt0000291\n",
      "Downloaded poster for movie ID tt0000292\n",
      "Downloaded poster for movie ID tt0000293\n"
     ]
    },
    {
     "name": "stderr",
     "output_type": "stream",
     "text": [
      "Downloading posters:  30%|██▉       | 296/1000 [00:39<01:02, 11.28it/s]"
     ]
    },
    {
     "name": "stdout",
     "output_type": "stream",
     "text": [
      "Downloaded poster for movie ID tt0000294\n",
      "Downloaded poster for movie ID tt0000295\n",
      "Downloaded poster for movie ID tt0000296\n",
      "Downloaded poster for movie ID tt0000297\n"
     ]
    },
    {
     "name": "stderr",
     "output_type": "stream",
     "text": [
      "Downloading posters:  30%|██▉       | 298/1000 [00:39<00:56, 12.40it/s]"
     ]
    },
    {
     "name": "stdout",
     "output_type": "stream",
     "text": [
      "Downloaded poster for movie ID tt0000298\n"
     ]
    },
    {
     "name": "stderr",
     "output_type": "stream",
     "text": [
      "Downloading posters:  30%|███       | 300/1000 [00:39<01:14,  9.37it/s]"
     ]
    },
    {
     "name": "stdout",
     "output_type": "stream",
     "text": [
      "Failed to download poster for movie ID tt0000299\n",
      "Downloaded poster for movie ID tt0000300\n",
      "Downloaded poster for movie ID tt0000301\n"
     ]
    },
    {
     "name": "stderr",
     "output_type": "stream",
     "text": [
      "Downloading posters:  30%|███       | 304/1000 [00:39<01:02, 11.08it/s]"
     ]
    },
    {
     "name": "stdout",
     "output_type": "stream",
     "text": [
      "Downloaded poster for movie ID tt0000302\n",
      "Downloaded poster for movie ID tt0000303\n",
      "Downloaded poster for movie ID tt0000304\n",
      "Downloaded poster for movie ID tt0000305\n"
     ]
    },
    {
     "name": "stderr",
     "output_type": "stream",
     "text": [
      "Downloading posters:  31%|███       | 308/1000 [00:40<01:09, 10.00it/s]"
     ]
    },
    {
     "name": "stdout",
     "output_type": "stream",
     "text": [
      "Downloaded poster for movie ID tt0000306\n",
      "Downloaded poster for movie ID tt0000307\n",
      "Downloaded poster for movie ID tt0000308\n"
     ]
    },
    {
     "name": "stderr",
     "output_type": "stream",
     "text": [
      "Downloading posters:  31%|███       | 310/1000 [00:40<01:02, 11.05it/s]"
     ]
    },
    {
     "name": "stdout",
     "output_type": "stream",
     "text": [
      "Downloaded poster for movie ID tt0000309\n",
      "Downloaded poster for movie ID tt0000310\n",
      "Downloaded poster for movie ID tt0000311\n"
     ]
    },
    {
     "name": "stderr",
     "output_type": "stream",
     "text": [
      "Downloading posters:  31%|███▏      | 314/1000 [00:41<01:12,  9.41it/s]"
     ]
    },
    {
     "name": "stdout",
     "output_type": "stream",
     "text": [
      "Failed to download poster for movie ID tt0000312\n",
      "Downloaded poster for movie ID tt0000313\n",
      "Downloaded poster for movie ID tt0000314\n"
     ]
    },
    {
     "name": "stderr",
     "output_type": "stream",
     "text": [
      "Downloading posters:  32%|███▏      | 318/1000 [00:41<01:10,  9.71it/s]"
     ]
    },
    {
     "name": "stdout",
     "output_type": "stream",
     "text": [
      "Downloaded poster for movie ID tt0000315\n",
      "Downloaded poster for movie ID tt0000316\n",
      "Downloaded poster for movie ID tt0000317\n",
      "Downloaded poster for movie ID tt0000318\n"
     ]
    },
    {
     "name": "stderr",
     "output_type": "stream",
     "text": [
      "Downloading posters:  32%|███▏      | 320/1000 [00:41<01:01, 10.97it/s]"
     ]
    },
    {
     "name": "stdout",
     "output_type": "stream",
     "text": [
      "Downloaded poster for movie ID tt0000319\n",
      "Downloaded poster for movie ID tt0000320\n",
      "Downloaded poster for movie ID tt0000321\n",
      "Downloaded poster for movie ID tt0000322\n"
     ]
    },
    {
     "name": "stderr",
     "output_type": "stream",
     "text": [
      "Downloading posters:  33%|███▎      | 326/1000 [00:42<00:49, 13.60it/s]"
     ]
    },
    {
     "name": "stdout",
     "output_type": "stream",
     "text": [
      "Downloaded poster for movie ID tt0000323\n",
      "Downloaded poster for movie ID tt0000324\n",
      "Downloaded poster for movie ID tt0000325\n",
      "Downloaded poster for movie ID tt0000326\n"
     ]
    },
    {
     "name": "stderr",
     "output_type": "stream",
     "text": [
      "Downloading posters:  33%|███▎      | 328/1000 [00:42<00:50, 13.38it/s]"
     ]
    },
    {
     "name": "stdout",
     "output_type": "stream",
     "text": [
      "Downloaded poster for movie ID tt0000327\n",
      "Downloaded poster for movie ID tt0000328\n",
      "Downloaded poster for movie ID tt0000329\n"
     ]
    },
    {
     "name": "stderr",
     "output_type": "stream",
     "text": [
      "Downloading posters:  33%|███▎      | 330/1000 [00:42<01:09,  9.60it/s]"
     ]
    },
    {
     "name": "stdout",
     "output_type": "stream",
     "text": [
      "Downloaded poster for movie ID tt0000330\n"
     ]
    },
    {
     "name": "stderr",
     "output_type": "stream",
     "text": [
      "Downloading posters:  33%|███▎      | 332/1000 [00:42<01:22,  8.08it/s]"
     ]
    },
    {
     "name": "stdout",
     "output_type": "stream",
     "text": [
      "Downloaded poster for movie ID tt0000331\n",
      "Downloaded poster for movie ID tt0000332\n",
      "Downloaded poster for movie ID tt0000333\n"
     ]
    },
    {
     "name": "stderr",
     "output_type": "stream",
     "text": [
      "Downloading posters:  33%|███▎      | 334/1000 [00:42<01:12,  9.19it/s]"
     ]
    },
    {
     "name": "stdout",
     "output_type": "stream",
     "text": [
      "Downloaded poster for movie ID tt0000334\n",
      "Downloaded poster for movie ID tt0000335\n"
     ]
    },
    {
     "name": "stderr",
     "output_type": "stream",
     "text": [
      "Downloading posters:  34%|███▍      | 338/1000 [00:43<01:13,  9.05it/s]"
     ]
    },
    {
     "name": "stdout",
     "output_type": "stream",
     "text": [
      "Downloaded poster for movie ID tt0000336\n",
      "Downloaded poster for movie ID tt0000337\n",
      "Downloaded poster for movie ID tt0000338\n"
     ]
    },
    {
     "name": "stderr",
     "output_type": "stream",
     "text": [
      "Downloading posters:  34%|███▍      | 340/1000 [00:43<01:05, 10.05it/s]"
     ]
    },
    {
     "name": "stdout",
     "output_type": "stream",
     "text": [
      "Downloaded poster for movie ID tt0000339\n",
      "Downloaded poster for movie ID tt0000340\n",
      "Downloaded poster for movie ID tt0000341\n"
     ]
    },
    {
     "name": "stderr",
     "output_type": "stream",
     "text": [
      "Downloading posters:  34%|███▍      | 342/1000 [00:43<01:20,  8.15it/s]"
     ]
    },
    {
     "name": "stdout",
     "output_type": "stream",
     "text": [
      "Downloaded poster for movie ID tt0000342\n"
     ]
    },
    {
     "name": "stderr",
     "output_type": "stream",
     "text": [
      "Downloading posters:  34%|███▍      | 345/1000 [00:44<01:18,  8.30it/s]"
     ]
    },
    {
     "name": "stdout",
     "output_type": "stream",
     "text": [
      "Downloaded poster for movie ID tt0000343\n",
      "Downloaded poster for movie ID tt0000344\n",
      "Downloaded poster for movie ID tt0000345\n",
      "Downloaded poster for movie ID tt0000346\n"
     ]
    },
    {
     "name": "stderr",
     "output_type": "stream",
     "text": [
      "Downloading posters:  35%|███▍      | 349/1000 [00:44<00:59, 10.91it/s]"
     ]
    },
    {
     "name": "stdout",
     "output_type": "stream",
     "text": [
      "Downloaded poster for movie ID tt0000347\n",
      "Downloaded poster for movie ID tt0000348\n",
      "Downloaded poster for movie ID tt0000349\n",
      "Downloaded poster for movie ID tt0000350\n"
     ]
    },
    {
     "name": "stderr",
     "output_type": "stream",
     "text": [
      "Downloading posters:  35%|███▌      | 351/1000 [00:44<01:15,  8.61it/s]"
     ]
    },
    {
     "name": "stdout",
     "output_type": "stream",
     "text": [
      "Downloaded poster for movie ID tt0000351\n"
     ]
    },
    {
     "name": "stderr",
     "output_type": "stream",
     "text": [
      "Downloading posters:  35%|███▌      | 353/1000 [00:45<01:25,  7.59it/s]"
     ]
    },
    {
     "name": "stdout",
     "output_type": "stream",
     "text": [
      "Downloaded poster for movie ID tt0000352\n",
      "Downloaded poster for movie ID tt0000353\n",
      "Downloaded poster for movie ID tt0000354\n"
     ]
    },
    {
     "name": "stderr",
     "output_type": "stream",
     "text": [
      "Downloading posters:  36%|███▌      | 357/1000 [00:45<01:05,  9.85it/s]"
     ]
    },
    {
     "name": "stdout",
     "output_type": "stream",
     "text": [
      "Downloaded poster for movie ID tt0000355\n",
      "Downloaded poster for movie ID tt0000356\n",
      "Downloaded poster for movie ID tt0000357\n",
      "Downloaded poster for movie ID tt0000358\n"
     ]
    },
    {
     "name": "stderr",
     "output_type": "stream",
     "text": [
      "Downloading posters:  36%|███▌      | 361/1000 [00:45<00:55, 11.48it/s]"
     ]
    },
    {
     "name": "stdout",
     "output_type": "stream",
     "text": [
      "Downloaded poster for movie ID tt0000359\n",
      "Downloaded poster for movie ID tt0000360\n",
      "Downloaded poster for movie ID tt0000361\n",
      "Downloaded poster for movie ID tt0000362\n"
     ]
    },
    {
     "name": "stderr",
     "output_type": "stream",
     "text": [
      "Downloading posters:  36%|███▋      | 365/1000 [00:46<00:49, 12.79it/s]"
     ]
    },
    {
     "name": "stdout",
     "output_type": "stream",
     "text": [
      "Downloaded poster for movie ID tt0000363\n",
      "Downloaded poster for movie ID tt0000364\n",
      "Downloaded poster for movie ID tt0000365\n"
     ]
    },
    {
     "name": "stderr",
     "output_type": "stream",
     "text": [
      "Downloading posters:  37%|███▋      | 367/1000 [00:46<01:06,  9.45it/s]"
     ]
    },
    {
     "name": "stdout",
     "output_type": "stream",
     "text": [
      "Downloaded poster for movie ID tt0000366\n",
      "Downloaded poster for movie ID tt0000367\n",
      "Downloaded poster for movie ID tt0000368\n"
     ]
    },
    {
     "name": "stderr",
     "output_type": "stream",
     "text": [
      "Downloading posters:  37%|███▋      | 369/1000 [00:46<01:20,  7.83it/s]"
     ]
    },
    {
     "name": "stdout",
     "output_type": "stream",
     "text": [
      "Downloaded poster for movie ID tt0000369\n",
      "Downloaded poster for movie ID tt0000370\n"
     ]
    },
    {
     "name": "stderr",
     "output_type": "stream",
     "text": [
      "Downloading posters:  37%|███▋      | 371/1000 [00:47<01:28,  7.11it/s]"
     ]
    },
    {
     "name": "stdout",
     "output_type": "stream",
     "text": [
      "Downloaded poster for movie ID tt0000371\n"
     ]
    },
    {
     "name": "stderr",
     "output_type": "stream",
     "text": [
      "Downloading posters:  37%|███▋      | 372/1000 [00:47<01:40,  6.26it/s]"
     ]
    },
    {
     "name": "stdout",
     "output_type": "stream",
     "text": [
      "Downloaded poster for movie ID tt0000372\n"
     ]
    },
    {
     "name": "stderr",
     "output_type": "stream",
     "text": [
      "Downloading posters:  37%|███▋      | 373/1000 [00:47<01:55,  5.41it/s]"
     ]
    },
    {
     "name": "stdout",
     "output_type": "stream",
     "text": [
      "Downloaded poster for movie ID tt0000373\n"
     ]
    },
    {
     "name": "stderr",
     "output_type": "stream",
     "text": [
      "Downloading posters:  37%|███▋      | 374/1000 [00:48<02:05,  4.99it/s]"
     ]
    },
    {
     "name": "stdout",
     "output_type": "stream",
     "text": [
      "Downloaded poster for movie ID tt0000374\n",
      "Downloaded poster for movie ID tt0000375\n"
     ]
    },
    {
     "name": "stderr",
     "output_type": "stream",
     "text": [
      "Downloading posters:  38%|███▊      | 376/1000 [00:48<01:58,  5.28it/s]"
     ]
    },
    {
     "name": "stdout",
     "output_type": "stream",
     "text": [
      "Downloaded poster for movie ID tt0000376\n",
      "Downloaded poster for movie ID tt0000377\n"
     ]
    },
    {
     "name": "stderr",
     "output_type": "stream",
     "text": [
      "Downloading posters:  38%|███▊      | 378/1000 [00:48<01:53,  5.48it/s]"
     ]
    },
    {
     "name": "stdout",
     "output_type": "stream",
     "text": [
      "Downloaded poster for movie ID tt0000378\n",
      "Downloaded poster for movie ID tt0000379\n"
     ]
    },
    {
     "name": "stderr",
     "output_type": "stream",
     "text": [
      "Downloading posters:  38%|███▊      | 380/1000 [00:49<01:49,  5.67it/s]"
     ]
    },
    {
     "name": "stdout",
     "output_type": "stream",
     "text": [
      "Downloaded poster for movie ID tt0000380\n",
      "Downloaded poster for movie ID tt0000381\n"
     ]
    },
    {
     "name": "stderr",
     "output_type": "stream",
     "text": [
      "Downloading posters:  38%|███▊      | 384/1000 [00:49<01:26,  7.11it/s]"
     ]
    },
    {
     "name": "stdout",
     "output_type": "stream",
     "text": [
      "Downloaded poster for movie ID tt0000382\n",
      "Downloaded poster for movie ID tt0000383\n",
      "Downloaded poster for movie ID tt0000384\n",
      "Downloaded poster for movie ID tt0000385\n"
     ]
    },
    {
     "name": "stderr",
     "output_type": "stream",
     "text": [
      "Downloading posters:  39%|███▊      | 386/1000 [00:49<01:12,  8.44it/s]"
     ]
    },
    {
     "name": "stdout",
     "output_type": "stream",
     "text": [
      "Downloaded poster for movie ID tt0000386\n",
      "Downloaded poster for movie ID tt0000387\n"
     ]
    },
    {
     "name": "stderr",
     "output_type": "stream",
     "text": [
      "Downloading posters:  39%|███▉      | 388/1000 [00:49<01:20,  7.59it/s]"
     ]
    },
    {
     "name": "stdout",
     "output_type": "stream",
     "text": [
      "Downloaded poster for movie ID tt0000388\n"
     ]
    },
    {
     "name": "stderr",
     "output_type": "stream",
     "text": [
      "Downloading posters:  39%|███▉      | 389/1000 [00:50<01:35,  6.42it/s]"
     ]
    },
    {
     "name": "stdout",
     "output_type": "stream",
     "text": [
      "Downloaded poster for movie ID tt0000389\n"
     ]
    },
    {
     "name": "stderr",
     "output_type": "stream",
     "text": [
      "Downloading posters:  39%|███▉      | 390/1000 [00:50<01:47,  5.68it/s]"
     ]
    },
    {
     "name": "stdout",
     "output_type": "stream",
     "text": [
      "Downloaded poster for movie ID tt0000390\n"
     ]
    },
    {
     "name": "stderr",
     "output_type": "stream",
     "text": [
      "Downloading posters:  39%|███▉      | 391/1000 [00:50<02:01,  5.01it/s]"
     ]
    },
    {
     "name": "stdout",
     "output_type": "stream",
     "text": [
      "Downloaded poster for movie ID tt0000391\n"
     ]
    },
    {
     "name": "stderr",
     "output_type": "stream",
     "text": [
      "Downloading posters:  39%|███▉      | 392/1000 [00:51<02:15,  4.50it/s]"
     ]
    },
    {
     "name": "stdout",
     "output_type": "stream",
     "text": [
      "Failed to download poster for movie ID tt0000392\n",
      "Downloaded poster for movie ID tt0000393\n"
     ]
    },
    {
     "name": "stderr",
     "output_type": "stream",
     "text": [
      "Downloading posters:  40%|███▉      | 396/1000 [00:51<01:30,  6.67it/s]"
     ]
    },
    {
     "name": "stdout",
     "output_type": "stream",
     "text": [
      "Downloaded poster for movie ID tt0000394\n",
      "Downloaded poster for movie ID tt0000395\n",
      "Downloaded poster for movie ID tt0000396\n",
      "Downloaded poster for movie ID tt0000397\n"
     ]
    },
    {
     "name": "stderr",
     "output_type": "stream",
     "text": [
      "Downloading posters:  40%|███▉      | 398/1000 [00:51<01:15,  7.96it/s]"
     ]
    },
    {
     "name": "stdout",
     "output_type": "stream",
     "text": [
      "Downloaded poster for movie ID tt0000398\n",
      "Downloaded poster for movie ID tt0000399\n"
     ]
    },
    {
     "name": "stderr",
     "output_type": "stream",
     "text": [
      "Downloading posters:  40%|████      | 402/1000 [00:52<01:11,  8.40it/s]"
     ]
    },
    {
     "name": "stdout",
     "output_type": "stream",
     "text": [
      "Failed to download poster for movie ID tt0000400\n",
      "Downloaded poster for movie ID tt0000401\n",
      "Downloaded poster for movie ID tt0000402\n",
      "Downloaded poster for movie ID tt0000403\n"
     ]
    },
    {
     "name": "stderr",
     "output_type": "stream",
     "text": [
      "Downloading posters:  41%|████      | 406/1000 [00:52<00:51, 11.46it/s]"
     ]
    },
    {
     "name": "stdout",
     "output_type": "stream",
     "text": [
      "Downloaded poster for movie ID tt0000404\n",
      "Downloaded poster for movie ID tt0000405\n",
      "Downloaded poster for movie ID tt0000406\n",
      "Downloaded poster for movie ID tt0000407\n"
     ]
    },
    {
     "name": "stderr",
     "output_type": "stream",
     "text": [
      "Downloading posters:  41%|████      | 408/1000 [00:52<01:24,  7.03it/s]"
     ]
    },
    {
     "name": "stdout",
     "output_type": "stream",
     "text": [
      "Downloaded poster for movie ID tt0000408\n",
      "Downloaded poster for movie ID tt0000409\n"
     ]
    },
    {
     "name": "stderr",
     "output_type": "stream",
     "text": [
      "Downloading posters:  41%|████      | 410/1000 [00:53<01:28,  6.67it/s]"
     ]
    },
    {
     "name": "stdout",
     "output_type": "stream",
     "text": [
      "Downloaded poster for movie ID tt0000410\n",
      "Downloaded poster for movie ID tt0000411\n"
     ]
    },
    {
     "name": "stderr",
     "output_type": "stream",
     "text": [
      "Downloading posters:  41%|████      | 412/1000 [00:53<01:31,  6.46it/s]"
     ]
    },
    {
     "name": "stdout",
     "output_type": "stream",
     "text": [
      "Downloaded poster for movie ID tt0000412\n"
     ]
    },
    {
     "name": "stderr",
     "output_type": "stream",
     "text": [
      "Downloading posters:  41%|████▏     | 413/1000 [00:53<01:40,  5.86it/s]"
     ]
    },
    {
     "name": "stdout",
     "output_type": "stream",
     "text": [
      "Downloaded poster for movie ID tt0000413\n"
     ]
    },
    {
     "name": "stderr",
     "output_type": "stream",
     "text": [
      "Downloading posters:  42%|████▏     | 416/1000 [00:54<01:25,  6.83it/s]"
     ]
    },
    {
     "name": "stdout",
     "output_type": "stream",
     "text": [
      "Downloaded poster for movie ID tt0000414\n",
      "Downloaded poster for movie ID tt0000415\n",
      "Downloaded poster for movie ID tt0000416\n",
      "Downloaded poster for movie ID tt0000417\n"
     ]
    },
    {
     "name": "stderr",
     "output_type": "stream",
     "text": [
      "Downloading posters:  42%|████▏     | 420/1000 [00:54<00:58,  9.90it/s]"
     ]
    },
    {
     "name": "stdout",
     "output_type": "stream",
     "text": [
      "Downloaded poster for movie ID tt0000418\n",
      "Downloaded poster for movie ID tt0000419\n",
      "Downloaded poster for movie ID tt0000420\n",
      "Downloaded poster for movie ID tt0000421\n"
     ]
    },
    {
     "name": "stderr",
     "output_type": "stream",
     "text": [
      "Downloading posters:  42%|████▏     | 422/1000 [00:55<01:30,  6.38it/s]"
     ]
    },
    {
     "name": "stdout",
     "output_type": "stream",
     "text": [
      "Failed to download poster for movie ID tt0000422\n"
     ]
    },
    {
     "name": "stderr",
     "output_type": "stream",
     "text": [
      "Downloading posters:  42%|████▎     | 425/1000 [00:55<01:18,  7.37it/s]"
     ]
    },
    {
     "name": "stdout",
     "output_type": "stream",
     "text": [
      "Downloaded poster for movie ID tt0000423\n",
      "Downloaded poster for movie ID tt0000424\n",
      "Downloaded poster for movie ID tt0000425\n"
     ]
    },
    {
     "name": "stderr",
     "output_type": "stream",
     "text": [
      "Downloading posters:  43%|████▎     | 427/1000 [00:55<01:23,  6.87it/s]"
     ]
    },
    {
     "name": "stdout",
     "output_type": "stream",
     "text": [
      "Failed to download poster for movie ID tt0000426\n",
      "Downloaded poster for movie ID tt0000427\n",
      "Downloaded poster for movie ID tt0000428\n"
     ]
    },
    {
     "name": "stderr",
     "output_type": "stream",
     "text": [
      "Downloading posters:  43%|████▎     | 431/1000 [00:56<01:14,  7.62it/s]"
     ]
    },
    {
     "name": "stdout",
     "output_type": "stream",
     "text": [
      "Failed to download poster for movie ID tt0000429\n",
      "Downloaded poster for movie ID tt0000430\n",
      "Downloaded poster for movie ID tt0000431\n",
      "Failed to download poster for movie ID tt0000432\n"
     ]
    },
    {
     "name": "stderr",
     "output_type": "stream",
     "text": [
      "Downloading posters:  43%|████▎     | 433/1000 [00:56<01:39,  5.68it/s]"
     ]
    },
    {
     "name": "stdout",
     "output_type": "stream",
     "text": [
      "Downloaded poster for movie ID tt0000433\n"
     ]
    },
    {
     "name": "stderr",
     "output_type": "stream",
     "text": [
      "Downloading posters:  43%|████▎     | 434/1000 [00:57<01:47,  5.28it/s]"
     ]
    },
    {
     "name": "stdout",
     "output_type": "stream",
     "text": [
      "Downloaded poster for movie ID tt0000434\n"
     ]
    },
    {
     "name": "stderr",
     "output_type": "stream",
     "text": [
      "Downloading posters:  44%|████▎     | 437/1000 [00:57<01:26,  6.47it/s]"
     ]
    },
    {
     "name": "stdout",
     "output_type": "stream",
     "text": [
      "Failed to download poster for movie ID tt0000435\n",
      "Downloaded poster for movie ID tt0000436\n",
      "Downloaded poster for movie ID tt0000437\n",
      "Downloaded poster for movie ID tt0000438\n"
     ]
    },
    {
     "name": "stderr",
     "output_type": "stream",
     "text": [
      "Downloading posters:  44%|████▍     | 441/1000 [00:57<00:58,  9.58it/s]"
     ]
    },
    {
     "name": "stdout",
     "output_type": "stream",
     "text": [
      "Downloaded poster for movie ID tt0000439\n",
      "Downloaded poster for movie ID tt0000440\n",
      "Downloaded poster for movie ID tt0000441\n",
      "Downloaded poster for movie ID tt0000442\n"
     ]
    },
    {
     "name": "stderr",
     "output_type": "stream",
     "text": [
      "Downloading posters:  44%|████▍     | 443/1000 [00:58<01:25,  6.48it/s]"
     ]
    },
    {
     "name": "stdout",
     "output_type": "stream",
     "text": [
      "Failed to download poster for movie ID tt0000443\n",
      "Downloaded poster for movie ID tt0000444\n"
     ]
    },
    {
     "name": "stderr",
     "output_type": "stream",
     "text": [
      "Downloading posters:  44%|████▍     | 445/1000 [00:58<01:28,  6.29it/s]"
     ]
    },
    {
     "name": "stdout",
     "output_type": "stream",
     "text": [
      "Downloaded poster for movie ID tt0000445\n",
      "Downloaded poster for movie ID tt0000446\n"
     ]
    },
    {
     "name": "stderr",
     "output_type": "stream",
     "text": [
      "Downloading posters:  45%|████▍     | 449/1000 [00:59<01:13,  7.51it/s]"
     ]
    },
    {
     "name": "stdout",
     "output_type": "stream",
     "text": [
      "Downloaded poster for movie ID tt0000447\n",
      "Downloaded poster for movie ID tt0000448\n",
      "Downloaded poster for movie ID tt0000449\n"
     ]
    },
    {
     "name": "stderr",
     "output_type": "stream",
     "text": [
      "Downloading posters:  45%|████▌     | 452/1000 [00:59<01:11,  7.71it/s]"
     ]
    },
    {
     "name": "stdout",
     "output_type": "stream",
     "text": [
      "Downloaded poster for movie ID tt0000450\n",
      "Downloaded poster for movie ID tt0000451\n",
      "Downloaded poster for movie ID tt0000452\n"
     ]
    },
    {
     "name": "stderr",
     "output_type": "stream",
     "text": [
      "Downloading posters:  46%|████▌     | 456/1000 [00:59<00:53, 10.22it/s]"
     ]
    },
    {
     "name": "stdout",
     "output_type": "stream",
     "text": [
      "Downloaded poster for movie ID tt0000453\n",
      "Downloaded poster for movie ID tt0000454\n",
      "Downloaded poster for movie ID tt0000455\n",
      "Downloaded poster for movie ID tt0000456\n"
     ]
    },
    {
     "name": "stderr",
     "output_type": "stream",
     "text": [
      "Downloading posters:  46%|████▌     | 458/1000 [00:59<00:49, 10.98it/s]"
     ]
    },
    {
     "name": "stdout",
     "output_type": "stream",
     "text": [
      "Downloaded poster for movie ID tt0000457\n",
      "Downloaded poster for movie ID tt0000458\n",
      "Downloaded poster for movie ID tt0000459\n"
     ]
    },
    {
     "name": "stderr",
     "output_type": "stream",
     "text": [
      "Downloading posters:  46%|████▌     | 462/1000 [01:00<00:41, 12.88it/s]"
     ]
    },
    {
     "name": "stdout",
     "output_type": "stream",
     "text": [
      "Downloaded poster for movie ID tt0000460\n",
      "Downloaded poster for movie ID tt0000461\n",
      "Downloaded poster for movie ID tt0000462\n",
      "Downloaded poster for movie ID tt0000463\n"
     ]
    },
    {
     "name": "stderr",
     "output_type": "stream",
     "text": [
      "Downloading posters:  47%|████▋     | 466/1000 [01:00<00:49, 10.86it/s]"
     ]
    },
    {
     "name": "stdout",
     "output_type": "stream",
     "text": [
      "Downloaded poster for movie ID tt0000464\n",
      "Downloaded poster for movie ID tt0000465\n",
      "Downloaded poster for movie ID tt0000466\n",
      "Downloaded poster for movie ID tt0000467\n"
     ]
    },
    {
     "name": "stderr",
     "output_type": "stream",
     "text": [
      "Downloading posters:  47%|████▋     | 470/1000 [01:00<00:43, 12.26it/s]"
     ]
    },
    {
     "name": "stdout",
     "output_type": "stream",
     "text": [
      "Downloaded poster for movie ID tt0000468\n",
      "Downloaded poster for movie ID tt0000469\n",
      "Downloaded poster for movie ID tt0000470\n"
     ]
    },
    {
     "name": "stderr",
     "output_type": "stream",
     "text": [
      "Downloading posters:  47%|████▋     | 472/1000 [01:01<00:40, 12.97it/s]"
     ]
    },
    {
     "name": "stdout",
     "output_type": "stream",
     "text": [
      "Downloaded poster for movie ID tt0000471\n",
      "Downloaded poster for movie ID tt0000472\n",
      "Downloaded poster for movie ID tt0000473\n"
     ]
    },
    {
     "name": "stderr",
     "output_type": "stream",
     "text": [
      "Downloading posters:  48%|████▊     | 476/1000 [01:01<00:38, 13.77it/s]"
     ]
    },
    {
     "name": "stdout",
     "output_type": "stream",
     "text": [
      "Downloaded poster for movie ID tt0000474\n",
      "Downloaded poster for movie ID tt0000475\n",
      "Downloaded poster for movie ID tt0000476\n"
     ]
    },
    {
     "name": "stderr",
     "output_type": "stream",
     "text": [
      "Downloading posters:  48%|████▊     | 478/1000 [01:01<00:37, 13.96it/s]"
     ]
    },
    {
     "name": "stdout",
     "output_type": "stream",
     "text": [
      "Downloaded poster for movie ID tt0000477\n",
      "Downloaded poster for movie ID tt0000478\n",
      "Downloaded poster for movie ID tt0000479\n"
     ]
    },
    {
     "name": "stderr",
     "output_type": "stream",
     "text": [
      "Downloading posters:  48%|████▊     | 480/1000 [01:01<00:36, 14.27it/s]"
     ]
    },
    {
     "name": "stdout",
     "output_type": "stream",
     "text": [
      "Downloaded poster for movie ID tt0000480\n"
     ]
    },
    {
     "name": "stderr",
     "output_type": "stream",
     "text": [
      "Downloading posters:  48%|████▊     | 482/1000 [01:02<00:53,  9.59it/s]"
     ]
    },
    {
     "name": "stdout",
     "output_type": "stream",
     "text": [
      "Failed to download poster for movie ID tt0000481\n",
      "Downloaded poster for movie ID tt0000482\n",
      "Downloaded poster for movie ID tt0000483\n",
      "Downloaded poster for movie ID tt0000484\n"
     ]
    },
    {
     "name": "stderr",
     "output_type": "stream",
     "text": [
      "Downloading posters:  49%|████▊     | 486/1000 [01:02<00:44, 11.43it/s]"
     ]
    },
    {
     "name": "stdout",
     "output_type": "stream",
     "text": [
      "Downloaded poster for movie ID tt0000485\n",
      "Downloaded poster for movie ID tt0000486\n",
      "Downloaded poster for movie ID tt0000487\n",
      "Downloaded poster for movie ID tt0000488\n"
     ]
    },
    {
     "name": "stderr",
     "output_type": "stream",
     "text": [
      "Downloading posters:  49%|████▉     | 490/1000 [01:02<00:39, 12.96it/s]"
     ]
    },
    {
     "name": "stdout",
     "output_type": "stream",
     "text": [
      "Downloaded poster for movie ID tt0000489\n",
      "Downloaded poster for movie ID tt0000490\n",
      "Downloaded poster for movie ID tt0000491\n",
      "Downloaded poster for movie ID tt0000492\n"
     ]
    },
    {
     "name": "stderr",
     "output_type": "stream",
     "text": [
      "Downloading posters:  49%|████▉     | 494/1000 [01:02<00:36, 13.96it/s]"
     ]
    },
    {
     "name": "stdout",
     "output_type": "stream",
     "text": [
      "Downloaded poster for movie ID tt0000493\n",
      "Downloaded poster for movie ID tt0000494\n",
      "Downloaded poster for movie ID tt0000495\n",
      "Downloaded poster for movie ID tt0000496\n"
     ]
    },
    {
     "name": "stderr",
     "output_type": "stream",
     "text": [
      "Downloading posters:  50%|████▉     | 496/1000 [01:02<00:34, 14.59it/s]"
     ]
    },
    {
     "name": "stdout",
     "output_type": "stream",
     "text": [
      "Downloaded poster for movie ID tt0000497\n"
     ]
    },
    {
     "name": "stderr",
     "output_type": "stream",
     "text": [
      "Downloading posters:  50%|████▉     | 498/1000 [01:03<00:51,  9.66it/s]"
     ]
    },
    {
     "name": "stdout",
     "output_type": "stream",
     "text": [
      "Downloaded poster for movie ID tt0000498\n",
      "Downloaded poster for movie ID tt0000499\n",
      "Downloaded poster for movie ID tt0000500\n"
     ]
    },
    {
     "name": "stderr",
     "output_type": "stream",
     "text": [
      "Downloading posters:  50%|█████     | 502/1000 [01:03<00:45, 10.90it/s]"
     ]
    },
    {
     "name": "stdout",
     "output_type": "stream",
     "text": [
      "Downloaded poster for movie ID tt0000501\n",
      "Downloaded poster for movie ID tt0000502\n",
      "Downloaded poster for movie ID tt0000503\n"
     ]
    },
    {
     "name": "stderr",
     "output_type": "stream",
     "text": [
      "Downloading posters:  51%|█████     | 506/1000 [01:03<00:40, 12.32it/s]"
     ]
    },
    {
     "name": "stdout",
     "output_type": "stream",
     "text": [
      "Downloaded poster for movie ID tt0000504\n",
      "Downloaded poster for movie ID tt0000505\n",
      "Downloaded poster for movie ID tt0000506\n",
      "Downloaded poster for movie ID tt0000507\n"
     ]
    },
    {
     "name": "stderr",
     "output_type": "stream",
     "text": [
      "Downloading posters:  51%|█████     | 510/1000 [01:04<00:36, 13.46it/s]"
     ]
    },
    {
     "name": "stdout",
     "output_type": "stream",
     "text": [
      "Downloaded poster for movie ID tt0000508\n",
      "Downloaded poster for movie ID tt0000509\n",
      "Downloaded poster for movie ID tt0000510\n"
     ]
    },
    {
     "name": "stderr",
     "output_type": "stream",
     "text": [
      "Downloading posters:  51%|█████     | 512/1000 [01:04<00:35, 13.56it/s]"
     ]
    },
    {
     "name": "stdout",
     "output_type": "stream",
     "text": [
      "Downloaded poster for movie ID tt0000511\n",
      "Downloaded poster for movie ID tt0000512\n",
      "Downloaded poster for movie ID tt0000513\n"
     ]
    },
    {
     "name": "stderr",
     "output_type": "stream",
     "text": [
      "Downloading posters:  52%|█████▏    | 516/1000 [01:04<00:36, 13.11it/s]"
     ]
    },
    {
     "name": "stdout",
     "output_type": "stream",
     "text": [
      "Downloaded poster for movie ID tt0000514\n",
      "Downloaded poster for movie ID tt0000515\n",
      "Downloaded poster for movie ID tt0000516\n"
     ]
    },
    {
     "name": "stderr",
     "output_type": "stream",
     "text": [
      "Downloading posters:  52%|█████▏    | 518/1000 [01:04<00:35, 13.68it/s]"
     ]
    },
    {
     "name": "stdout",
     "output_type": "stream",
     "text": [
      "Downloaded poster for movie ID tt0000517\n",
      "Downloaded poster for movie ID tt0000518\n",
      "Downloaded poster for movie ID tt0000519\n"
     ]
    },
    {
     "name": "stderr",
     "output_type": "stream",
     "text": [
      "Downloading posters:  52%|█████▏    | 522/1000 [01:05<00:35, 13.45it/s]"
     ]
    },
    {
     "name": "stdout",
     "output_type": "stream",
     "text": [
      "Downloaded poster for movie ID tt0000520\n",
      "Downloaded poster for movie ID tt0000521\n",
      "Downloaded poster for movie ID tt0000522\n"
     ]
    },
    {
     "name": "stderr",
     "output_type": "stream",
     "text": [
      "Downloading posters:  52%|█████▏    | 524/1000 [01:05<00:35, 13.38it/s]"
     ]
    },
    {
     "name": "stdout",
     "output_type": "stream",
     "text": [
      "Downloaded poster for movie ID tt0000523\n",
      "Downloaded poster for movie ID tt0000524\n",
      "Downloaded poster for movie ID tt0000525\n"
     ]
    },
    {
     "name": "stderr",
     "output_type": "stream",
     "text": [
      "Downloading posters:  53%|█████▎    | 528/1000 [01:05<00:33, 14.24it/s]"
     ]
    },
    {
     "name": "stdout",
     "output_type": "stream",
     "text": [
      "Downloaded poster for movie ID tt0000526\n",
      "Downloaded poster for movie ID tt0000527\n",
      "Downloaded poster for movie ID tt0000528\n",
      "Downloaded poster for movie ID tt0000529\n"
     ]
    },
    {
     "name": "stderr",
     "output_type": "stream",
     "text": [
      "Downloading posters:  53%|█████▎    | 532/1000 [01:05<00:32, 14.19it/s]"
     ]
    },
    {
     "name": "stdout",
     "output_type": "stream",
     "text": [
      "Downloaded poster for movie ID tt0000530\n",
      "Downloaded poster for movie ID tt0000531\n",
      "Downloaded poster for movie ID tt0000532\n",
      "Downloaded poster for movie ID tt0000533\n"
     ]
    },
    {
     "name": "stderr",
     "output_type": "stream",
     "text": [
      "Downloading posters:  54%|█████▎    | 536/1000 [01:06<00:32, 14.40it/s]"
     ]
    },
    {
     "name": "stdout",
     "output_type": "stream",
     "text": [
      "Downloaded poster for movie ID tt0000534\n",
      "Downloaded poster for movie ID tt0000535\n",
      "Downloaded poster for movie ID tt0000536\n",
      "Downloaded poster for movie ID tt0000537\n"
     ]
    },
    {
     "name": "stderr",
     "output_type": "stream",
     "text": [
      "Downloading posters:  54%|█████▍    | 540/1000 [01:06<00:30, 14.87it/s]"
     ]
    },
    {
     "name": "stdout",
     "output_type": "stream",
     "text": [
      "Downloaded poster for movie ID tt0000538\n",
      "Downloaded poster for movie ID tt0000539\n",
      "Downloaded poster for movie ID tt0000540\n",
      "Downloaded poster for movie ID tt0000541\n"
     ]
    },
    {
     "name": "stderr",
     "output_type": "stream",
     "text": [
      "Downloading posters:  54%|█████▍    | 544/1000 [01:06<00:32, 13.94it/s]"
     ]
    },
    {
     "name": "stdout",
     "output_type": "stream",
     "text": [
      "Downloaded poster for movie ID tt0000542\n",
      "Downloaded poster for movie ID tt0000543\n",
      "Downloaded poster for movie ID tt0000544\n"
     ]
    },
    {
     "name": "stderr",
     "output_type": "stream",
     "text": [
      "Downloading posters:  55%|█████▍    | 546/1000 [01:06<00:31, 14.29it/s]"
     ]
    },
    {
     "name": "stdout",
     "output_type": "stream",
     "text": [
      "Downloaded poster for movie ID tt0000545\n",
      "Downloaded poster for movie ID tt0000546\n"
     ]
    },
    {
     "name": "stderr",
     "output_type": "stream",
     "text": [
      "Downloading posters:  55%|█████▍    | 548/1000 [01:07<00:46,  9.81it/s]"
     ]
    },
    {
     "name": "stdout",
     "output_type": "stream",
     "text": [
      "Failed to download poster for movie ID tt0000547\n",
      "Downloaded poster for movie ID tt0000548\n",
      "Downloaded poster for movie ID tt0000549\n",
      "Downloaded poster for movie ID tt0000550\n"
     ]
    },
    {
     "name": "stderr",
     "output_type": "stream",
     "text": [
      "Downloading posters:  55%|█████▌    | 552/1000 [01:07<00:38, 11.58it/s]"
     ]
    },
    {
     "name": "stdout",
     "output_type": "stream",
     "text": [
      "Downloaded poster for movie ID tt0000551\n",
      "Downloaded poster for movie ID tt0000552\n",
      "Downloaded poster for movie ID tt0000553\n"
     ]
    },
    {
     "name": "stderr",
     "output_type": "stream",
     "text": [
      "Downloading posters:  56%|█████▌    | 556/1000 [01:07<00:34, 12.84it/s]"
     ]
    },
    {
     "name": "stdout",
     "output_type": "stream",
     "text": [
      "Downloaded poster for movie ID tt0000554\n",
      "Downloaded poster for movie ID tt0000555\n",
      "Downloaded poster for movie ID tt0000556\n",
      "Downloaded poster for movie ID tt0000557\n"
     ]
    },
    {
     "name": "stderr",
     "output_type": "stream",
     "text": [
      "Downloading posters:  56%|█████▌    | 560/1000 [01:08<00:32, 13.42it/s]"
     ]
    },
    {
     "name": "stdout",
     "output_type": "stream",
     "text": [
      "Downloaded poster for movie ID tt0000558\n",
      "Downloaded poster for movie ID tt0000559\n",
      "Downloaded poster for movie ID tt0000560\n"
     ]
    },
    {
     "name": "stderr",
     "output_type": "stream",
     "text": [
      "Downloading posters:  56%|█████▌    | 562/1000 [01:08<00:44,  9.85it/s]"
     ]
    },
    {
     "name": "stdout",
     "output_type": "stream",
     "text": [
      "Failed to download poster for movie ID tt0000561\n",
      "Downloaded poster for movie ID tt0000562\n",
      "Downloaded poster for movie ID tt0000563\n"
     ]
    },
    {
     "name": "stderr",
     "output_type": "stream",
     "text": [
      "Downloading posters:  57%|█████▋    | 566/1000 [01:08<00:36, 11.81it/s]"
     ]
    },
    {
     "name": "stdout",
     "output_type": "stream",
     "text": [
      "Downloaded poster for movie ID tt0000564\n",
      "Downloaded poster for movie ID tt0000565\n",
      "Downloaded poster for movie ID tt0000566\n"
     ]
    },
    {
     "name": "stderr",
     "output_type": "stream",
     "text": [
      "Downloading posters:  57%|█████▋    | 568/1000 [01:08<00:41, 10.52it/s]"
     ]
    },
    {
     "name": "stdout",
     "output_type": "stream",
     "text": [
      "Downloaded poster for movie ID tt0000567\n",
      "Downloaded poster for movie ID tt0000568\n",
      "Downloaded poster for movie ID tt0000569\n",
      "Downloaded poster for movie ID tt0000570\n"
     ]
    },
    {
     "name": "stderr",
     "output_type": "stream",
     "text": [
      "Downloading posters:  57%|█████▋    | 572/1000 [01:09<00:34, 12.42it/s]"
     ]
    },
    {
     "name": "stdout",
     "output_type": "stream",
     "text": [
      "Downloaded poster for movie ID tt0000571\n",
      "Downloaded poster for movie ID tt0000572\n",
      "Downloaded poster for movie ID tt0000573\n"
     ]
    },
    {
     "name": "stderr",
     "output_type": "stream",
     "text": [
      "Downloading posters:  58%|█████▊    | 576/1000 [01:09<00:31, 13.37it/s]"
     ]
    },
    {
     "name": "stdout",
     "output_type": "stream",
     "text": [
      "Downloaded poster for movie ID tt0000574\n",
      "Downloaded poster for movie ID tt0000575\n",
      "Downloaded poster for movie ID tt0000576\n",
      "Downloaded poster for movie ID tt0000577\n"
     ]
    },
    {
     "name": "stderr",
     "output_type": "stream",
     "text": [
      "Downloading posters:  58%|█████▊    | 580/1000 [01:09<00:35, 11.84it/s]"
     ]
    },
    {
     "name": "stdout",
     "output_type": "stream",
     "text": [
      "Downloaded poster for movie ID tt0000578\n",
      "Downloaded poster for movie ID tt0000579\n",
      "Downloaded poster for movie ID tt0000580\n"
     ]
    },
    {
     "name": "stderr",
     "output_type": "stream",
     "text": [
      "Downloading posters:  58%|█████▊    | 582/1000 [01:09<00:32, 12.71it/s]"
     ]
    },
    {
     "name": "stdout",
     "output_type": "stream",
     "text": [
      "Downloaded poster for movie ID tt0000581\n",
      "Downloaded poster for movie ID tt0000582\n",
      "Downloaded poster for movie ID tt0000583\n",
      "Downloaded poster for movie ID tt0000584\n"
     ]
    },
    {
     "name": "stderr",
     "output_type": "stream",
     "text": [
      "Downloading posters:  59%|█████▊    | 586/1000 [01:10<00:29, 13.92it/s]"
     ]
    },
    {
     "name": "stdout",
     "output_type": "stream",
     "text": [
      "Downloaded poster for movie ID tt0000585\n",
      "Downloaded poster for movie ID tt0000586\n",
      "Downloaded poster for movie ID tt0000587\n"
     ]
    },
    {
     "name": "stderr",
     "output_type": "stream",
     "text": [
      "Downloading posters:  59%|█████▉    | 590/1000 [01:10<00:28, 14.49it/s]"
     ]
    },
    {
     "name": "stdout",
     "output_type": "stream",
     "text": [
      "Downloaded poster for movie ID tt0000588\n",
      "Downloaded poster for movie ID tt0000589\n",
      "Downloaded poster for movie ID tt0000590\n",
      "Downloaded poster for movie ID tt0000591\n"
     ]
    },
    {
     "name": "stderr",
     "output_type": "stream",
     "text": [
      "Downloading posters:  59%|█████▉    | 594/1000 [01:10<00:26, 15.08it/s]"
     ]
    },
    {
     "name": "stdout",
     "output_type": "stream",
     "text": [
      "Downloaded poster for movie ID tt0000592\n",
      "Downloaded poster for movie ID tt0000593\n",
      "Downloaded poster for movie ID tt0000594\n",
      "Downloaded poster for movie ID tt0000595\n"
     ]
    },
    {
     "name": "stderr",
     "output_type": "stream",
     "text": [
      "Downloading posters:  60%|█████▉    | 598/1000 [01:10<00:28, 14.24it/s]"
     ]
    },
    {
     "name": "stdout",
     "output_type": "stream",
     "text": [
      "Downloaded poster for movie ID tt0000596\n",
      "Downloaded poster for movie ID tt0000597\n",
      "Downloaded poster for movie ID tt0000598\n"
     ]
    },
    {
     "name": "stderr",
     "output_type": "stream",
     "text": [
      "Downloading posters:  60%|██████    | 600/1000 [01:11<00:39, 10.19it/s]"
     ]
    },
    {
     "name": "stdout",
     "output_type": "stream",
     "text": [
      "Downloaded poster for movie ID tt0000599\n",
      "Downloaded poster for movie ID tt0000600\n",
      "Downloaded poster for movie ID tt0000601\n",
      "Downloaded poster for movie ID tt0000602\n"
     ]
    },
    {
     "name": "stderr",
     "output_type": "stream",
     "text": [
      "Downloading posters:  60%|██████    | 604/1000 [01:11<00:45,  8.78it/s]"
     ]
    },
    {
     "name": "stdout",
     "output_type": "stream",
     "text": [
      "Downloaded poster for movie ID tt0000603\n",
      "Downloaded poster for movie ID tt0000604\n",
      "Downloaded poster for movie ID tt0000605\n"
     ]
    },
    {
     "name": "stderr",
     "output_type": "stream",
     "text": [
      "Downloading posters:  61%|██████    | 608/1000 [01:12<00:35, 11.03it/s]"
     ]
    },
    {
     "name": "stdout",
     "output_type": "stream",
     "text": [
      "Downloaded poster for movie ID tt0000606\n",
      "Downloaded poster for movie ID tt0000607\n",
      "Downloaded poster for movie ID tt0000608\n"
     ]
    },
    {
     "name": "stderr",
     "output_type": "stream",
     "text": [
      "Downloading posters:  61%|██████    | 610/1000 [01:12<00:44,  8.73it/s]"
     ]
    },
    {
     "name": "stdout",
     "output_type": "stream",
     "text": [
      "Downloaded poster for movie ID tt0000609\n",
      "Downloaded poster for movie ID tt0000610\n",
      "Downloaded poster for movie ID tt0000611\n"
     ]
    },
    {
     "name": "stderr",
     "output_type": "stream",
     "text": [
      "Downloading posters:  61%|██████▏   | 614/1000 [01:12<00:35, 10.80it/s]"
     ]
    },
    {
     "name": "stdout",
     "output_type": "stream",
     "text": [
      "Downloaded poster for movie ID tt0000612\n",
      "Downloaded poster for movie ID tt0000613\n",
      "Downloaded poster for movie ID tt0000614\n",
      "Downloaded poster for movie ID tt0000615\n"
     ]
    },
    {
     "name": "stderr",
     "output_type": "stream",
     "text": [
      "Downloading posters:  62%|██████▏   | 618/1000 [01:13<00:38,  9.87it/s]"
     ]
    },
    {
     "name": "stdout",
     "output_type": "stream",
     "text": [
      "Downloaded poster for movie ID tt0000616\n",
      "Downloaded poster for movie ID tt0000617\n",
      "Downloaded poster for movie ID tt0000618\n",
      "Downloaded poster for movie ID tt0000619\n"
     ]
    },
    {
     "name": "stderr",
     "output_type": "stream",
     "text": [
      "Downloading posters:  62%|██████▏   | 622/1000 [01:13<00:32, 11.63it/s]"
     ]
    },
    {
     "name": "stdout",
     "output_type": "stream",
     "text": [
      "Downloaded poster for movie ID tt0000620\n",
      "Downloaded poster for movie ID tt0000621\n",
      "Downloaded poster for movie ID tt0000622\n",
      "Downloaded poster for movie ID tt0000623\n"
     ]
    },
    {
     "name": "stderr",
     "output_type": "stream",
     "text": [
      "Downloading posters:  63%|██████▎   | 626/1000 [01:13<00:27, 13.51it/s]"
     ]
    },
    {
     "name": "stdout",
     "output_type": "stream",
     "text": [
      "Downloaded poster for movie ID tt0000624\n",
      "Downloaded poster for movie ID tt0000625\n",
      "Downloaded poster for movie ID tt0000626\n",
      "Downloaded poster for movie ID tt0000627\n"
     ]
    },
    {
     "name": "stderr",
     "output_type": "stream",
     "text": [
      "Downloading posters:  63%|██████▎   | 630/1000 [01:13<00:26, 14.17it/s]"
     ]
    },
    {
     "name": "stdout",
     "output_type": "stream",
     "text": [
      "Downloaded poster for movie ID tt0000628\n",
      "Downloaded poster for movie ID tt0000629\n",
      "Downloaded poster for movie ID tt0000630\n",
      "Downloaded poster for movie ID tt0000631\n"
     ]
    },
    {
     "name": "stderr",
     "output_type": "stream",
     "text": [
      "Downloading posters:  63%|██████▎   | 634/1000 [01:14<00:32, 11.10it/s]"
     ]
    },
    {
     "name": "stdout",
     "output_type": "stream",
     "text": [
      "Downloaded poster for movie ID tt0000632\n",
      "Downloaded poster for movie ID tt0000633\n",
      "Downloaded poster for movie ID tt0000634\n",
      "Downloaded poster for movie ID tt0000635\n"
     ]
    },
    {
     "name": "stderr",
     "output_type": "stream",
     "text": [
      "Downloading posters:  64%|██████▎   | 636/1000 [01:14<00:31, 11.70it/s]"
     ]
    },
    {
     "name": "stdout",
     "output_type": "stream",
     "text": [
      "Downloaded poster for movie ID tt0000636\n",
      "Downloaded poster for movie ID tt0000637\n"
     ]
    },
    {
     "name": "stderr",
     "output_type": "stream",
     "text": [
      "Downloading posters:  64%|██████▍   | 638/1000 [01:14<00:39,  9.12it/s]"
     ]
    },
    {
     "name": "stdout",
     "output_type": "stream",
     "text": [
      "Downloaded poster for movie ID tt0000638\n",
      "Downloaded poster for movie ID tt0000639\n"
     ]
    },
    {
     "name": "stderr",
     "output_type": "stream",
     "text": [
      "Downloading posters:  64%|██████▍   | 640/1000 [01:15<00:46,  7.81it/s]"
     ]
    },
    {
     "name": "stdout",
     "output_type": "stream",
     "text": [
      "Downloaded poster for movie ID tt0000640\n"
     ]
    },
    {
     "name": "stderr",
     "output_type": "stream",
     "text": [
      "Downloading posters:  64%|██████▍   | 643/1000 [01:15<00:44,  7.97it/s]"
     ]
    },
    {
     "name": "stdout",
     "output_type": "stream",
     "text": [
      "Downloaded poster for movie ID tt0000641\n",
      "Downloaded poster for movie ID tt0000642\n",
      "Downloaded poster for movie ID tt0000643\n",
      "Downloaded poster for movie ID tt0000644\n"
     ]
    },
    {
     "name": "stderr",
     "output_type": "stream",
     "text": [
      "Downloading posters:  64%|██████▍   | 645/1000 [01:15<00:38,  9.12it/s]"
     ]
    },
    {
     "name": "stdout",
     "output_type": "stream",
     "text": [
      "Downloaded poster for movie ID tt0000645\n",
      "Downloaded poster for movie ID tt0000646\n"
     ]
    },
    {
     "name": "stderr",
     "output_type": "stream",
     "text": [
      "Downloading posters:  65%|██████▍   | 647/1000 [01:16<00:45,  7.76it/s]"
     ]
    },
    {
     "name": "stdout",
     "output_type": "stream",
     "text": [
      "Failed to download poster for movie ID tt0000647\n",
      "Downloaded poster for movie ID tt0000648\n"
     ]
    },
    {
     "name": "stderr",
     "output_type": "stream",
     "text": [
      "Downloading posters:  65%|██████▍   | 649/1000 [01:16<00:50,  7.01it/s]"
     ]
    },
    {
     "name": "stdout",
     "output_type": "stream",
     "text": [
      "Failed to download poster for movie ID tt0000649\n",
      "Downloaded poster for movie ID tt0000650\n"
     ]
    },
    {
     "name": "stderr",
     "output_type": "stream",
     "text": [
      "Downloading posters:  65%|██████▌   | 653/1000 [01:16<00:43,  7.98it/s]"
     ]
    },
    {
     "name": "stdout",
     "output_type": "stream",
     "text": [
      "Failed to download poster for movie ID tt0000651\n",
      "Downloaded poster for movie ID tt0000652\n",
      "Downloaded poster for movie ID tt0000653\n",
      "Downloaded poster for movie ID tt0000654\n"
     ]
    },
    {
     "name": "stderr",
     "output_type": "stream",
     "text": [
      "Downloading posters:  66%|██████▌   | 655/1000 [01:17<00:48,  7.11it/s]"
     ]
    },
    {
     "name": "stdout",
     "output_type": "stream",
     "text": [
      "Downloaded poster for movie ID tt0000655\n"
     ]
    },
    {
     "name": "stderr",
     "output_type": "stream",
     "text": [
      "Downloading posters:  66%|██████▌   | 658/1000 [01:17<00:48,  7.00it/s]"
     ]
    },
    {
     "name": "stdout",
     "output_type": "stream",
     "text": [
      "Downloaded poster for movie ID tt0000656\n",
      "Downloaded poster for movie ID tt0000657\n",
      "Downloaded poster for movie ID tt0000658\n"
     ]
    },
    {
     "name": "stderr",
     "output_type": "stream",
     "text": [
      "Downloading posters:  66%|██████▌   | 660/1000 [01:17<00:41,  8.27it/s]"
     ]
    },
    {
     "name": "stdout",
     "output_type": "stream",
     "text": [
      "Downloaded poster for movie ID tt0000659\n",
      "Downloaded poster for movie ID tt0000660\n",
      "Downloaded poster for movie ID tt0000661\n"
     ]
    },
    {
     "name": "stderr",
     "output_type": "stream",
     "text": [
      "Downloading posters:  66%|██████▋   | 664/1000 [01:18<00:32, 10.46it/s]"
     ]
    },
    {
     "name": "stdout",
     "output_type": "stream",
     "text": [
      "Downloaded poster for movie ID tt0000662\n",
      "Downloaded poster for movie ID tt0000663\n",
      "Downloaded poster for movie ID tt0000664\n",
      "Downloaded poster for movie ID tt0000665\n"
     ]
    },
    {
     "name": "stderr",
     "output_type": "stream",
     "text": [
      "Downloading posters:  67%|██████▋   | 666/1000 [01:18<00:29, 11.51it/s]"
     ]
    },
    {
     "name": "stdout",
     "output_type": "stream",
     "text": [
      "Downloaded poster for movie ID tt0000666\n",
      "Downloaded poster for movie ID tt0000667\n"
     ]
    },
    {
     "name": "stderr",
     "output_type": "stream",
     "text": [
      "Downloading posters:  67%|██████▋   | 670/1000 [01:18<00:32, 10.15it/s]"
     ]
    },
    {
     "name": "stdout",
     "output_type": "stream",
     "text": [
      "Downloaded poster for movie ID tt0000668\n",
      "Downloaded poster for movie ID tt0000669\n",
      "Downloaded poster for movie ID tt0000670\n",
      "Downloaded poster for movie ID tt0000671\n"
     ]
    },
    {
     "name": "stderr",
     "output_type": "stream",
     "text": [
      "Downloading posters:  67%|██████▋   | 672/1000 [01:19<00:39,  8.26it/s]"
     ]
    },
    {
     "name": "stdout",
     "output_type": "stream",
     "text": [
      "Downloaded poster for movie ID tt0000672\n"
     ]
    },
    {
     "name": "stderr",
     "output_type": "stream",
     "text": [
      "Downloading posters:  67%|██████▋   | 674/1000 [01:19<00:44,  7.32it/s]"
     ]
    },
    {
     "name": "stdout",
     "output_type": "stream",
     "text": [
      "Downloaded poster for movie ID tt0000673\n",
      "Downloaded poster for movie ID tt0000674\n"
     ]
    },
    {
     "name": "stderr",
     "output_type": "stream",
     "text": [
      "Downloading posters:  68%|██████▊   | 675/1000 [01:19<00:52,  6.21it/s]"
     ]
    },
    {
     "name": "stdout",
     "output_type": "stream",
     "text": [
      "Downloaded poster for movie ID tt0000675\n",
      "Downloaded poster for movie ID tt0000676\n"
     ]
    },
    {
     "name": "stderr",
     "output_type": "stream",
     "text": [
      "Downloading posters:  68%|██████▊   | 677/1000 [01:20<00:59,  5.39it/s]"
     ]
    },
    {
     "name": "stdout",
     "output_type": "stream",
     "text": [
      "Failed to download poster for movie ID tt0000677\n"
     ]
    },
    {
     "name": "stderr",
     "output_type": "stream",
     "text": [
      "Downloading posters:  68%|██████▊   | 680/1000 [01:20<00:48,  6.57it/s]"
     ]
    },
    {
     "name": "stdout",
     "output_type": "stream",
     "text": [
      "Downloaded poster for movie ID tt0000678\n",
      "Downloaded poster for movie ID tt0000679\n",
      "Downloaded poster for movie ID tt0000680\n"
     ]
    },
    {
     "name": "stderr",
     "output_type": "stream",
     "text": [
      "Downloading posters:  68%|██████▊   | 681/1000 [01:20<00:55,  5.78it/s]"
     ]
    },
    {
     "name": "stdout",
     "output_type": "stream",
     "text": [
      "Downloaded poster for movie ID tt0000681\n"
     ]
    },
    {
     "name": "stderr",
     "output_type": "stream",
     "text": [
      "Downloading posters:  68%|██████▊   | 684/1000 [01:21<00:44,  7.05it/s]"
     ]
    },
    {
     "name": "stdout",
     "output_type": "stream",
     "text": [
      "Downloaded poster for movie ID tt0000682\n",
      "Downloaded poster for movie ID tt0000683\n",
      "Downloaded poster for movie ID tt0000684\n"
     ]
    },
    {
     "name": "stderr",
     "output_type": "stream",
     "text": [
      "Downloading posters:  69%|██████▊   | 687/1000 [01:21<00:42,  7.39it/s]"
     ]
    },
    {
     "name": "stdout",
     "output_type": "stream",
     "text": [
      "Downloaded poster for movie ID tt0000685\n",
      "Downloaded poster for movie ID tt0000686\n",
      "Downloaded poster for movie ID tt0000687\n"
     ]
    },
    {
     "name": "stderr",
     "output_type": "stream",
     "text": [
      "Downloading posters:  69%|██████▉   | 688/1000 [01:22<00:52,  5.99it/s]"
     ]
    },
    {
     "name": "stdout",
     "output_type": "stream",
     "text": [
      "Downloaded poster for movie ID tt0000688\n",
      "Downloaded poster for movie ID tt0000689\n"
     ]
    },
    {
     "name": "stderr",
     "output_type": "stream",
     "text": [
      "Downloading posters:  69%|██████▉   | 690/1000 [01:22<00:51,  6.01it/s]"
     ]
    },
    {
     "name": "stdout",
     "output_type": "stream",
     "text": [
      "Failed to download poster for movie ID tt0000690\n"
     ]
    },
    {
     "name": "stderr",
     "output_type": "stream",
     "text": [
      "Downloading posters:  69%|██████▉   | 691/1000 [01:22<00:57,  5.33it/s]"
     ]
    },
    {
     "name": "stdout",
     "output_type": "stream",
     "text": [
      "Downloaded poster for movie ID tt0000691\n"
     ]
    },
    {
     "name": "stderr",
     "output_type": "stream",
     "text": [
      "Downloading posters:  69%|██████▉   | 692/1000 [01:22<01:04,  4.79it/s]"
     ]
    },
    {
     "name": "stdout",
     "output_type": "stream",
     "text": [
      "Downloaded poster for movie ID tt0000692\n",
      "Downloaded poster for movie ID tt0000693\n"
     ]
    },
    {
     "name": "stderr",
     "output_type": "stream",
     "text": [
      "Downloading posters:  69%|██████▉   | 694/1000 [01:23<00:58,  5.19it/s]"
     ]
    },
    {
     "name": "stdout",
     "output_type": "stream",
     "text": [
      "Downloaded poster for movie ID tt0000694\n"
     ]
    },
    {
     "name": "stderr",
     "output_type": "stream",
     "text": [
      "Downloading posters:  70%|██████▉   | 695/1000 [01:23<01:03,  4.79it/s]"
     ]
    },
    {
     "name": "stdout",
     "output_type": "stream",
     "text": [
      "Downloaded poster for movie ID tt0000695\n",
      "Downloaded poster for movie ID tt0000696\n"
     ]
    },
    {
     "name": "stderr",
     "output_type": "stream",
     "text": [
      "Downloading posters:  70%|██████▉   | 697/1000 [01:23<00:58,  5.18it/s]"
     ]
    },
    {
     "name": "stdout",
     "output_type": "stream",
     "text": [
      "Downloaded poster for movie ID tt0000697\n"
     ]
    },
    {
     "name": "stderr",
     "output_type": "stream",
     "text": [
      "Downloading posters:  70%|██████▉   | 698/1000 [01:24<01:04,  4.72it/s]"
     ]
    },
    {
     "name": "stdout",
     "output_type": "stream",
     "text": [
      "Failed to download poster for movie ID tt0000698\n"
     ]
    },
    {
     "name": "stderr",
     "output_type": "stream",
     "text": [
      "Downloading posters:  70%|██████▉   | 699/1000 [01:24<01:06,  4.56it/s]"
     ]
    },
    {
     "name": "stdout",
     "output_type": "stream",
     "text": [
      "Downloaded poster for movie ID tt0000699\n",
      "Downloaded poster for movie ID tt0000700\n"
     ]
    },
    {
     "name": "stderr",
     "output_type": "stream",
     "text": [
      "Downloading posters:  70%|███████   | 703/1000 [01:24<00:42,  7.00it/s]"
     ]
    },
    {
     "name": "stdout",
     "output_type": "stream",
     "text": [
      "Downloaded poster for movie ID tt0000701\n",
      "Downloaded poster for movie ID tt0000702\n",
      "Downloaded poster for movie ID tt0000703\n",
      "Downloaded poster for movie ID tt0000704\n",
      "Downloaded poster for movie ID tt0000705\n"
     ]
    },
    {
     "name": "stderr",
     "output_type": "stream",
     "text": [
      "Downloading posters:  71%|███████   | 708/1000 [01:25<00:32,  8.91it/s]"
     ]
    },
    {
     "name": "stdout",
     "output_type": "stream",
     "text": [
      "Downloaded poster for movie ID tt0000706\n",
      "Downloaded poster for movie ID tt0000707\n",
      "Downloaded poster for movie ID tt0000708\n",
      "Downloaded poster for movie ID tt0000709\n"
     ]
    },
    {
     "name": "stderr",
     "output_type": "stream",
     "text": [
      "Downloading posters:  71%|███████   | 710/1000 [01:25<00:46,  6.27it/s]"
     ]
    },
    {
     "name": "stdout",
     "output_type": "stream",
     "text": [
      "Failed to download poster for movie ID tt0000710\n"
     ]
    },
    {
     "name": "stderr",
     "output_type": "stream",
     "text": [
      "Downloading posters:  71%|███████   | 711/1000 [01:26<00:50,  5.74it/s]"
     ]
    },
    {
     "name": "stdout",
     "output_type": "stream",
     "text": [
      "Downloaded poster for movie ID tt0000711\n",
      "Downloaded poster for movie ID tt0000712\n"
     ]
    },
    {
     "name": "stderr",
     "output_type": "stream",
     "text": [
      "Downloading posters:  72%|███████▏  | 715/1000 [01:26<00:38,  7.34it/s]"
     ]
    },
    {
     "name": "stdout",
     "output_type": "stream",
     "text": [
      "Failed to download poster for movie ID tt0000713\n",
      "Downloaded poster for movie ID tt0000714\n",
      "Downloaded poster for movie ID tt0000715\n",
      "Downloaded poster for movie ID tt0000716\n"
     ]
    },
    {
     "name": "stderr",
     "output_type": "stream",
     "text": [
      "Downloading posters:  72%|███████▏  | 719/1000 [01:26<00:27, 10.36it/s]"
     ]
    },
    {
     "name": "stdout",
     "output_type": "stream",
     "text": [
      "Downloaded poster for movie ID tt0000717\n",
      "Downloaded poster for movie ID tt0000718\n",
      "Downloaded poster for movie ID tt0000719\n",
      "Downloaded poster for movie ID tt0000720\n"
     ]
    },
    {
     "name": "stderr",
     "output_type": "stream",
     "text": [
      "Downloading posters:  72%|███████▏  | 722/1000 [01:26<00:21, 12.89it/s]"
     ]
    },
    {
     "name": "stdout",
     "output_type": "stream",
     "text": [
      "Downloaded poster for movie ID tt0000721\n",
      "Downloaded poster for movie ID tt0000722\n"
     ]
    },
    {
     "name": "stderr",
     "output_type": "stream",
     "text": [
      "Downloading posters:  72%|███████▏  | 724/1000 [01:27<00:27, 10.15it/s]"
     ]
    },
    {
     "name": "stdout",
     "output_type": "stream",
     "text": [
      "Downloaded poster for movie ID tt0000723\n",
      "Downloaded poster for movie ID tt0000724\n",
      "Downloaded poster for movie ID tt0000725\n",
      "Downloaded poster for movie ID tt0000726\n"
     ]
    },
    {
     "name": "stderr",
     "output_type": "stream",
     "text": [
      "Downloading posters:  73%|███████▎  | 726/1000 [01:27<00:23, 11.45it/s]"
     ]
    },
    {
     "name": "stdout",
     "output_type": "stream",
     "text": [
      "Downloaded poster for movie ID tt0000727\n"
     ]
    },
    {
     "name": "stderr",
     "output_type": "stream",
     "text": [
      "Downloading posters:  73%|███████▎  | 730/1000 [01:27<00:24, 11.20it/s]"
     ]
    },
    {
     "name": "stdout",
     "output_type": "stream",
     "text": [
      "Downloaded poster for movie ID tt0000728\n",
      "Downloaded poster for movie ID tt0000729\n",
      "Downloaded poster for movie ID tt0000730\n",
      "Downloaded poster for movie ID tt0000731\n"
     ]
    },
    {
     "name": "stderr",
     "output_type": "stream",
     "text": [
      "Downloading posters:  73%|███████▎  | 733/1000 [01:27<00:19, 13.35it/s]"
     ]
    },
    {
     "name": "stdout",
     "output_type": "stream",
     "text": [
      "Downloaded poster for movie ID tt0000732\n",
      "Downloaded poster for movie ID tt0000733\n",
      "Downloaded poster for movie ID tt0000734\n",
      "Downloaded poster for movie ID tt0000735\n"
     ]
    },
    {
     "name": "stderr",
     "output_type": "stream",
     "text": [
      "Downloading posters:  74%|███████▍  | 738/1000 [01:28<00:16, 15.51it/s]"
     ]
    },
    {
     "name": "stdout",
     "output_type": "stream",
     "text": [
      "Downloaded poster for movie ID tt0000736\n",
      "Downloaded poster for movie ID tt0000737\n",
      "Downloaded poster for movie ID tt0000738\n",
      "Downloaded poster for movie ID tt0000739\n"
     ]
    },
    {
     "name": "stderr",
     "output_type": "stream",
     "text": [
      "Downloading posters:  74%|███████▍  | 742/1000 [01:28<00:21, 12.27it/s]"
     ]
    },
    {
     "name": "stdout",
     "output_type": "stream",
     "text": [
      "Downloaded poster for movie ID tt0000740\n",
      "Downloaded poster for movie ID tt0000741\n",
      "Downloaded poster for movie ID tt0000742\n",
      "Downloaded poster for movie ID tt0000743\n",
      "Downloaded poster for movie ID tt0000744\n"
     ]
    },
    {
     "name": "stderr",
     "output_type": "stream",
     "text": [
      "Downloading posters:  75%|███████▍  | 748/1000 [01:29<00:17, 14.70it/s]"
     ]
    },
    {
     "name": "stdout",
     "output_type": "stream",
     "text": [
      "Downloaded poster for movie ID tt0000745\n",
      "Downloaded poster for movie ID tt0000746\n",
      "Downloaded poster for movie ID tt0000747\n",
      "Downloaded poster for movie ID tt0000748\n"
     ]
    },
    {
     "name": "stderr",
     "output_type": "stream",
     "text": [
      "Downloading posters:  75%|███████▌  | 752/1000 [01:29<00:15, 15.67it/s]"
     ]
    },
    {
     "name": "stdout",
     "output_type": "stream",
     "text": [
      "Downloaded poster for movie ID tt0000749\n",
      "Downloaded poster for movie ID tt0000750\n",
      "Downloaded poster for movie ID tt0000751\n",
      "Downloaded poster for movie ID tt0000752\n"
     ]
    },
    {
     "name": "stderr",
     "output_type": "stream",
     "text": [
      "Downloading posters:  75%|███████▌  | 754/1000 [01:29<00:14, 16.48it/s]"
     ]
    },
    {
     "name": "stdout",
     "output_type": "stream",
     "text": [
      "Downloaded poster for movie ID tt0000753\n",
      "Downloaded poster for movie ID tt0000754\n"
     ]
    },
    {
     "name": "stderr",
     "output_type": "stream",
     "text": [
      "Downloading posters:  76%|███████▌  | 756/1000 [01:29<00:22, 10.74it/s]"
     ]
    },
    {
     "name": "stdout",
     "output_type": "stream",
     "text": [
      "Downloaded poster for movie ID tt0000755\n",
      "Downloaded poster for movie ID tt0000756\n",
      "Downloaded poster for movie ID tt0000757\n"
     ]
    },
    {
     "name": "stderr",
     "output_type": "stream",
     "text": [
      "Downloading posters:  76%|███████▌  | 758/1000 [01:30<00:27,  8.76it/s]"
     ]
    },
    {
     "name": "stdout",
     "output_type": "stream",
     "text": [
      "Downloaded poster for movie ID tt0000758\n"
     ]
    },
    {
     "name": "stderr",
     "output_type": "stream",
     "text": [
      "Downloading posters:  76%|███████▌  | 760/1000 [01:30<00:30,  7.90it/s]"
     ]
    },
    {
     "name": "stdout",
     "output_type": "stream",
     "text": [
      "Downloaded poster for movie ID tt0000759\n",
      "Downloaded poster for movie ID tt0000760\n",
      "Downloaded poster for movie ID tt0000761\n"
     ]
    },
    {
     "name": "stderr",
     "output_type": "stream",
     "text": [
      "Downloading posters:  76%|███████▌  | 762/1000 [01:30<00:32,  7.42it/s]"
     ]
    },
    {
     "name": "stdout",
     "output_type": "stream",
     "text": [
      "Downloaded poster for movie ID tt0000762\n"
     ]
    },
    {
     "name": "stderr",
     "output_type": "stream",
     "text": [
      "Downloading posters:  76%|███████▋  | 765/1000 [01:31<00:28,  8.20it/s]"
     ]
    },
    {
     "name": "stdout",
     "output_type": "stream",
     "text": [
      "Downloaded poster for movie ID tt0000763\n",
      "Downloaded poster for movie ID tt0000764\n",
      "Downloaded poster for movie ID tt0000765\n",
      "Downloaded poster for movie ID tt0000766\n"
     ]
    },
    {
     "name": "stderr",
     "output_type": "stream",
     "text": [
      "Downloading posters:  77%|███████▋  | 769/1000 [01:31<00:30,  7.54it/s]"
     ]
    },
    {
     "name": "stdout",
     "output_type": "stream",
     "text": [
      "Downloaded poster for movie ID tt0000767\n",
      "Downloaded poster for movie ID tt0000768\n",
      "Downloaded poster for movie ID tt0000769\n"
     ]
    },
    {
     "name": "stderr",
     "output_type": "stream",
     "text": [
      "Downloading posters:  77%|███████▋  | 771/1000 [01:31<00:32,  6.99it/s]"
     ]
    },
    {
     "name": "stdout",
     "output_type": "stream",
     "text": [
      "Downloaded poster for movie ID tt0000770\n",
      "Downloaded poster for movie ID tt0000771\n",
      "Downloaded poster for movie ID tt0000772\n"
     ]
    },
    {
     "name": "stderr",
     "output_type": "stream",
     "text": [
      "Downloading posters:  77%|███████▋  | 773/1000 [01:32<00:34,  6.56it/s]"
     ]
    },
    {
     "name": "stdout",
     "output_type": "stream",
     "text": [
      "Downloaded poster for movie ID tt0000773\n"
     ]
    },
    {
     "name": "stderr",
     "output_type": "stream",
     "text": [
      "Downloading posters:  77%|███████▋  | 774/1000 [01:32<00:39,  5.77it/s]"
     ]
    },
    {
     "name": "stdout",
     "output_type": "stream",
     "text": [
      "Downloaded poster for movie ID tt0000774\n"
     ]
    },
    {
     "name": "stderr",
     "output_type": "stream",
     "text": [
      "Downloading posters:  78%|███████▊  | 777/1000 [01:33<00:37,  5.97it/s]"
     ]
    },
    {
     "name": "stdout",
     "output_type": "stream",
     "text": [
      "Downloaded poster for movie ID tt0000775\n",
      "Downloaded poster for movie ID tt0000776\n",
      "Downloaded poster for movie ID tt0000777\n"
     ]
    },
    {
     "name": "stderr",
     "output_type": "stream",
     "text": [
      "Downloading posters:  78%|███████▊  | 778/1000 [01:33<00:41,  5.37it/s]"
     ]
    },
    {
     "name": "stdout",
     "output_type": "stream",
     "text": [
      "Downloaded poster for movie ID tt0000778\n"
     ]
    },
    {
     "name": "stderr",
     "output_type": "stream",
     "text": [
      "Downloading posters:  78%|███████▊  | 779/1000 [01:33<00:46,  4.73it/s]"
     ]
    },
    {
     "name": "stdout",
     "output_type": "stream",
     "text": [
      "Downloaded poster for movie ID tt0000779\n",
      "Downloaded poster for movie ID tt0000780\n"
     ]
    },
    {
     "name": "stderr",
     "output_type": "stream",
     "text": [
      "Downloading posters:  78%|███████▊  | 781/1000 [01:34<00:41,  5.27it/s]"
     ]
    },
    {
     "name": "stdout",
     "output_type": "stream",
     "text": [
      "Downloaded poster for movie ID tt0000781\n",
      "Downloaded poster for movie ID tt0000782\n"
     ]
    },
    {
     "name": "stderr",
     "output_type": "stream",
     "text": [
      "Downloading posters:  78%|███████▊  | 785/1000 [01:34<00:29,  7.35it/s]"
     ]
    },
    {
     "name": "stdout",
     "output_type": "stream",
     "text": [
      "Downloaded poster for movie ID tt0000783\n",
      "Downloaded poster for movie ID tt0000784\n",
      "Downloaded poster for movie ID tt0000785\n"
     ]
    },
    {
     "name": "stderr",
     "output_type": "stream",
     "text": [
      "Downloading posters:  79%|███████▊  | 786/1000 [01:34<00:34,  6.22it/s]"
     ]
    },
    {
     "name": "stdout",
     "output_type": "stream",
     "text": [
      "Downloaded poster for movie ID tt0000786\n"
     ]
    },
    {
     "name": "stderr",
     "output_type": "stream",
     "text": [
      "Downloading posters:  79%|███████▊  | 787/1000 [01:34<00:39,  5.35it/s]"
     ]
    },
    {
     "name": "stdout",
     "output_type": "stream",
     "text": [
      "Downloaded poster for movie ID tt0000787\n"
     ]
    },
    {
     "name": "stderr",
     "output_type": "stream",
     "text": [
      "Downloading posters:  79%|███████▉  | 788/1000 [01:35<00:44,  4.82it/s]"
     ]
    },
    {
     "name": "stdout",
     "output_type": "stream",
     "text": [
      "Downloaded poster for movie ID tt0000788\n"
     ]
    },
    {
     "name": "stderr",
     "output_type": "stream",
     "text": [
      "Downloading posters:  79%|███████▉  | 789/1000 [01:35<00:46,  4.50it/s]"
     ]
    },
    {
     "name": "stdout",
     "output_type": "stream",
     "text": [
      "Downloaded poster for movie ID tt0000789\n"
     ]
    },
    {
     "name": "stderr",
     "output_type": "stream",
     "text": [
      "Downloading posters:  79%|███████▉  | 790/1000 [01:35<00:48,  4.29it/s]"
     ]
    },
    {
     "name": "stdout",
     "output_type": "stream",
     "text": [
      "Failed to download poster for movie ID tt0000790\n"
     ]
    },
    {
     "name": "stderr",
     "output_type": "stream",
     "text": [
      "Downloading posters:  79%|███████▉  | 791/1000 [01:36<00:50,  4.14it/s]"
     ]
    },
    {
     "name": "stdout",
     "output_type": "stream",
     "text": [
      "Downloaded poster for movie ID tt0000791\n"
     ]
    },
    {
     "name": "stderr",
     "output_type": "stream",
     "text": [
      "Downloading posters:  79%|███████▉  | 792/1000 [01:36<00:51,  4.05it/s]"
     ]
    },
    {
     "name": "stdout",
     "output_type": "stream",
     "text": [
      "Downloaded poster for movie ID tt0000792\n"
     ]
    },
    {
     "name": "stderr",
     "output_type": "stream",
     "text": [
      "Downloading posters:  80%|███████▉  | 795/1000 [01:36<00:34,  5.98it/s]"
     ]
    },
    {
     "name": "stdout",
     "output_type": "stream",
     "text": [
      "Downloaded poster for movie ID tt0000793\n",
      "Downloaded poster for movie ID tt0000794\n",
      "Downloaded poster for movie ID tt0000795\n"
     ]
    },
    {
     "name": "stderr",
     "output_type": "stream",
     "text": [
      "Downloading posters:  80%|███████▉  | 796/1000 [01:36<00:40,  5.06it/s]"
     ]
    },
    {
     "name": "stdout",
     "output_type": "stream",
     "text": [
      "Downloaded poster for movie ID tt0000796\n"
     ]
    },
    {
     "name": "stderr",
     "output_type": "stream",
     "text": [
      "Downloading posters:  80%|███████▉  | 797/1000 [01:37<00:44,  4.56it/s]"
     ]
    },
    {
     "name": "stdout",
     "output_type": "stream",
     "text": [
      "Downloaded poster for movie ID tt0000797\n"
     ]
    },
    {
     "name": "stderr",
     "output_type": "stream",
     "text": [
      "Downloading posters:  80%|███████▉  | 798/1000 [01:37<00:47,  4.26it/s]"
     ]
    },
    {
     "name": "stdout",
     "output_type": "stream",
     "text": [
      "Downloaded poster for movie ID tt0000798\n"
     ]
    },
    {
     "name": "stderr",
     "output_type": "stream",
     "text": [
      "Downloading posters:  80%|███████▉  | 799/1000 [01:37<00:49,  4.06it/s]"
     ]
    },
    {
     "name": "stdout",
     "output_type": "stream",
     "text": [
      "Downloaded poster for movie ID tt0000799\n"
     ]
    },
    {
     "name": "stderr",
     "output_type": "stream",
     "text": [
      "Downloading posters:  80%|████████  | 800/1000 [01:38<00:50,  3.92it/s]"
     ]
    },
    {
     "name": "stdout",
     "output_type": "stream",
     "text": [
      "Downloaded poster for movie ID tt0000800\n"
     ]
    },
    {
     "name": "stderr",
     "output_type": "stream",
     "text": [
      "Downloading posters:  80%|████████  | 801/1000 [01:38<00:51,  3.90it/s]"
     ]
    },
    {
     "name": "stdout",
     "output_type": "stream",
     "text": [
      "Downloaded poster for movie ID tt0000801\n"
     ]
    },
    {
     "name": "stderr",
     "output_type": "stream",
     "text": [
      "Downloading posters:  80%|████████  | 802/1000 [01:38<00:50,  3.92it/s]"
     ]
    },
    {
     "name": "stdout",
     "output_type": "stream",
     "text": [
      "Downloaded poster for movie ID tt0000802\n"
     ]
    },
    {
     "name": "stderr",
     "output_type": "stream",
     "text": [
      "Downloading posters:  80%|████████  | 803/1000 [01:38<00:49,  3.95it/s]"
     ]
    },
    {
     "name": "stdout",
     "output_type": "stream",
     "text": [
      "Downloaded poster for movie ID tt0000803\n"
     ]
    },
    {
     "name": "stderr",
     "output_type": "stream",
     "text": [
      "Downloading posters:  80%|████████  | 804/1000 [01:39<00:50,  3.86it/s]"
     ]
    },
    {
     "name": "stdout",
     "output_type": "stream",
     "text": [
      "Downloaded poster for movie ID tt0000804\n"
     ]
    },
    {
     "name": "stderr",
     "output_type": "stream",
     "text": [
      "Downloading posters:  80%|████████  | 805/1000 [01:39<00:50,  3.89it/s]"
     ]
    },
    {
     "name": "stdout",
     "output_type": "stream",
     "text": [
      "Downloaded poster for movie ID tt0000805\n"
     ]
    },
    {
     "name": "stderr",
     "output_type": "stream",
     "text": [
      "Downloading posters:  81%|████████  | 806/1000 [01:39<00:50,  3.84it/s]"
     ]
    },
    {
     "name": "stdout",
     "output_type": "stream",
     "text": [
      "Downloaded poster for movie ID tt0000806\n"
     ]
    },
    {
     "name": "stderr",
     "output_type": "stream",
     "text": [
      "Downloading posters:  81%|████████  | 807/1000 [01:39<00:50,  3.83it/s]"
     ]
    },
    {
     "name": "stdout",
     "output_type": "stream",
     "text": [
      "Downloaded poster for movie ID tt0000807\n"
     ]
    },
    {
     "name": "stderr",
     "output_type": "stream",
     "text": [
      "Downloading posters:  81%|████████  | 808/1000 [01:40<00:49,  3.90it/s]"
     ]
    },
    {
     "name": "stdout",
     "output_type": "stream",
     "text": [
      "Downloaded poster for movie ID tt0000808\n"
     ]
    },
    {
     "name": "stderr",
     "output_type": "stream",
     "text": [
      "Downloading posters:  81%|████████  | 809/1000 [01:40<00:49,  3.86it/s]"
     ]
    },
    {
     "name": "stdout",
     "output_type": "stream",
     "text": [
      "Downloaded poster for movie ID tt0000809\n"
     ]
    },
    {
     "name": "stderr",
     "output_type": "stream",
     "text": [
      "Downloading posters:  81%|████████  | 810/1000 [01:40<00:50,  3.78it/s]"
     ]
    },
    {
     "name": "stdout",
     "output_type": "stream",
     "text": [
      "Downloaded poster for movie ID tt0000810\n"
     ]
    },
    {
     "name": "stderr",
     "output_type": "stream",
     "text": [
      "Downloading posters:  81%|████████  | 811/1000 [01:41<00:53,  3.55it/s]"
     ]
    },
    {
     "name": "stdout",
     "output_type": "stream",
     "text": [
      "Failed to download poster for movie ID tt0000811\n",
      "Downloaded poster for movie ID tt0000812\n"
     ]
    },
    {
     "name": "stderr",
     "output_type": "stream",
     "text": [
      "Downloading posters:  81%|████████▏ | 813/1000 [01:41<00:42,  4.44it/s]"
     ]
    },
    {
     "name": "stdout",
     "output_type": "stream",
     "text": [
      "Downloaded poster for movie ID tt0000813\n",
      "Downloaded poster for movie ID tt0000814\n"
     ]
    },
    {
     "name": "stderr",
     "output_type": "stream",
     "text": [
      "Downloading posters:  82%|████████▏ | 815/1000 [01:41<00:36,  5.06it/s]"
     ]
    },
    {
     "name": "stdout",
     "output_type": "stream",
     "text": [
      "Downloaded poster for movie ID tt0000815\n"
     ]
    },
    {
     "name": "stderr",
     "output_type": "stream",
     "text": [
      "Downloading posters:  82%|████████▏ | 816/1000 [01:41<00:39,  4.70it/s]"
     ]
    },
    {
     "name": "stdout",
     "output_type": "stream",
     "text": [
      "Downloaded poster for movie ID tt0000816\n"
     ]
    },
    {
     "name": "stderr",
     "output_type": "stream",
     "text": [
      "Downloading posters:  82%|████████▏ | 817/1000 [01:42<00:40,  4.56it/s]"
     ]
    },
    {
     "name": "stdout",
     "output_type": "stream",
     "text": [
      "Downloaded poster for movie ID tt0000817\n"
     ]
    },
    {
     "name": "stderr",
     "output_type": "stream",
     "text": [
      "Downloading posters:  82%|████████▏ | 818/1000 [01:42<00:42,  4.24it/s]"
     ]
    },
    {
     "name": "stdout",
     "output_type": "stream",
     "text": [
      "Downloaded poster for movie ID tt0000818\n"
     ]
    },
    {
     "name": "stderr",
     "output_type": "stream",
     "text": [
      "Downloading posters:  82%|████████▏ | 819/1000 [01:42<00:43,  4.15it/s]"
     ]
    },
    {
     "name": "stdout",
     "output_type": "stream",
     "text": [
      "Downloaded poster for movie ID tt0000819\n"
     ]
    },
    {
     "name": "stderr",
     "output_type": "stream",
     "text": [
      "Downloading posters:  82%|████████▏ | 820/1000 [01:42<00:44,  4.08it/s]"
     ]
    },
    {
     "name": "stdout",
     "output_type": "stream",
     "text": [
      "Downloaded poster for movie ID tt0000820\n"
     ]
    },
    {
     "name": "stderr",
     "output_type": "stream",
     "text": [
      "Downloading posters:  82%|████████▏ | 821/1000 [01:43<01:05,  2.75it/s]"
     ]
    },
    {
     "name": "stdout",
     "output_type": "stream",
     "text": [
      "Downloaded poster for movie ID tt0000821\n"
     ]
    },
    {
     "name": "stderr",
     "output_type": "stream",
     "text": [
      "Downloading posters:  82%|████████▏ | 822/1000 [01:43<00:59,  2.98it/s]"
     ]
    },
    {
     "name": "stdout",
     "output_type": "stream",
     "text": [
      "Downloaded poster for movie ID tt0000822\n"
     ]
    },
    {
     "name": "stderr",
     "output_type": "stream",
     "text": [
      "Downloading posters:  82%|████████▏ | 823/1000 [01:44<00:55,  3.20it/s]"
     ]
    },
    {
     "name": "stdout",
     "output_type": "stream",
     "text": [
      "Downloaded poster for movie ID tt0000823\n"
     ]
    },
    {
     "name": "stderr",
     "output_type": "stream",
     "text": [
      "Downloading posters:  82%|████████▏ | 824/1000 [01:44<00:52,  3.33it/s]"
     ]
    },
    {
     "name": "stdout",
     "output_type": "stream",
     "text": [
      "Downloaded poster for movie ID tt0000824\n"
     ]
    },
    {
     "name": "stderr",
     "output_type": "stream",
     "text": [
      "Downloading posters:  82%|████████▎ | 825/1000 [01:44<00:50,  3.46it/s]"
     ]
    },
    {
     "name": "stdout",
     "output_type": "stream",
     "text": [
      "Downloaded poster for movie ID tt0000825\n"
     ]
    },
    {
     "name": "stderr",
     "output_type": "stream",
     "text": [
      "Downloading posters:  83%|████████▎ | 826/1000 [01:44<00:47,  3.66it/s]"
     ]
    },
    {
     "name": "stdout",
     "output_type": "stream",
     "text": [
      "Downloaded poster for movie ID tt0000826\n"
     ]
    },
    {
     "name": "stderr",
     "output_type": "stream",
     "text": [
      "Downloading posters:  83%|████████▎ | 827/1000 [01:45<00:45,  3.81it/s]"
     ]
    },
    {
     "name": "stdout",
     "output_type": "stream",
     "text": [
      "Downloaded poster for movie ID tt0000827\n"
     ]
    },
    {
     "name": "stderr",
     "output_type": "stream",
     "text": [
      "Downloading posters:  83%|████████▎ | 828/1000 [01:45<00:44,  3.85it/s]"
     ]
    },
    {
     "name": "stdout",
     "output_type": "stream",
     "text": [
      "Downloaded poster for movie ID tt0000828\n"
     ]
    },
    {
     "name": "stderr",
     "output_type": "stream",
     "text": [
      "Downloading posters:  83%|████████▎ | 829/1000 [01:45<00:44,  3.84it/s]"
     ]
    },
    {
     "name": "stdout",
     "output_type": "stream",
     "text": [
      "Downloaded poster for movie ID tt0000829\n"
     ]
    },
    {
     "name": "stderr",
     "output_type": "stream",
     "text": [
      "Downloading posters:  83%|████████▎ | 830/1000 [01:45<00:45,  3.74it/s]"
     ]
    },
    {
     "name": "stdout",
     "output_type": "stream",
     "text": [
      "Downloaded poster for movie ID tt0000830\n"
     ]
    },
    {
     "name": "stderr",
     "output_type": "stream",
     "text": [
      "Downloading posters:  83%|████████▎ | 831/1000 [01:46<00:44,  3.79it/s]"
     ]
    },
    {
     "name": "stdout",
     "output_type": "stream",
     "text": [
      "Downloaded poster for movie ID tt0000831\n",
      "Downloaded poster for movie ID tt0000832\n"
     ]
    },
    {
     "name": "stderr",
     "output_type": "stream",
     "text": [
      "Downloading posters:  84%|████████▎ | 835/1000 [01:46<00:25,  6.59it/s]"
     ]
    },
    {
     "name": "stdout",
     "output_type": "stream",
     "text": [
      "Downloaded poster for movie ID tt0000833\n",
      "Downloaded poster for movie ID tt0000834\n",
      "Downloaded poster for movie ID tt0000835\n"
     ]
    },
    {
     "name": "stderr",
     "output_type": "stream",
     "text": [
      "Downloading posters:  84%|████████▎ | 836/1000 [01:46<00:28,  5.80it/s]"
     ]
    },
    {
     "name": "stdout",
     "output_type": "stream",
     "text": [
      "Downloaded poster for movie ID tt0000836\n"
     ]
    },
    {
     "name": "stderr",
     "output_type": "stream",
     "text": [
      "Downloading posters:  84%|████████▎ | 837/1000 [01:47<00:32,  5.08it/s]"
     ]
    },
    {
     "name": "stdout",
     "output_type": "stream",
     "text": [
      "Downloaded poster for movie ID tt0000837\n"
     ]
    },
    {
     "name": "stderr",
     "output_type": "stream",
     "text": [
      "Downloading posters:  84%|████████▍ | 838/1000 [01:47<00:33,  4.77it/s]"
     ]
    },
    {
     "name": "stdout",
     "output_type": "stream",
     "text": [
      "Downloaded poster for movie ID tt0000838\n"
     ]
    },
    {
     "name": "stderr",
     "output_type": "stream",
     "text": [
      "Downloading posters:  84%|████████▍ | 839/1000 [01:47<00:37,  4.24it/s]"
     ]
    },
    {
     "name": "stdout",
     "output_type": "stream",
     "text": [
      "Failed to download poster for movie ID tt0000839\n"
     ]
    },
    {
     "name": "stderr",
     "output_type": "stream",
     "text": [
      "Downloading posters:  84%|████████▍ | 840/1000 [01:47<00:39,  4.00it/s]"
     ]
    },
    {
     "name": "stdout",
     "output_type": "stream",
     "text": [
      "Failed to download poster for movie ID tt0000840\n"
     ]
    },
    {
     "name": "stderr",
     "output_type": "stream",
     "text": [
      "Downloading posters:  84%|████████▍ | 841/1000 [01:48<00:40,  3.93it/s]"
     ]
    },
    {
     "name": "stdout",
     "output_type": "stream",
     "text": [
      "Downloaded poster for movie ID tt0000841\n"
     ]
    },
    {
     "name": "stderr",
     "output_type": "stream",
     "text": [
      "Downloading posters:  84%|████████▍ | 842/1000 [01:48<00:40,  3.95it/s]"
     ]
    },
    {
     "name": "stdout",
     "output_type": "stream",
     "text": [
      "Downloaded poster for movie ID tt0000842\n",
      "Downloaded poster for movie ID tt0000843\n"
     ]
    },
    {
     "name": "stderr",
     "output_type": "stream",
     "text": [
      "Downloading posters:  84%|████████▍ | 844/1000 [01:48<00:32,  4.83it/s]"
     ]
    },
    {
     "name": "stdout",
     "output_type": "stream",
     "text": [
      "Downloaded poster for movie ID tt0000844\n"
     ]
    },
    {
     "name": "stderr",
     "output_type": "stream",
     "text": [
      "Downloading posters:  84%|████████▍ | 845/1000 [01:49<00:33,  4.59it/s]"
     ]
    },
    {
     "name": "stdout",
     "output_type": "stream",
     "text": [
      "Downloaded poster for movie ID tt0000845\n"
     ]
    },
    {
     "name": "stderr",
     "output_type": "stream",
     "text": [
      "Downloading posters:  85%|████████▍ | 846/1000 [01:49<00:34,  4.41it/s]"
     ]
    },
    {
     "name": "stdout",
     "output_type": "stream",
     "text": [
      "Downloaded poster for movie ID tt0000846\n"
     ]
    },
    {
     "name": "stderr",
     "output_type": "stream",
     "text": [
      "Downloading posters:  85%|████████▍ | 847/1000 [01:49<00:35,  4.27it/s]"
     ]
    },
    {
     "name": "stdout",
     "output_type": "stream",
     "text": [
      "Downloaded poster for movie ID tt0000847\n",
      "Downloaded poster for movie ID tt0000848\n"
     ]
    },
    {
     "name": "stderr",
     "output_type": "stream",
     "text": [
      "Downloading posters:  85%|████████▍ | 849/1000 [01:49<00:30,  4.92it/s]"
     ]
    },
    {
     "name": "stdout",
     "output_type": "stream",
     "text": [
      "Downloaded poster for movie ID tt0000849\n"
     ]
    },
    {
     "name": "stderr",
     "output_type": "stream",
     "text": [
      "Downloading posters:  85%|████████▌ | 850/1000 [01:50<00:33,  4.48it/s]"
     ]
    },
    {
     "name": "stdout",
     "output_type": "stream",
     "text": [
      "Downloaded poster for movie ID tt0000850\n",
      "Downloaded poster for movie ID tt0000851\n"
     ]
    },
    {
     "name": "stderr",
     "output_type": "stream",
     "text": [
      "Downloading posters:  85%|████████▌ | 852/1000 [01:50<00:29,  4.99it/s]"
     ]
    },
    {
     "name": "stdout",
     "output_type": "stream",
     "text": [
      "Downloaded poster for movie ID tt0000852\n"
     ]
    },
    {
     "name": "stderr",
     "output_type": "stream",
     "text": [
      "Downloading posters:  85%|████████▌ | 853/1000 [01:51<00:41,  3.51it/s]"
     ]
    },
    {
     "name": "stdout",
     "output_type": "stream",
     "text": [
      "Downloaded poster for movie ID tt0000853\n"
     ]
    },
    {
     "name": "stderr",
     "output_type": "stream",
     "text": [
      "Downloading posters:  85%|████████▌ | 854/1000 [01:51<00:40,  3.56it/s]"
     ]
    },
    {
     "name": "stdout",
     "output_type": "stream",
     "text": [
      "Downloaded poster for movie ID tt0000854\n"
     ]
    },
    {
     "name": "stderr",
     "output_type": "stream",
     "text": [
      "Downloading posters:  86%|████████▌ | 855/1000 [01:51<00:40,  3.62it/s]"
     ]
    },
    {
     "name": "stdout",
     "output_type": "stream",
     "text": [
      "Downloaded poster for movie ID tt0000855\n",
      "Downloaded poster for movie ID tt0000856\n"
     ]
    },
    {
     "name": "stderr",
     "output_type": "stream",
     "text": [
      "Downloading posters:  86%|████████▌ | 857/1000 [01:51<00:31,  4.47it/s]"
     ]
    },
    {
     "name": "stdout",
     "output_type": "stream",
     "text": [
      "Downloaded poster for movie ID tt0000857\n"
     ]
    },
    {
     "name": "stderr",
     "output_type": "stream",
     "text": [
      "Downloading posters:  86%|████████▌ | 858/1000 [01:52<00:32,  4.33it/s]"
     ]
    },
    {
     "name": "stdout",
     "output_type": "stream",
     "text": [
      "Downloaded poster for movie ID tt0000858\n"
     ]
    },
    {
     "name": "stderr",
     "output_type": "stream",
     "text": [
      "Downloading posters:  86%|████████▌ | 859/1000 [01:52<00:34,  4.11it/s]"
     ]
    },
    {
     "name": "stdout",
     "output_type": "stream",
     "text": [
      "Downloaded poster for movie ID tt0000859\n"
     ]
    },
    {
     "name": "stderr",
     "output_type": "stream",
     "text": [
      "Downloading posters:  86%|████████▌ | 860/1000 [01:52<00:36,  3.85it/s]"
     ]
    },
    {
     "name": "stdout",
     "output_type": "stream",
     "text": [
      "Failed to download poster for movie ID tt0000860\n"
     ]
    },
    {
     "name": "stderr",
     "output_type": "stream",
     "text": [
      "Downloading posters:  86%|████████▋ | 863/1000 [01:53<00:23,  5.77it/s]"
     ]
    },
    {
     "name": "stdout",
     "output_type": "stream",
     "text": [
      "Downloaded poster for movie ID tt0000861\n",
      "Downloaded poster for movie ID tt0000862\n",
      "Downloaded poster for movie ID tt0000863\n"
     ]
    },
    {
     "name": "stderr",
     "output_type": "stream",
     "text": [
      "Downloading posters:  86%|████████▋ | 864/1000 [01:53<00:26,  5.11it/s]"
     ]
    },
    {
     "name": "stdout",
     "output_type": "stream",
     "text": [
      "Downloaded poster for movie ID tt0000864\n"
     ]
    },
    {
     "name": "stderr",
     "output_type": "stream",
     "text": [
      "Downloading posters:  86%|████████▋ | 865/1000 [01:53<00:28,  4.75it/s]"
     ]
    },
    {
     "name": "stdout",
     "output_type": "stream",
     "text": [
      "Downloaded poster for movie ID tt0000865\n",
      "Downloaded poster for movie ID tt0000866\n"
     ]
    },
    {
     "name": "stderr",
     "output_type": "stream",
     "text": [
      "Downloading posters:  87%|████████▋ | 867/1000 [01:54<00:25,  5.18it/s]"
     ]
    },
    {
     "name": "stdout",
     "output_type": "stream",
     "text": [
      "Downloaded poster for movie ID tt0000867\n"
     ]
    },
    {
     "name": "stderr",
     "output_type": "stream",
     "text": [
      "Downloading posters:  87%|████████▋ | 868/1000 [01:54<00:27,  4.78it/s]"
     ]
    },
    {
     "name": "stdout",
     "output_type": "stream",
     "text": [
      "Downloaded poster for movie ID tt0000868\n"
     ]
    },
    {
     "name": "stderr",
     "output_type": "stream",
     "text": [
      "Downloading posters:  87%|████████▋ | 869/1000 [01:54<00:29,  4.45it/s]"
     ]
    },
    {
     "name": "stdout",
     "output_type": "stream",
     "text": [
      "Downloaded poster for movie ID tt0000869\n"
     ]
    },
    {
     "name": "stderr",
     "output_type": "stream",
     "text": [
      "Downloading posters:  87%|████████▋ | 870/1000 [01:54<00:30,  4.24it/s]"
     ]
    },
    {
     "name": "stdout",
     "output_type": "stream",
     "text": [
      "Downloaded poster for movie ID tt0000870\n"
     ]
    },
    {
     "name": "stderr",
     "output_type": "stream",
     "text": [
      "Downloading posters:  87%|████████▋ | 871/1000 [01:55<00:30,  4.22it/s]"
     ]
    },
    {
     "name": "stdout",
     "output_type": "stream",
     "text": [
      "Downloaded poster for movie ID tt0000871\n"
     ]
    },
    {
     "name": "stderr",
     "output_type": "stream",
     "text": [
      "Downloading posters:  87%|████████▋ | 872/1000 [01:55<00:30,  4.16it/s]"
     ]
    },
    {
     "name": "stdout",
     "output_type": "stream",
     "text": [
      "Downloaded poster for movie ID tt0000872\n"
     ]
    },
    {
     "name": "stderr",
     "output_type": "stream",
     "text": [
      "Downloading posters:  87%|████████▋ | 873/1000 [01:55<00:31,  4.01it/s]"
     ]
    },
    {
     "name": "stdout",
     "output_type": "stream",
     "text": [
      "Downloaded poster for movie ID tt0000873\n"
     ]
    },
    {
     "name": "stderr",
     "output_type": "stream",
     "text": [
      "Downloading posters:  87%|████████▋ | 874/1000 [01:55<00:32,  3.92it/s]"
     ]
    },
    {
     "name": "stdout",
     "output_type": "stream",
     "text": [
      "Downloaded poster for movie ID tt0000874\n"
     ]
    },
    {
     "name": "stderr",
     "output_type": "stream",
     "text": [
      "Downloading posters:  88%|████████▊ | 875/1000 [01:56<00:31,  3.92it/s]"
     ]
    },
    {
     "name": "stdout",
     "output_type": "stream",
     "text": [
      "Downloaded poster for movie ID tt0000875\n"
     ]
    },
    {
     "name": "stderr",
     "output_type": "stream",
     "text": [
      "Downloading posters:  88%|████████▊ | 876/1000 [01:56<00:34,  3.61it/s]"
     ]
    },
    {
     "name": "stdout",
     "output_type": "stream",
     "text": [
      "Failed to download poster for movie ID tt0000876\n"
     ]
    },
    {
     "name": "stderr",
     "output_type": "stream",
     "text": [
      "Downloading posters:  88%|████████▊ | 877/1000 [01:56<00:33,  3.62it/s]"
     ]
    },
    {
     "name": "stdout",
     "output_type": "stream",
     "text": [
      "Downloaded poster for movie ID tt0000877\n"
     ]
    },
    {
     "name": "stderr",
     "output_type": "stream",
     "text": [
      "Downloading posters:  88%|████████▊ | 878/1000 [01:56<00:33,  3.68it/s]"
     ]
    },
    {
     "name": "stdout",
     "output_type": "stream",
     "text": [
      "Downloaded poster for movie ID tt0000878\n"
     ]
    },
    {
     "name": "stderr",
     "output_type": "stream",
     "text": [
      "Downloading posters:  88%|████████▊ | 879/1000 [01:57<00:32,  3.73it/s]"
     ]
    },
    {
     "name": "stdout",
     "output_type": "stream",
     "text": [
      "Downloaded poster for movie ID tt0000879\n",
      "Downloaded poster for movie ID tt0000880\n"
     ]
    },
    {
     "name": "stderr",
     "output_type": "stream",
     "text": [
      "Downloading posters:  88%|████████▊ | 881/1000 [01:57<00:26,  4.49it/s]"
     ]
    },
    {
     "name": "stdout",
     "output_type": "stream",
     "text": [
      "Downloaded poster for movie ID tt0000881\n"
     ]
    },
    {
     "name": "stderr",
     "output_type": "stream",
     "text": [
      "Downloading posters:  88%|████████▊ | 884/1000 [01:57<00:18,  6.39it/s]"
     ]
    },
    {
     "name": "stdout",
     "output_type": "stream",
     "text": [
      "Downloaded poster for movie ID tt0000882\n",
      "Downloaded poster for movie ID tt0000883\n",
      "Downloaded poster for movie ID tt0000884\n",
      "Downloaded poster for movie ID tt0000885\n"
     ]
    },
    {
     "name": "stderr",
     "output_type": "stream",
     "text": [
      "Downloading posters:  89%|████████▊ | 886/1000 [01:58<00:18,  6.12it/s]"
     ]
    },
    {
     "name": "stdout",
     "output_type": "stream",
     "text": [
      "Downloaded poster for movie ID tt0000886\n"
     ]
    },
    {
     "name": "stderr",
     "output_type": "stream",
     "text": [
      "Downloading posters:  89%|████████▊ | 887/1000 [01:58<00:20,  5.43it/s]"
     ]
    },
    {
     "name": "stdout",
     "output_type": "stream",
     "text": [
      "Downloaded poster for movie ID tt0000887\n"
     ]
    },
    {
     "name": "stderr",
     "output_type": "stream",
     "text": [
      "Downloading posters:  89%|████████▉ | 888/1000 [01:58<00:22,  4.89it/s]"
     ]
    },
    {
     "name": "stdout",
     "output_type": "stream",
     "text": [
      "Downloaded poster for movie ID tt0000888\n",
      "Downloaded poster for movie ID tt0000889\n"
     ]
    },
    {
     "name": "stderr",
     "output_type": "stream",
     "text": [
      "Downloading posters:  89%|████████▉ | 890/1000 [01:59<00:20,  5.32it/s]"
     ]
    },
    {
     "name": "stdout",
     "output_type": "stream",
     "text": [
      "Downloaded poster for movie ID tt0000890\n"
     ]
    },
    {
     "name": "stderr",
     "output_type": "stream",
     "text": [
      "Downloading posters:  89%|████████▉ | 891/1000 [01:59<00:22,  4.92it/s]"
     ]
    },
    {
     "name": "stdout",
     "output_type": "stream",
     "text": [
      "Downloaded poster for movie ID tt0000891\n"
     ]
    },
    {
     "name": "stderr",
     "output_type": "stream",
     "text": [
      "Downloading posters:  89%|████████▉ | 894/1000 [01:59<00:16,  6.62it/s]"
     ]
    },
    {
     "name": "stdout",
     "output_type": "stream",
     "text": [
      "Downloaded poster for movie ID tt0000892\n",
      "Downloaded poster for movie ID tt0000893\n",
      "Downloaded poster for movie ID tt0000894\n"
     ]
    },
    {
     "name": "stderr",
     "output_type": "stream",
     "text": [
      "Downloading posters:  90%|████████▉ | 895/1000 [02:00<00:18,  5.70it/s]"
     ]
    },
    {
     "name": "stdout",
     "output_type": "stream",
     "text": [
      "Downloaded poster for movie ID tt0000895\n"
     ]
    },
    {
     "name": "stderr",
     "output_type": "stream",
     "text": [
      "Downloading posters:  90%|████████▉ | 896/1000 [02:00<00:20,  5.07it/s]"
     ]
    },
    {
     "name": "stdout",
     "output_type": "stream",
     "text": [
      "Downloaded poster for movie ID tt0000896\n"
     ]
    },
    {
     "name": "stderr",
     "output_type": "stream",
     "text": [
      "Downloading posters:  90%|████████▉ | 897/1000 [02:00<00:21,  4.80it/s]"
     ]
    },
    {
     "name": "stdout",
     "output_type": "stream",
     "text": [
      "Downloaded poster for movie ID tt0000897\n"
     ]
    },
    {
     "name": "stderr",
     "output_type": "stream",
     "text": [
      "Downloading posters:  90%|████████▉ | 898/1000 [02:00<00:22,  4.49it/s]"
     ]
    },
    {
     "name": "stdout",
     "output_type": "stream",
     "text": [
      "Downloaded poster for movie ID tt0000898\n"
     ]
    },
    {
     "name": "stderr",
     "output_type": "stream",
     "text": [
      "Downloading posters:  90%|████████▉ | 899/1000 [02:01<00:24,  4.20it/s]"
     ]
    },
    {
     "name": "stdout",
     "output_type": "stream",
     "text": [
      "Downloaded poster for movie ID tt0000899\n"
     ]
    },
    {
     "name": "stderr",
     "output_type": "stream",
     "text": [
      "Downloading posters:  90%|█████████ | 900/1000 [02:01<00:24,  4.05it/s]"
     ]
    },
    {
     "name": "stdout",
     "output_type": "stream",
     "text": [
      "Downloaded poster for movie ID tt0000900\n",
      "Downloaded poster for movie ID tt0000901\n"
     ]
    },
    {
     "name": "stderr",
     "output_type": "stream",
     "text": [
      "Downloading posters:  90%|█████████ | 902/1000 [02:01<00:20,  4.74it/s]"
     ]
    },
    {
     "name": "stdout",
     "output_type": "stream",
     "text": [
      "Downloaded poster for movie ID tt0000902\n"
     ]
    },
    {
     "name": "stderr",
     "output_type": "stream",
     "text": [
      "Downloading posters:  90%|█████████ | 903/1000 [02:01<00:22,  4.41it/s]"
     ]
    },
    {
     "name": "stdout",
     "output_type": "stream",
     "text": [
      "Downloaded poster for movie ID tt0000903\n",
      "Downloaded poster for movie ID tt0000904\n"
     ]
    },
    {
     "name": "stderr",
     "output_type": "stream",
     "text": [
      "Downloading posters:  90%|█████████ | 905/1000 [02:02<00:19,  4.98it/s]"
     ]
    },
    {
     "name": "stdout",
     "output_type": "stream",
     "text": [
      "Downloaded poster for movie ID tt0000905\n"
     ]
    },
    {
     "name": "stderr",
     "output_type": "stream",
     "text": [
      "Downloading posters:  91%|█████████ | 908/1000 [02:02<00:14,  6.35it/s]"
     ]
    },
    {
     "name": "stdout",
     "output_type": "stream",
     "text": [
      "Downloaded poster for movie ID tt0000906\n",
      "Downloaded poster for movie ID tt0000907\n",
      "Downloaded poster for movie ID tt0000908\n",
      "Downloaded poster for movie ID tt0000909\n"
     ]
    },
    {
     "name": "stderr",
     "output_type": "stream",
     "text": [
      "Downloading posters:  91%|█████████ | 910/1000 [02:02<00:10,  8.39it/s]"
     ]
    },
    {
     "name": "stdout",
     "output_type": "stream",
     "text": [
      "Downloaded poster for movie ID tt0000910\n",
      "Downloaded poster for movie ID tt0000911\n"
     ]
    },
    {
     "name": "stderr",
     "output_type": "stream",
     "text": [
      "Downloading posters:  91%|█████████ | 912/1000 [02:03<00:12,  7.30it/s]"
     ]
    },
    {
     "name": "stdout",
     "output_type": "stream",
     "text": [
      "Downloaded poster for movie ID tt0000912\n",
      "Downloaded poster for movie ID tt0000913\n"
     ]
    },
    {
     "name": "stderr",
     "output_type": "stream",
     "text": [
      "Downloading posters:  92%|█████████▏| 916/1000 [02:03<00:09,  8.51it/s]"
     ]
    },
    {
     "name": "stdout",
     "output_type": "stream",
     "text": [
      "Downloaded poster for movie ID tt0000914\n",
      "Downloaded poster for movie ID tt0000915\n",
      "Downloaded poster for movie ID tt0000916\n",
      "Downloaded poster for movie ID tt0000917\n"
     ]
    },
    {
     "name": "stderr",
     "output_type": "stream",
     "text": [
      "Downloading posters:  92%|█████████▏| 921/1000 [02:03<00:06, 12.04it/s]"
     ]
    },
    {
     "name": "stdout",
     "output_type": "stream",
     "text": [
      "Downloaded poster for movie ID tt0000918\n",
      "Downloaded poster for movie ID tt0000919\n",
      "Downloaded poster for movie ID tt0000920\n",
      "Downloaded poster for movie ID tt0000921\n"
     ]
    },
    {
     "name": "stderr",
     "output_type": "stream",
     "text": [
      "Downloading posters:  92%|█████████▏| 923/1000 [02:03<00:05, 12.89it/s]"
     ]
    },
    {
     "name": "stdout",
     "output_type": "stream",
     "text": [
      "Downloaded poster for movie ID tt0000922\n",
      "Downloaded poster for movie ID tt0000923\n",
      "Downloaded poster for movie ID tt0000924\n"
     ]
    },
    {
     "name": "stderr",
     "output_type": "stream",
     "text": [
      "Downloading posters:  92%|█████████▎| 925/1000 [02:04<00:09,  7.73it/s]"
     ]
    },
    {
     "name": "stdout",
     "output_type": "stream",
     "text": [
      "Downloaded poster for movie ID tt0000925\n",
      "Downloaded poster for movie ID tt0000926\n"
     ]
    },
    {
     "name": "stderr",
     "output_type": "stream",
     "text": [
      "Downloading posters:  93%|█████████▎| 929/1000 [02:04<00:08,  8.67it/s]"
     ]
    },
    {
     "name": "stdout",
     "output_type": "stream",
     "text": [
      "Downloaded poster for movie ID tt0000927\n",
      "Downloaded poster for movie ID tt0000928\n",
      "Downloaded poster for movie ID tt0000929\n"
     ]
    },
    {
     "name": "stderr",
     "output_type": "stream",
     "text": [
      "Downloading posters:  93%|█████████▎| 931/1000 [02:05<00:08,  7.71it/s]"
     ]
    },
    {
     "name": "stdout",
     "output_type": "stream",
     "text": [
      "Failed to download poster for movie ID tt0000930\n",
      "Downloaded poster for movie ID tt0000931\n",
      "Downloaded poster for movie ID tt0000932\n"
     ]
    },
    {
     "name": "stderr",
     "output_type": "stream",
     "text": [
      "Downloading posters:  93%|█████████▎| 933/1000 [02:05<00:11,  5.85it/s]"
     ]
    },
    {
     "name": "stdout",
     "output_type": "stream",
     "text": [
      "Downloaded poster for movie ID tt0000933\n"
     ]
    },
    {
     "name": "stderr",
     "output_type": "stream",
     "text": [
      "Downloading posters:  93%|█████████▎| 934/1000 [02:06<00:12,  5.24it/s]"
     ]
    },
    {
     "name": "stdout",
     "output_type": "stream",
     "text": [
      "Downloaded poster for movie ID tt0000934\n"
     ]
    },
    {
     "name": "stderr",
     "output_type": "stream",
     "text": [
      "Downloading posters:  94%|█████████▎| 935/1000 [02:06<00:13,  4.86it/s]"
     ]
    },
    {
     "name": "stdout",
     "output_type": "stream",
     "text": [
      "Downloaded poster for movie ID tt0000935\n"
     ]
    },
    {
     "name": "stderr",
     "output_type": "stream",
     "text": [
      "Downloading posters:  94%|█████████▎| 936/1000 [02:06<00:14,  4.53it/s]"
     ]
    },
    {
     "name": "stdout",
     "output_type": "stream",
     "text": [
      "Downloaded poster for movie ID tt0000936\n",
      "Downloaded poster for movie ID tt0000937\n"
     ]
    },
    {
     "name": "stderr",
     "output_type": "stream",
     "text": [
      "Downloading posters:  94%|█████████▍| 938/1000 [02:06<00:12,  5.03it/s]"
     ]
    },
    {
     "name": "stdout",
     "output_type": "stream",
     "text": [
      "Downloaded poster for movie ID tt0000938\n",
      "Downloaded poster for movie ID tt0000939\n"
     ]
    },
    {
     "name": "stderr",
     "output_type": "stream",
     "text": [
      "Downloading posters:  94%|█████████▍| 940/1000 [02:07<00:11,  5.27it/s]"
     ]
    },
    {
     "name": "stdout",
     "output_type": "stream",
     "text": [
      "Downloaded poster for movie ID tt0000940\n"
     ]
    },
    {
     "name": "stderr",
     "output_type": "stream",
     "text": [
      "Downloading posters:  94%|█████████▍| 943/1000 [02:07<00:08,  6.59it/s]"
     ]
    },
    {
     "name": "stdout",
     "output_type": "stream",
     "text": [
      "Downloaded poster for movie ID tt0000941\n",
      "Downloaded poster for movie ID tt0000942\n",
      "Downloaded poster for movie ID tt0000943\n",
      "Downloaded poster for movie ID tt0000944\n"
     ]
    },
    {
     "name": "stderr",
     "output_type": "stream",
     "text": [
      "Downloading posters:  95%|█████████▍| 947/1000 [02:07<00:05,  9.29it/s]"
     ]
    },
    {
     "name": "stdout",
     "output_type": "stream",
     "text": [
      "Downloaded poster for movie ID tt0000945\n",
      "Downloaded poster for movie ID tt0000946\n",
      "Downloaded poster for movie ID tt0000947\n",
      "Downloaded poster for movie ID tt0000948\n"
     ]
    },
    {
     "name": "stderr",
     "output_type": "stream",
     "text": [
      "Downloading posters:  95%|█████████▍| 949/1000 [02:08<00:08,  6.33it/s]"
     ]
    },
    {
     "name": "stdout",
     "output_type": "stream",
     "text": [
      "Downloaded poster for movie ID tt0000949\n"
     ]
    },
    {
     "name": "stderr",
     "output_type": "stream",
     "text": [
      "Downloading posters:  95%|█████████▌| 950/1000 [02:08<00:08,  5.59it/s]"
     ]
    },
    {
     "name": "stdout",
     "output_type": "stream",
     "text": [
      "Downloaded poster for movie ID tt0000950\n"
     ]
    },
    {
     "name": "stderr",
     "output_type": "stream",
     "text": [
      "Downloading posters:  95%|█████████▌| 951/1000 [02:09<00:09,  5.13it/s]"
     ]
    },
    {
     "name": "stdout",
     "output_type": "stream",
     "text": [
      "Downloaded poster for movie ID tt0000951\n",
      "Downloaded poster for movie ID tt0000952\n"
     ]
    },
    {
     "name": "stderr",
     "output_type": "stream",
     "text": [
      "Downloading posters:  95%|█████████▌| 953/1000 [02:09<00:08,  5.58it/s]"
     ]
    },
    {
     "name": "stdout",
     "output_type": "stream",
     "text": [
      "Downloaded poster for movie ID tt0000953\n",
      "Downloaded poster for movie ID tt0000954\n"
     ]
    },
    {
     "name": "stderr",
     "output_type": "stream",
     "text": [
      "Downloading posters:  96%|█████████▌| 957/1000 [02:09<00:05,  7.62it/s]"
     ]
    },
    {
     "name": "stdout",
     "output_type": "stream",
     "text": [
      "Failed to download poster for movie ID tt0000955\n",
      "Downloaded poster for movie ID tt0000956\n",
      "Downloaded poster for movie ID tt0000957\n",
      "Downloaded poster for movie ID tt0000958\n"
     ]
    },
    {
     "name": "stderr",
     "output_type": "stream",
     "text": [
      "Downloading posters:  96%|█████████▌| 961/1000 [02:10<00:05,  7.34it/s]"
     ]
    },
    {
     "name": "stdout",
     "output_type": "stream",
     "text": [
      "Downloaded poster for movie ID tt0000959\n",
      "Downloaded poster for movie ID tt0000960\n",
      "Downloaded poster for movie ID tt0000961\n"
     ]
    },
    {
     "name": "stderr",
     "output_type": "stream",
     "text": [
      "Downloading posters:  96%|█████████▋| 963/1000 [02:10<00:05,  6.48it/s]"
     ]
    },
    {
     "name": "stdout",
     "output_type": "stream",
     "text": [
      "Failed to download poster for movie ID tt0000962\n",
      "Downloaded poster for movie ID tt0000963\n",
      "Downloaded poster for movie ID tt0000964\n"
     ]
    },
    {
     "name": "stderr",
     "output_type": "stream",
     "text": [
      "Downloading posters:  96%|█████████▋| 965/1000 [02:11<00:05,  6.45it/s]"
     ]
    },
    {
     "name": "stdout",
     "output_type": "stream",
     "text": [
      "Downloaded poster for movie ID tt0000965\n"
     ]
    },
    {
     "name": "stderr",
     "output_type": "stream",
     "text": [
      "Downloading posters:  97%|█████████▋| 968/1000 [02:11<00:04,  7.12it/s]"
     ]
    },
    {
     "name": "stdout",
     "output_type": "stream",
     "text": [
      "Downloaded poster for movie ID tt0000966\n",
      "Downloaded poster for movie ID tt0000967\n",
      "Downloaded poster for movie ID tt0000968\n"
     ]
    },
    {
     "name": "stderr",
     "output_type": "stream",
     "text": [
      "Downloading posters:  97%|█████████▋| 971/1000 [02:11<00:03,  7.63it/s]"
     ]
    },
    {
     "name": "stdout",
     "output_type": "stream",
     "text": [
      "Downloaded poster for movie ID tt0000969\n",
      "Downloaded poster for movie ID tt0000970\n",
      "Downloaded poster for movie ID tt0000971\n"
     ]
    },
    {
     "name": "stderr",
     "output_type": "stream",
     "text": [
      "Downloading posters:  97%|█████████▋| 972/1000 [02:12<00:04,  6.55it/s]"
     ]
    },
    {
     "name": "stdout",
     "output_type": "stream",
     "text": [
      "Downloaded poster for movie ID tt0000972\n"
     ]
    },
    {
     "name": "stderr",
     "output_type": "stream",
     "text": [
      "Downloading posters:  98%|█████████▊| 975/1000 [02:12<00:03,  7.79it/s]"
     ]
    },
    {
     "name": "stdout",
     "output_type": "stream",
     "text": [
      "Downloaded poster for movie ID tt0000973\n",
      "Downloaded poster for movie ID tt0000974\n",
      "Downloaded poster for movie ID tt0000975\n",
      "Downloaded poster for movie ID tt0000976\n"
     ]
    },
    {
     "name": "stderr",
     "output_type": "stream",
     "text": [
      "Downloading posters:  98%|█████████▊| 977/1000 [02:12<00:03,  6.73it/s]"
     ]
    },
    {
     "name": "stdout",
     "output_type": "stream",
     "text": [
      "Downloaded poster for movie ID tt0000977\n",
      "Downloaded poster for movie ID tt0000978\n"
     ]
    },
    {
     "name": "stderr",
     "output_type": "stream",
     "text": [
      "Downloading posters:  98%|█████████▊| 979/1000 [02:13<00:03,  6.41it/s]"
     ]
    },
    {
     "name": "stdout",
     "output_type": "stream",
     "text": [
      "Downloaded poster for movie ID tt0000979\n",
      "Downloaded poster for movie ID tt0000980\n"
     ]
    },
    {
     "name": "stderr",
     "output_type": "stream",
     "text": [
      "Downloading posters:  98%|█████████▊| 983/1000 [02:13<00:02,  7.76it/s]"
     ]
    },
    {
     "name": "stdout",
     "output_type": "stream",
     "text": [
      "Downloaded poster for movie ID tt0000981\n",
      "Downloaded poster for movie ID tt0000982\n",
      "Downloaded poster for movie ID tt0000983\n"
     ]
    },
    {
     "name": "stderr",
     "output_type": "stream",
     "text": [
      "Downloading posters:  98%|█████████▊| 984/1000 [02:13<00:01,  8.04it/s]"
     ]
    },
    {
     "name": "stdout",
     "output_type": "stream",
     "text": [
      "Downloaded poster for movie ID tt0000984\n",
      "Downloaded poster for movie ID tt0000985\n"
     ]
    },
    {
     "name": "stderr",
     "output_type": "stream",
     "text": [
      "Downloading posters:  99%|█████████▊| 986/1000 [02:14<00:01,  7.11it/s]"
     ]
    },
    {
     "name": "stdout",
     "output_type": "stream",
     "text": [
      "Failed to download poster for movie ID tt0000986\n"
     ]
    },
    {
     "name": "stderr",
     "output_type": "stream",
     "text": [
      "Downloading posters:  99%|█████████▊| 987/1000 [02:14<00:02,  5.83it/s]"
     ]
    },
    {
     "name": "stdout",
     "output_type": "stream",
     "text": [
      "Downloaded poster for movie ID tt0000987\n",
      "Downloaded poster for movie ID tt0000988\n"
     ]
    },
    {
     "name": "stderr",
     "output_type": "stream",
     "text": [
      "Downloading posters:  99%|█████████▉| 989/1000 [02:14<00:01,  5.83it/s]"
     ]
    },
    {
     "name": "stdout",
     "output_type": "stream",
     "text": [
      "Downloaded poster for movie ID tt0000989\n"
     ]
    },
    {
     "name": "stderr",
     "output_type": "stream",
     "text": [
      "Downloading posters:  99%|█████████▉| 990/1000 [02:15<00:01,  5.14it/s]"
     ]
    },
    {
     "name": "stdout",
     "output_type": "stream",
     "text": [
      "Failed to download poster for movie ID tt0000990\n"
     ]
    },
    {
     "name": "stderr",
     "output_type": "stream",
     "text": [
      "Downloading posters:  99%|█████████▉| 991/1000 [02:15<00:01,  4.77it/s]"
     ]
    },
    {
     "name": "stdout",
     "output_type": "stream",
     "text": [
      "Downloaded poster for movie ID tt0000991\n"
     ]
    },
    {
     "name": "stderr",
     "output_type": "stream",
     "text": [
      "Downloading posters:  99%|█████████▉| 992/1000 [02:15<00:01,  4.38it/s]"
     ]
    },
    {
     "name": "stdout",
     "output_type": "stream",
     "text": [
      "Downloaded poster for movie ID tt0000992\n"
     ]
    },
    {
     "name": "stderr",
     "output_type": "stream",
     "text": [
      "Downloading posters:  99%|█████████▉| 993/1000 [02:15<00:01,  4.17it/s]"
     ]
    },
    {
     "name": "stdout",
     "output_type": "stream",
     "text": [
      "Downloaded poster for movie ID tt0000993\n",
      "Downloaded poster for movie ID tt0000994\n"
     ]
    },
    {
     "name": "stderr",
     "output_type": "stream",
     "text": [
      "Downloading posters: 100%|█████████▉| 995/1000 [02:16<00:01,  4.77it/s]"
     ]
    },
    {
     "name": "stdout",
     "output_type": "stream",
     "text": [
      "Downloaded poster for movie ID tt0000995\n"
     ]
    },
    {
     "name": "stderr",
     "output_type": "stream",
     "text": [
      "Downloading posters: 100%|█████████▉| 996/1000 [02:16<00:00,  4.54it/s]"
     ]
    },
    {
     "name": "stdout",
     "output_type": "stream",
     "text": [
      "Downloaded poster for movie ID tt0000996\n"
     ]
    },
    {
     "name": "stderr",
     "output_type": "stream",
     "text": [
      "Downloading posters: 100%|█████████▉| 997/1000 [02:16<00:00,  4.27it/s]"
     ]
    },
    {
     "name": "stdout",
     "output_type": "stream",
     "text": [
      "Downloaded poster for movie ID tt0000997\n",
      "Downloaded poster for movie ID tt0000998\n"
     ]
    },
    {
     "name": "stderr",
     "output_type": "stream",
     "text": [
      "Downloading posters: 100%|█████████▉| 999/1000 [02:17<00:00,  4.91it/s]"
     ]
    },
    {
     "name": "stdout",
     "output_type": "stream",
     "text": [
      "Downloaded poster for movie ID tt0000999\n"
     ]
    },
    {
     "name": "stderr",
     "output_type": "stream",
     "text": [
      "Downloading posters: 100%|██████████| 1000/1000 [02:17<00:00,  7.28it/s]"
     ]
    },
    {
     "name": "stdout",
     "output_type": "stream",
     "text": [
      "Downloaded poster for movie ID tt0001000\n"
     ]
    },
    {
     "name": "stderr",
     "output_type": "stream",
     "text": [
      "\n"
     ]
    }
   ],
   "source": [
    "for index, row in tqdm(imdb_df.iterrows(), total=len(imdb_df), desc=\"Downloading posters\"):\n",
    "    poster_url = row['Poster_Link']\n",
    "    movie_id = row['IMDb_ID']\n",
    "    \n",
    "    if pd.isnull(poster_url) or \"N/A\" in poster_url:\n",
    "        print(f\"Skipping movie ID {movie_id}: Poster URL is missing or invalid\")\n",
    "        continue\n",
    "    \n",
    "    success = download_poster(poster_url, movie_id)\n",
    "    if success:\n",
    "        print(f\"Downloaded poster for movie ID {movie_id}\")\n",
    "    else:\n",
    "        print(f\"Failed to download poster for movie ID {movie_id}\")"
   ]
  },
  {
   "cell_type": "code",
   "execution_count": 12,
   "metadata": {},
   "outputs": [
    {
     "name": "stdout",
     "output_type": "stream",
     "text": [
      "Number of poster images in 'poster_images': 951\n"
     ]
    }
   ],
   "source": [
    "poster_images_dir = \"poster_images\"\n",
    "files = os.listdir(poster_images_dir)\n",
    "num_poster_images = len(files)\n",
    "print(f\"Number of poster images in '{poster_images_dir}': {num_poster_images}\")\n"
   ]
  },
  {
   "cell_type": "code",
   "execution_count": 7,
   "metadata": {},
   "outputs": [],
   "source": [
    "poster_images_dir = \"poster_images\"\n",
    "downloaded_posters = [filename.split('.')[0] for filename in os.listdir(poster_images_dir)]\n",
    "imdb_df = imdb_df[imdb_df['IMDb_ID'].isin(downloaded_posters)]\n",
    "imdb_df.count()\n",
    "path = 'finalIMDB.csv'\n",
    "imdb_df.to_csv(path)"
   ]
  },
  {
   "cell_type": "code",
   "execution_count": 8,
   "metadata": {},
   "outputs": [
    {
     "name": "stdout",
     "output_type": "stream",
     "text": [
      "Poster: tt0000001.jpg, Size: 67 x 98\n",
      "Poster: tt0000002.jpg, Size: 67 x 98\n",
      "Poster: tt0000003.jpg, Size: 67 x 98\n",
      "Poster: tt0000004.jpg, Size: 67 x 98\n",
      "Poster: tt0000005.jpg, Size: 67 x 98\n",
      "Poster: tt0000006.jpg, Size: 67 x 98\n",
      "Poster: tt0000007.jpg, Size: 67 x 98\n",
      "Poster: tt0000008.jpg, Size: 67 x 98\n",
      "Poster: tt0000009.jpg, Size: 67 x 98\n",
      "Poster: tt0000010.jpg, Size: 67 x 98\n",
      "Poster: tt0000011.jpg, Size: 67 x 98\n",
      "Poster: tt0000012.jpg, Size: 67 x 98\n",
      "Poster: tt0000013.jpg, Size: 67 x 98\n",
      "Poster: tt0000014.jpg, Size: 67 x 98\n",
      "Poster: tt0000015.jpg, Size: 67 x 98\n",
      "Poster: tt0000016.jpg, Size: 67 x 98\n",
      "Poster: tt0000017.jpg, Size: 67 x 98\n",
      "Poster: tt0000018.jpg, Size: 67 x 98\n",
      "Poster: tt0000019.jpg, Size: 67 x 98\n",
      "Poster: tt0000020.jpg, Size: 67 x 98\n",
      "Poster: tt0000021.jpg, Size: 67 x 98\n",
      "Poster: tt0000022.jpg, Size: 67 x 98\n",
      "Poster: tt0000023.jpg, Size: 67 x 98\n",
      "Poster: tt0000024.jpg, Size: 67 x 98\n",
      "Poster: tt0000025.jpg, Size: 67 x 98\n",
      "Poster: tt0000026.jpg, Size: 67 x 98\n",
      "Poster: tt0000027.jpg, Size: 67 x 98\n",
      "Poster: tt0000028.jpg, Size: 67 x 98\n",
      "Poster: tt0000029.jpg, Size: 67 x 98\n",
      "Poster: tt0000031.jpg, Size: 67 x 98\n",
      "Poster: tt0000033.jpg, Size: 67 x 98\n",
      "Poster: tt0000034.jpg, Size: 67 x 98\n",
      "Poster: tt0000035.jpg, Size: 67 x 98\n",
      "Poster: tt0000036.jpg, Size: 67 x 98\n",
      "Poster: tt0000037.jpg, Size: 67 x 98\n",
      "Poster: tt0000038.jpg, Size: 67 x 98\n",
      "Poster: tt0000039.jpg, Size: 67 x 98\n",
      "Poster: tt0000040.jpg, Size: 67 x 98\n",
      "Poster: tt0000041.jpg, Size: 67 x 98\n",
      "Poster: tt0000042.jpg, Size: 67 x 98\n",
      "Poster: tt0000043.jpg, Size: 67 x 98\n",
      "Poster: tt0000044.jpg, Size: 67 x 98\n",
      "Poster: tt0000045.jpg, Size: 67 x 98\n",
      "Poster: tt0000046.jpg, Size: 67 x 98\n",
      "Poster: tt0000047.jpg, Size: 67 x 98\n",
      "Poster: tt0000048.jpg, Size: 67 x 98\n",
      "Poster: tt0000050.jpg, Size: 67 x 98\n",
      "Poster: tt0000051.jpg, Size: 67 x 98\n",
      "Poster: tt0000052.jpg, Size: 67 x 98\n",
      "Poster: tt0000053.jpg, Size: 67 x 98\n",
      "Poster: tt0000054.jpg, Size: 67 x 98\n",
      "Poster: tt0000055.jpg, Size: 67 x 98\n",
      "Poster: tt0000056.jpg, Size: 67 x 98\n",
      "Poster: tt0000057.jpg, Size: 67 x 98\n",
      "Poster: tt0000058.jpg, Size: 67 x 98\n",
      "Poster: tt0000059.jpg, Size: 67 x 98\n",
      "Poster: tt0000060.jpg, Size: 67 x 98\n",
      "Poster: tt0000061.jpg, Size: 67 x 98\n",
      "Poster: tt0000062.jpg, Size: 67 x 98\n",
      "Poster: tt0000063.jpg, Size: 67 x 98\n",
      "Poster: tt0000064.jpg, Size: 67 x 98\n",
      "Poster: tt0000065.jpg, Size: 67 x 98\n",
      "Poster: tt0000066.jpg, Size: 67 x 98\n",
      "Poster: tt0000067.jpg, Size: 67 x 98\n",
      "Poster: tt0000068.jpg, Size: 67 x 98\n",
      "Poster: tt0000069.jpg, Size: 67 x 98\n",
      "Poster: tt0000070.jpg, Size: 67 x 98\n",
      "Poster: tt0000071.jpg, Size: 67 x 98\n",
      "Poster: tt0000072.jpg, Size: 67 x 98\n",
      "Poster: tt0000073.jpg, Size: 67 x 98\n",
      "Poster: tt0000074.jpg, Size: 67 x 98\n",
      "Poster: tt0000075.jpg, Size: 67 x 98\n",
      "Poster: tt0000077.jpg, Size: 67 x 98\n",
      "Poster: tt0000078.jpg, Size: 67 x 98\n",
      "Poster: tt0000079.jpg, Size: 67 x 98\n",
      "Poster: tt0000080.jpg, Size: 67 x 98\n",
      "Poster: tt0000081.jpg, Size: 67 x 98\n",
      "Poster: tt0000082.jpg, Size: 67 x 98\n",
      "Poster: tt0000083.jpg, Size: 67 x 98\n",
      "Poster: tt0000084.jpg, Size: 67 x 98\n",
      "Poster: tt0000085.jpg, Size: 67 x 98\n",
      "Poster: tt0000086.jpg, Size: 67 x 98\n",
      "Poster: tt0000087.jpg, Size: 67 x 98\n",
      "Poster: tt0000088.jpg, Size: 67 x 98\n",
      "Poster: tt0000089.jpg, Size: 67 x 98\n",
      "Poster: tt0000090.jpg, Size: 67 x 98\n",
      "Poster: tt0000091.jpg, Size: 67 x 98\n",
      "Poster: tt0000092.jpg, Size: 67 x 98\n",
      "Poster: tt0000093.jpg, Size: 67 x 98\n",
      "Poster: tt0000094.jpg, Size: 67 x 98\n",
      "Poster: tt0000095.jpg, Size: 67 x 98\n",
      "Poster: tt0000096.jpg, Size: 67 x 98\n",
      "Poster: tt0000097.jpg, Size: 67 x 98\n",
      "Poster: tt0000098.jpg, Size: 67 x 98\n",
      "Poster: tt0000099.jpg, Size: 67 x 98\n",
      "Poster: tt0000100.jpg, Size: 67 x 98\n",
      "Poster: tt0000101.jpg, Size: 67 x 98\n",
      "Poster: tt0000102.jpg, Size: 67 x 98\n",
      "Poster: tt0000103.jpg, Size: 67 x 98\n",
      "Poster: tt0000104.jpg, Size: 67 x 98\n",
      "Poster: tt0000105.jpg, Size: 67 x 98\n",
      "Poster: tt0000106.jpg, Size: 67 x 98\n",
      "Poster: tt0000107.jpg, Size: 67 x 98\n",
      "Poster: tt0000108.jpg, Size: 67 x 98\n",
      "Poster: tt0000109.jpg, Size: 67 x 98\n",
      "Poster: tt0000110.jpg, Size: 67 x 98\n",
      "Poster: tt0000111.jpg, Size: 67 x 98\n",
      "Poster: tt0000112.jpg, Size: 67 x 98\n",
      "Poster: tt0000113.jpg, Size: 67 x 98\n",
      "Poster: tt0000114.jpg, Size: 67 x 98\n",
      "Poster: tt0000115.jpg, Size: 67 x 98\n",
      "Poster: tt0000117.jpg, Size: 67 x 98\n",
      "Poster: tt0000118.jpg, Size: 67 x 98\n",
      "Poster: tt0000119.jpg, Size: 67 x 98\n",
      "Poster: tt0000120.jpg, Size: 67 x 98\n",
      "Poster: tt0000121.jpg, Size: 67 x 98\n",
      "Poster: tt0000122.jpg, Size: 67 x 98\n",
      "Poster: tt0000123.jpg, Size: 67 x 98\n",
      "Poster: tt0000124.jpg, Size: 67 x 98\n",
      "Poster: tt0000125.jpg, Size: 67 x 98\n",
      "Poster: tt0000126.jpg, Size: 67 x 98\n",
      "Poster: tt0000127.jpg, Size: 67 x 98\n",
      "Poster: tt0000128.jpg, Size: 67 x 98\n",
      "Poster: tt0000129.jpg, Size: 67 x 98\n",
      "Poster: tt0000130.jpg, Size: 67 x 98\n",
      "Poster: tt0000131.jpg, Size: 67 x 98\n",
      "Poster: tt0000132.jpg, Size: 67 x 98\n",
      "Poster: tt0000133.jpg, Size: 67 x 98\n",
      "Poster: tt0000134.jpg, Size: 67 x 98\n",
      "Poster: tt0000135.jpg, Size: 67 x 98\n",
      "Poster: tt0000136.jpg, Size: 67 x 98\n",
      "Poster: tt0000137.jpg, Size: 67 x 98\n",
      "Poster: tt0000138.jpg, Size: 67 x 98\n",
      "Poster: tt0000139.jpg, Size: 67 x 98\n",
      "Poster: tt0000140.jpg, Size: 67 x 98\n",
      "Poster: tt0000141.jpg, Size: 67 x 98\n",
      "Poster: tt0000142.jpg, Size: 67 x 98\n",
      "Poster: tt0000143.jpg, Size: 67 x 98\n",
      "Poster: tt0000144.jpg, Size: 67 x 98\n",
      "Poster: tt0000145.jpg, Size: 67 x 98\n",
      "Poster: tt0000146.jpg, Size: 67 x 98\n",
      "Poster: tt0000148.jpg, Size: 67 x 98\n",
      "Poster: tt0000149.jpg, Size: 67 x 98\n",
      "Poster: tt0000150.jpg, Size: 67 x 98\n",
      "Poster: tt0000152.jpg, Size: 67 x 98\n",
      "Poster: tt0000153.jpg, Size: 67 x 98\n",
      "Poster: tt0000154.jpg, Size: 67 x 98\n",
      "Poster: tt0000155.jpg, Size: 67 x 98\n",
      "Poster: tt0000156.jpg, Size: 67 x 98\n",
      "Poster: tt0000157.jpg, Size: 67 x 98\n",
      "Poster: tt0000158.jpg, Size: 67 x 98\n",
      "Poster: tt0000159.jpg, Size: 67 x 98\n",
      "Poster: tt0000160.jpg, Size: 67 x 98\n",
      "Poster: tt0000161.jpg, Size: 67 x 98\n",
      "Poster: tt0000162.jpg, Size: 67 x 98\n",
      "Poster: tt0000163.jpg, Size: 67 x 98\n",
      "Poster: tt0000164.jpg, Size: 67 x 98\n",
      "Poster: tt0000165.jpg, Size: 67 x 98\n",
      "Poster: tt0000166.jpg, Size: 67 x 98\n",
      "Poster: tt0000167.jpg, Size: 67 x 98\n",
      "Poster: tt0000168.jpg, Size: 67 x 98\n",
      "Poster: tt0000169.jpg, Size: 67 x 98\n",
      "Poster: tt0000170.jpg, Size: 67 x 98\n",
      "Poster: tt0000171.jpg, Size: 67 x 98\n",
      "Poster: tt0000172.jpg, Size: 67 x 98\n",
      "Poster: tt0000173.jpg, Size: 67 x 98\n",
      "Poster: tt0000174.jpg, Size: 67 x 98\n",
      "Poster: tt0000175.jpg, Size: 67 x 98\n",
      "Poster: tt0000177.jpg, Size: 67 x 98\n",
      "Poster: tt0000178.jpg, Size: 67 x 98\n",
      "Poster: tt0000179.jpg, Size: 67 x 98\n",
      "Poster: tt0000180.jpg, Size: 67 x 98\n",
      "Poster: tt0000181.jpg, Size: 67 x 98\n",
      "Poster: tt0000182.jpg, Size: 67 x 98\n",
      "Poster: tt0000183.jpg, Size: 67 x 98\n",
      "Poster: tt0000184.jpg, Size: 67 x 98\n",
      "Poster: tt0000186.jpg, Size: 67 x 98\n",
      "Poster: tt0000187.jpg, Size: 67 x 98\n",
      "Poster: tt0000188.jpg, Size: 67 x 98\n",
      "Poster: tt0000189.jpg, Size: 67 x 98\n",
      "Poster: tt0000190.jpg, Size: 67 x 98\n",
      "Poster: tt0000191.jpg, Size: 67 x 98\n",
      "Poster: tt0000192.jpg, Size: 67 x 98\n",
      "Poster: tt0000193.jpg, Size: 67 x 98\n",
      "Poster: tt0000194.jpg, Size: 67 x 98\n",
      "Poster: tt0000195.jpg, Size: 67 x 98\n",
      "Poster: tt0000196.jpg, Size: 67 x 98\n",
      "Poster: tt0000197.jpg, Size: 67 x 98\n",
      "Poster: tt0000198.jpg, Size: 67 x 98\n",
      "Poster: tt0000199.jpg, Size: 67 x 98\n",
      "Poster: tt0000200.jpg, Size: 67 x 98\n",
      "Poster: tt0000201.jpg, Size: 67 x 98\n",
      "Poster: tt0000202.jpg, Size: 67 x 98\n",
      "Poster: tt0000203.jpg, Size: 67 x 98\n",
      "Poster: tt0000204.jpg, Size: 67 x 98\n",
      "Poster: tt0000205.jpg, Size: 67 x 98\n",
      "Poster: tt0000206.jpg, Size: 67 x 98\n",
      "Poster: tt0000208.jpg, Size: 67 x 98\n",
      "Poster: tt0000209.jpg, Size: 67 x 98\n",
      "Poster: tt0000210.jpg, Size: 67 x 98\n",
      "Poster: tt0000211.jpg, Size: 67 x 98\n",
      "Poster: tt0000212.jpg, Size: 67 x 98\n",
      "Poster: tt0000213.jpg, Size: 67 x 98\n",
      "Poster: tt0000214.jpg, Size: 67 x 98\n",
      "Poster: tt0000215.jpg, Size: 67 x 98\n",
      "Poster: tt0000216.jpg, Size: 67 x 98\n",
      "Poster: tt0000217.jpg, Size: 67 x 98\n",
      "Poster: tt0000218.jpg, Size: 67 x 98\n",
      "Poster: tt0000219.jpg, Size: 67 x 98\n",
      "Poster: tt0000220.jpg, Size: 67 x 98\n",
      "Poster: tt0000221.jpg, Size: 67 x 98\n",
      "Poster: tt0000222.jpg, Size: 67 x 98\n",
      "Poster: tt0000223.jpg, Size: 67 x 98\n",
      "Poster: tt0000224.jpg, Size: 67 x 98\n",
      "Poster: tt0000225.jpg, Size: 67 x 98\n",
      "Poster: tt0000226.jpg, Size: 67 x 98\n",
      "Poster: tt0000227.jpg, Size: 67 x 98\n",
      "Poster: tt0000228.jpg, Size: 67 x 98\n",
      "Poster: tt0000230.jpg, Size: 67 x 98\n",
      "Poster: tt0000231.jpg, Size: 67 x 98\n",
      "Poster: tt0000232.jpg, Size: 67 x 98\n",
      "Poster: tt0000233.jpg, Size: 67 x 98\n",
      "Poster: tt0000234.jpg, Size: 67 x 98\n",
      "Poster: tt0000235.jpg, Size: 67 x 98\n",
      "Poster: tt0000236.jpg, Size: 67 x 98\n",
      "Poster: tt0000237.jpg, Size: 67 x 98\n",
      "Poster: tt0000238.jpg, Size: 67 x 98\n",
      "Poster: tt0000239.jpg, Size: 67 x 98\n",
      "Poster: tt0000240.jpg, Size: 67 x 98\n",
      "Poster: tt0000241.jpg, Size: 67 x 98\n",
      "Poster: tt0000242.jpg, Size: 67 x 98\n",
      "Poster: tt0000244.jpg, Size: 67 x 98\n",
      "Poster: tt0000245.jpg, Size: 67 x 98\n",
      "Poster: tt0000246.jpg, Size: 67 x 98\n",
      "Poster: tt0000248.jpg, Size: 67 x 98\n",
      "Poster: tt0000249.jpg, Size: 67 x 98\n",
      "Poster: tt0000250.jpg, Size: 67 x 98\n",
      "Poster: tt0000251.jpg, Size: 67 x 98\n",
      "Poster: tt0000252.jpg, Size: 67 x 98\n",
      "Poster: tt0000254.jpg, Size: 67 x 98\n",
      "Poster: tt0000255.jpg, Size: 67 x 98\n",
      "Poster: tt0000256.jpg, Size: 67 x 98\n",
      "Poster: tt0000257.jpg, Size: 67 x 98\n",
      "Poster: tt0000259.jpg, Size: 67 x 98\n",
      "Poster: tt0000260.jpg, Size: 67 x 98\n",
      "Poster: tt0000261.jpg, Size: 67 x 98\n",
      "Poster: tt0000262.jpg, Size: 67 x 98\n",
      "Poster: tt0000263.jpg, Size: 67 x 98\n",
      "Poster: tt0000264.jpg, Size: 67 x 98\n",
      "Poster: tt0000265.jpg, Size: 67 x 98\n",
      "Poster: tt0000266.jpg, Size: 67 x 98\n",
      "Poster: tt0000267.jpg, Size: 67 x 98\n",
      "Poster: tt0000268.jpg, Size: 67 x 98\n",
      "Poster: tt0000269.jpg, Size: 67 x 98\n",
      "Poster: tt0000270.jpg, Size: 67 x 98\n",
      "Poster: tt0000271.jpg, Size: 67 x 98\n",
      "Poster: tt0000272.jpg, Size: 67 x 98\n",
      "Poster: tt0000273.jpg, Size: 67 x 98\n",
      "Poster: tt0000274.jpg, Size: 67 x 98\n",
      "Poster: tt0000275.jpg, Size: 67 x 98\n",
      "Poster: tt0000276.jpg, Size: 67 x 98\n",
      "Poster: tt0000277.jpg, Size: 67 x 98\n",
      "Poster: tt0000278.jpg, Size: 67 x 98\n",
      "Poster: tt0000279.jpg, Size: 67 x 98\n",
      "Poster: tt0000280.jpg, Size: 67 x 98\n",
      "Poster: tt0000281.jpg, Size: 67 x 98\n",
      "Poster: tt0000282.jpg, Size: 67 x 98\n",
      "Poster: tt0000283.jpg, Size: 67 x 98\n",
      "Poster: tt0000285.jpg, Size: 67 x 98\n",
      "Poster: tt0000286.jpg, Size: 67 x 98\n",
      "Poster: tt0000287.jpg, Size: 67 x 98\n",
      "Poster: tt0000289.jpg, Size: 67 x 98\n",
      "Poster: tt0000290.jpg, Size: 67 x 98\n",
      "Poster: tt0000291.jpg, Size: 67 x 98\n",
      "Poster: tt0000292.jpg, Size: 67 x 98\n",
      "Poster: tt0000293.jpg, Size: 67 x 98\n",
      "Poster: tt0000294.jpg, Size: 67 x 98\n",
      "Poster: tt0000295.jpg, Size: 67 x 98\n",
      "Poster: tt0000296.jpg, Size: 67 x 98\n",
      "Poster: tt0000297.jpg, Size: 67 x 98\n",
      "Poster: tt0000298.jpg, Size: 67 x 98\n",
      "Poster: tt0000300.jpg, Size: 67 x 98\n",
      "Poster: tt0000301.jpg, Size: 67 x 98\n",
      "Poster: tt0000302.jpg, Size: 67 x 98\n",
      "Poster: tt0000303.jpg, Size: 67 x 98\n",
      "Poster: tt0000304.jpg, Size: 67 x 98\n",
      "Poster: tt0000305.jpg, Size: 67 x 98\n",
      "Poster: tt0000306.jpg, Size: 67 x 98\n",
      "Poster: tt0000307.jpg, Size: 67 x 98\n",
      "Poster: tt0000308.jpg, Size: 67 x 98\n",
      "Poster: tt0000309.jpg, Size: 67 x 98\n",
      "Poster: tt0000310.jpg, Size: 67 x 98\n",
      "Poster: tt0000311.jpg, Size: 67 x 98\n",
      "Poster: tt0000313.jpg, Size: 67 x 98\n",
      "Poster: tt0000314.jpg, Size: 67 x 98\n",
      "Poster: tt0000315.jpg, Size: 67 x 98\n",
      "Poster: tt0000316.jpg, Size: 67 x 98\n",
      "Poster: tt0000317.jpg, Size: 67 x 98\n",
      "Poster: tt0000318.jpg, Size: 67 x 98\n",
      "Poster: tt0000319.jpg, Size: 67 x 98\n",
      "Poster: tt0000320.jpg, Size: 67 x 98\n",
      "Poster: tt0000321.jpg, Size: 67 x 98\n",
      "Poster: tt0000322.jpg, Size: 67 x 98\n",
      "Poster: tt0000323.jpg, Size: 67 x 98\n",
      "Poster: tt0000324.jpg, Size: 67 x 98\n",
      "Poster: tt0000325.jpg, Size: 67 x 98\n",
      "Poster: tt0000326.jpg, Size: 67 x 98\n",
      "Poster: tt0000327.jpg, Size: 67 x 98\n",
      "Poster: tt0000328.jpg, Size: 67 x 98\n",
      "Poster: tt0000329.jpg, Size: 67 x 98\n",
      "Poster: tt0000330.jpg, Size: 67 x 98\n",
      "Poster: tt0000331.jpg, Size: 67 x 98\n",
      "Poster: tt0000332.jpg, Size: 67 x 98\n",
      "Poster: tt0000333.jpg, Size: 67 x 98\n",
      "Poster: tt0000334.jpg, Size: 67 x 98\n",
      "Poster: tt0000335.jpg, Size: 67 x 98\n",
      "Poster: tt0000336.jpg, Size: 67 x 98\n",
      "Poster: tt0000337.jpg, Size: 67 x 98\n",
      "Poster: tt0000338.jpg, Size: 67 x 98\n",
      "Poster: tt0000339.jpg, Size: 67 x 98\n",
      "Poster: tt0000340.jpg, Size: 67 x 98\n",
      "Poster: tt0000341.jpg, Size: 67 x 98\n",
      "Poster: tt0000342.jpg, Size: 67 x 98\n",
      "Poster: tt0000343.jpg, Size: 67 x 98\n",
      "Poster: tt0000344.jpg, Size: 67 x 98\n",
      "Poster: tt0000345.jpg, Size: 67 x 98\n",
      "Poster: tt0000346.jpg, Size: 67 x 98\n",
      "Poster: tt0000347.jpg, Size: 67 x 98\n",
      "Poster: tt0000348.jpg, Size: 67 x 98\n",
      "Poster: tt0000349.jpg, Size: 67 x 98\n",
      "Poster: tt0000350.jpg, Size: 67 x 98\n",
      "Poster: tt0000351.jpg, Size: 67 x 98\n",
      "Poster: tt0000352.jpg, Size: 67 x 98\n",
      "Poster: tt0000353.jpg, Size: 67 x 98\n",
      "Poster: tt0000354.jpg, Size: 67 x 98\n",
      "Poster: tt0000355.jpg, Size: 67 x 98\n",
      "Poster: tt0000356.jpg, Size: 67 x 98\n",
      "Poster: tt0000357.jpg, Size: 67 x 98\n",
      "Poster: tt0000358.jpg, Size: 67 x 98\n",
      "Poster: tt0000359.jpg, Size: 67 x 98\n",
      "Poster: tt0000360.jpg, Size: 67 x 98\n",
      "Poster: tt0000361.jpg, Size: 67 x 98\n",
      "Poster: tt0000362.jpg, Size: 67 x 98\n",
      "Poster: tt0000363.jpg, Size: 67 x 98\n",
      "Poster: tt0000364.jpg, Size: 67 x 98\n",
      "Poster: tt0000365.jpg, Size: 67 x 98\n",
      "Poster: tt0000366.jpg, Size: 67 x 98\n",
      "Poster: tt0000367.jpg, Size: 67 x 98\n",
      "Poster: tt0000368.jpg, Size: 67 x 98\n",
      "Poster: tt0000369.jpg, Size: 67 x 98\n",
      "Poster: tt0000370.jpg, Size: 67 x 98\n",
      "Poster: tt0000371.jpg, Size: 67 x 98\n",
      "Poster: tt0000372.jpg, Size: 67 x 98\n",
      "Poster: tt0000373.jpg, Size: 67 x 98\n",
      "Poster: tt0000374.jpg, Size: 67 x 98\n",
      "Poster: tt0000375.jpg, Size: 67 x 98\n",
      "Poster: tt0000376.jpg, Size: 67 x 98\n",
      "Poster: tt0000377.jpg, Size: 67 x 98\n",
      "Poster: tt0000378.jpg, Size: 67 x 98\n",
      "Poster: tt0000379.jpg, Size: 67 x 98\n",
      "Poster: tt0000380.jpg, Size: 67 x 98\n",
      "Poster: tt0000381.jpg, Size: 67 x 98\n",
      "Poster: tt0000382.jpg, Size: 67 x 98\n",
      "Poster: tt0000383.jpg, Size: 67 x 98\n",
      "Poster: tt0000384.jpg, Size: 67 x 98\n",
      "Poster: tt0000385.jpg, Size: 67 x 98\n",
      "Poster: tt0000386.jpg, Size: 67 x 98\n",
      "Poster: tt0000387.jpg, Size: 67 x 98\n",
      "Poster: tt0000388.jpg, Size: 67 x 98\n",
      "Poster: tt0000389.jpg, Size: 67 x 98\n",
      "Poster: tt0000390.jpg, Size: 67 x 98\n",
      "Poster: tt0000391.jpg, Size: 67 x 98\n",
      "Poster: tt0000393.jpg, Size: 67 x 98\n",
      "Poster: tt0000394.jpg, Size: 67 x 98\n",
      "Poster: tt0000395.jpg, Size: 67 x 98\n",
      "Poster: tt0000396.jpg, Size: 67 x 98\n",
      "Poster: tt0000397.jpg, Size: 67 x 98\n",
      "Poster: tt0000398.jpg, Size: 67 x 98\n",
      "Poster: tt0000399.jpg, Size: 67 x 98\n",
      "Poster: tt0000401.jpg, Size: 67 x 98\n",
      "Poster: tt0000402.jpg, Size: 67 x 98\n",
      "Poster: tt0000403.jpg, Size: 67 x 98\n",
      "Poster: tt0000404.jpg, Size: 67 x 98\n",
      "Poster: tt0000405.jpg, Size: 67 x 98\n",
      "Poster: tt0000406.jpg, Size: 67 x 98\n",
      "Poster: tt0000407.jpg, Size: 67 x 98\n",
      "Poster: tt0000408.jpg, Size: 67 x 98\n",
      "Poster: tt0000409.jpg, Size: 67 x 98\n",
      "Poster: tt0000410.jpg, Size: 67 x 98\n",
      "Poster: tt0000411.jpg, Size: 67 x 98\n",
      "Poster: tt0000412.jpg, Size: 67 x 98\n",
      "Poster: tt0000413.jpg, Size: 67 x 98\n",
      "Poster: tt0000414.jpg, Size: 67 x 98\n",
      "Poster: tt0000415.jpg, Size: 67 x 98\n",
      "Poster: tt0000416.jpg, Size: 67 x 98\n",
      "Poster: tt0000417.jpg, Size: 67 x 98\n",
      "Poster: tt0000418.jpg, Size: 67 x 98\n",
      "Poster: tt0000419.jpg, Size: 67 x 98\n",
      "Poster: tt0000420.jpg, Size: 67 x 98\n",
      "Poster: tt0000421.jpg, Size: 67 x 98\n",
      "Poster: tt0000423.jpg, Size: 67 x 98\n",
      "Poster: tt0000424.jpg, Size: 67 x 98\n",
      "Poster: tt0000425.jpg, Size: 67 x 98\n",
      "Poster: tt0000427.jpg, Size: 67 x 98\n",
      "Poster: tt0000428.jpg, Size: 67 x 98\n",
      "Poster: tt0000430.jpg, Size: 67 x 98\n",
      "Poster: tt0000431.jpg, Size: 67 x 98\n",
      "Poster: tt0000433.jpg, Size: 67 x 98\n",
      "Poster: tt0000434.jpg, Size: 67 x 98\n",
      "Poster: tt0000436.jpg, Size: 67 x 98\n",
      "Poster: tt0000437.jpg, Size: 67 x 98\n",
      "Poster: tt0000438.jpg, Size: 67 x 98\n",
      "Poster: tt0000439.jpg, Size: 67 x 98\n",
      "Poster: tt0000440.jpg, Size: 67 x 98\n",
      "Poster: tt0000441.jpg, Size: 67 x 98\n",
      "Poster: tt0000442.jpg, Size: 67 x 98\n",
      "Poster: tt0000444.jpg, Size: 67 x 98\n",
      "Poster: tt0000445.jpg, Size: 67 x 98\n",
      "Poster: tt0000446.jpg, Size: 67 x 98\n",
      "Poster: tt0000447.jpg, Size: 67 x 98\n",
      "Poster: tt0000448.jpg, Size: 67 x 98\n",
      "Poster: tt0000449.jpg, Size: 67 x 98\n",
      "Poster: tt0000450.jpg, Size: 67 x 98\n",
      "Poster: tt0000451.jpg, Size: 67 x 98\n",
      "Poster: tt0000452.jpg, Size: 67 x 98\n",
      "Poster: tt0000453.jpg, Size: 67 x 98\n",
      "Poster: tt0000454.jpg, Size: 67 x 98\n",
      "Poster: tt0000455.jpg, Size: 67 x 98\n",
      "Poster: tt0000456.jpg, Size: 67 x 98\n",
      "Poster: tt0000457.jpg, Size: 67 x 98\n",
      "Poster: tt0000458.jpg, Size: 67 x 98\n",
      "Poster: tt0000459.jpg, Size: 67 x 98\n",
      "Poster: tt0000460.jpg, Size: 67 x 98\n",
      "Poster: tt0000461.jpg, Size: 67 x 98\n",
      "Poster: tt0000462.jpg, Size: 67 x 98\n",
      "Poster: tt0000463.jpg, Size: 67 x 98\n",
      "Poster: tt0000464.jpg, Size: 67 x 98\n",
      "Poster: tt0000465.jpg, Size: 67 x 98\n",
      "Poster: tt0000466.jpg, Size: 67 x 98\n",
      "Poster: tt0000467.jpg, Size: 67 x 98\n",
      "Poster: tt0000468.jpg, Size: 67 x 98\n",
      "Poster: tt0000469.jpg, Size: 67 x 98\n",
      "Poster: tt0000470.jpg, Size: 67 x 98\n",
      "Poster: tt0000471.jpg, Size: 67 x 98\n",
      "Poster: tt0000472.jpg, Size: 67 x 98\n",
      "Poster: tt0000473.jpg, Size: 67 x 98\n",
      "Poster: tt0000474.jpg, Size: 67 x 98\n",
      "Poster: tt0000475.jpg, Size: 67 x 98\n",
      "Poster: tt0000476.jpg, Size: 67 x 98\n",
      "Poster: tt0000477.jpg, Size: 67 x 98\n",
      "Poster: tt0000478.jpg, Size: 67 x 98\n",
      "Poster: tt0000479.jpg, Size: 67 x 98\n",
      "Poster: tt0000480.jpg, Size: 67 x 98\n",
      "Poster: tt0000482.jpg, Size: 67 x 98\n",
      "Poster: tt0000483.jpg, Size: 67 x 98\n",
      "Poster: tt0000484.jpg, Size: 67 x 98\n",
      "Poster: tt0000485.jpg, Size: 67 x 98\n",
      "Poster: tt0000486.jpg, Size: 67 x 98\n",
      "Poster: tt0000487.jpg, Size: 67 x 98\n",
      "Poster: tt0000488.jpg, Size: 67 x 98\n",
      "Poster: tt0000489.jpg, Size: 67 x 98\n",
      "Poster: tt0000490.jpg, Size: 67 x 98\n",
      "Poster: tt0000491.jpg, Size: 67 x 98\n",
      "Poster: tt0000492.jpg, Size: 67 x 98\n",
      "Poster: tt0000493.jpg, Size: 67 x 98\n",
      "Poster: tt0000494.jpg, Size: 67 x 98\n",
      "Poster: tt0000495.jpg, Size: 67 x 98\n",
      "Poster: tt0000496.jpg, Size: 67 x 98\n",
      "Poster: tt0000497.jpg, Size: 67 x 98\n",
      "Poster: tt0000498.jpg, Size: 67 x 98\n",
      "Poster: tt0000499.jpg, Size: 67 x 98\n",
      "Poster: tt0000500.jpg, Size: 67 x 98\n",
      "Poster: tt0000501.jpg, Size: 67 x 98\n",
      "Poster: tt0000502.jpg, Size: 67 x 98\n",
      "Poster: tt0000503.jpg, Size: 67 x 98\n",
      "Poster: tt0000504.jpg, Size: 67 x 98\n",
      "Poster: tt0000505.jpg, Size: 67 x 98\n",
      "Poster: tt0000506.jpg, Size: 67 x 98\n",
      "Poster: tt0000507.jpg, Size: 67 x 98\n",
      "Poster: tt0000508.jpg, Size: 67 x 98\n",
      "Poster: tt0000509.jpg, Size: 67 x 98\n",
      "Poster: tt0000510.jpg, Size: 67 x 98\n",
      "Poster: tt0000511.jpg, Size: 67 x 98\n",
      "Poster: tt0000512.jpg, Size: 67 x 98\n",
      "Poster: tt0000513.jpg, Size: 67 x 98\n",
      "Poster: tt0000514.jpg, Size: 67 x 98\n",
      "Poster: tt0000515.jpg, Size: 67 x 98\n",
      "Poster: tt0000516.jpg, Size: 67 x 98\n",
      "Poster: tt0000517.jpg, Size: 67 x 98\n",
      "Poster: tt0000518.jpg, Size: 67 x 98\n",
      "Poster: tt0000519.jpg, Size: 67 x 98\n",
      "Poster: tt0000520.jpg, Size: 67 x 98\n",
      "Poster: tt0000521.jpg, Size: 67 x 98\n",
      "Poster: tt0000522.jpg, Size: 67 x 98\n",
      "Poster: tt0000523.jpg, Size: 67 x 98\n",
      "Poster: tt0000524.jpg, Size: 67 x 98\n",
      "Poster: tt0000525.jpg, Size: 67 x 98\n",
      "Poster: tt0000526.jpg, Size: 67 x 98\n",
      "Poster: tt0000527.jpg, Size: 67 x 98\n",
      "Poster: tt0000528.jpg, Size: 67 x 98\n",
      "Poster: tt0000529.jpg, Size: 67 x 98\n",
      "Poster: tt0000530.jpg, Size: 67 x 98\n",
      "Poster: tt0000531.jpg, Size: 67 x 98\n",
      "Poster: tt0000532.jpg, Size: 67 x 98\n",
      "Poster: tt0000533.jpg, Size: 67 x 98\n",
      "Poster: tt0000534.jpg, Size: 67 x 98\n",
      "Poster: tt0000535.jpg, Size: 67 x 98\n",
      "Poster: tt0000536.jpg, Size: 67 x 98\n",
      "Poster: tt0000537.jpg, Size: 67 x 98\n",
      "Poster: tt0000538.jpg, Size: 67 x 98\n",
      "Poster: tt0000539.jpg, Size: 67 x 98\n",
      "Poster: tt0000540.jpg, Size: 67 x 98\n",
      "Poster: tt0000541.jpg, Size: 67 x 98\n",
      "Poster: tt0000542.jpg, Size: 67 x 98\n",
      "Poster: tt0000543.jpg, Size: 67 x 98\n",
      "Poster: tt0000544.jpg, Size: 67 x 98\n",
      "Poster: tt0000545.jpg, Size: 67 x 98\n",
      "Poster: tt0000546.jpg, Size: 67 x 98\n",
      "Poster: tt0000548.jpg, Size: 67 x 98\n",
      "Poster: tt0000549.jpg, Size: 67 x 98\n",
      "Poster: tt0000550.jpg, Size: 67 x 98\n",
      "Poster: tt0000551.jpg, Size: 67 x 98\n",
      "Poster: tt0000552.jpg, Size: 67 x 98\n",
      "Poster: tt0000553.jpg, Size: 67 x 98\n",
      "Poster: tt0000554.jpg, Size: 67 x 98\n",
      "Poster: tt0000555.jpg, Size: 67 x 98\n",
      "Poster: tt0000556.jpg, Size: 67 x 98\n",
      "Poster: tt0000557.jpg, Size: 67 x 98\n",
      "Poster: tt0000558.jpg, Size: 67 x 98\n",
      "Poster: tt0000559.jpg, Size: 67 x 98\n",
      "Poster: tt0000560.jpg, Size: 67 x 98\n",
      "Poster: tt0000562.jpg, Size: 67 x 98\n",
      "Poster: tt0000563.jpg, Size: 67 x 98\n",
      "Poster: tt0000564.jpg, Size: 67 x 98\n",
      "Poster: tt0000565.jpg, Size: 67 x 98\n",
      "Poster: tt0000566.jpg, Size: 67 x 98\n",
      "Poster: tt0000567.jpg, Size: 67 x 98\n",
      "Poster: tt0000568.jpg, Size: 67 x 98\n",
      "Poster: tt0000569.jpg, Size: 67 x 98\n",
      "Poster: tt0000570.jpg, Size: 67 x 98\n",
      "Poster: tt0000571.jpg, Size: 67 x 98\n",
      "Poster: tt0000572.jpg, Size: 67 x 98\n",
      "Poster: tt0000573.jpg, Size: 67 x 98\n",
      "Poster: tt0000574.jpg, Size: 67 x 98\n",
      "Poster: tt0000575.jpg, Size: 67 x 98\n",
      "Poster: tt0000576.jpg, Size: 67 x 98\n",
      "Poster: tt0000577.jpg, Size: 67 x 98\n",
      "Poster: tt0000578.jpg, Size: 67 x 98\n",
      "Poster: tt0000579.jpg, Size: 67 x 98\n",
      "Poster: tt0000580.jpg, Size: 67 x 98\n",
      "Poster: tt0000581.jpg, Size: 67 x 98\n",
      "Poster: tt0000582.jpg, Size: 67 x 98\n",
      "Poster: tt0000583.jpg, Size: 67 x 98\n",
      "Poster: tt0000584.jpg, Size: 67 x 98\n",
      "Poster: tt0000585.jpg, Size: 67 x 98\n",
      "Poster: tt0000586.jpg, Size: 67 x 98\n",
      "Poster: tt0000587.jpg, Size: 67 x 98\n",
      "Poster: tt0000588.jpg, Size: 67 x 98\n",
      "Poster: tt0000589.jpg, Size: 67 x 98\n",
      "Poster: tt0000590.jpg, Size: 67 x 98\n",
      "Poster: tt0000591.jpg, Size: 67 x 98\n",
      "Poster: tt0000592.jpg, Size: 67 x 98\n",
      "Poster: tt0000593.jpg, Size: 67 x 98\n",
      "Poster: tt0000594.jpg, Size: 67 x 98\n",
      "Poster: tt0000595.jpg, Size: 67 x 98\n",
      "Poster: tt0000596.jpg, Size: 67 x 98\n",
      "Poster: tt0000597.jpg, Size: 67 x 98\n",
      "Poster: tt0000598.jpg, Size: 67 x 98\n",
      "Poster: tt0000599.jpg, Size: 67 x 98\n",
      "Poster: tt0000600.jpg, Size: 67 x 98\n",
      "Poster: tt0000601.jpg, Size: 67 x 98\n",
      "Poster: tt0000602.jpg, Size: 67 x 98\n",
      "Poster: tt0000603.jpg, Size: 67 x 98\n",
      "Poster: tt0000604.jpg, Size: 67 x 98\n",
      "Poster: tt0000605.jpg, Size: 67 x 98\n",
      "Poster: tt0000606.jpg, Size: 67 x 98\n",
      "Poster: tt0000607.jpg, Size: 67 x 98\n",
      "Poster: tt0000608.jpg, Size: 67 x 98\n",
      "Poster: tt0000609.jpg, Size: 67 x 98\n",
      "Poster: tt0000610.jpg, Size: 67 x 98\n",
      "Poster: tt0000611.jpg, Size: 67 x 98\n",
      "Poster: tt0000612.jpg, Size: 67 x 98\n",
      "Poster: tt0000613.jpg, Size: 67 x 98\n",
      "Poster: tt0000614.jpg, Size: 67 x 98\n",
      "Poster: tt0000615.jpg, Size: 67 x 98\n",
      "Poster: tt0000616.jpg, Size: 67 x 98\n",
      "Poster: tt0000617.jpg, Size: 67 x 98\n",
      "Poster: tt0000618.jpg, Size: 67 x 98\n",
      "Poster: tt0000619.jpg, Size: 67 x 98\n",
      "Poster: tt0000620.jpg, Size: 67 x 98\n",
      "Poster: tt0000621.jpg, Size: 67 x 98\n",
      "Poster: tt0000622.jpg, Size: 67 x 98\n",
      "Poster: tt0000623.jpg, Size: 67 x 98\n",
      "Poster: tt0000624.jpg, Size: 67 x 98\n",
      "Poster: tt0000625.jpg, Size: 67 x 98\n",
      "Poster: tt0000626.jpg, Size: 67 x 98\n",
      "Poster: tt0000627.jpg, Size: 67 x 98\n",
      "Poster: tt0000628.jpg, Size: 67 x 98\n",
      "Poster: tt0000629.jpg, Size: 67 x 98\n",
      "Poster: tt0000630.jpg, Size: 67 x 98\n",
      "Poster: tt0000631.jpg, Size: 67 x 98\n",
      "Poster: tt0000632.jpg, Size: 67 x 98\n",
      "Poster: tt0000633.jpg, Size: 67 x 98\n",
      "Poster: tt0000634.jpg, Size: 67 x 98\n",
      "Poster: tt0000635.jpg, Size: 67 x 98\n",
      "Poster: tt0000636.jpg, Size: 67 x 98\n",
      "Poster: tt0000637.jpg, Size: 67 x 98\n",
      "Poster: tt0000638.jpg, Size: 67 x 98\n",
      "Poster: tt0000639.jpg, Size: 67 x 98\n",
      "Poster: tt0000640.jpg, Size: 67 x 98\n",
      "Poster: tt0000641.jpg, Size: 67 x 98\n",
      "Poster: tt0000642.jpg, Size: 67 x 98\n",
      "Poster: tt0000643.jpg, Size: 67 x 98\n",
      "Poster: tt0000644.jpg, Size: 67 x 98\n",
      "Poster: tt0000645.jpg, Size: 67 x 98\n",
      "Poster: tt0000646.jpg, Size: 67 x 98\n",
      "Poster: tt0000648.jpg, Size: 67 x 98\n",
      "Poster: tt0000650.jpg, Size: 67 x 98\n",
      "Poster: tt0000652.jpg, Size: 67 x 98\n",
      "Poster: tt0000653.jpg, Size: 67 x 98\n",
      "Poster: tt0000654.jpg, Size: 67 x 98\n",
      "Poster: tt0000655.jpg, Size: 67 x 98\n",
      "Poster: tt0000656.jpg, Size: 67 x 98\n",
      "Poster: tt0000657.jpg, Size: 67 x 98\n",
      "Poster: tt0000658.jpg, Size: 67 x 98\n",
      "Poster: tt0000659.jpg, Size: 67 x 98\n",
      "Poster: tt0000660.jpg, Size: 67 x 98\n",
      "Poster: tt0000661.jpg, Size: 67 x 98\n",
      "Poster: tt0000662.jpg, Size: 67 x 98\n",
      "Poster: tt0000663.jpg, Size: 67 x 98\n",
      "Poster: tt0000664.jpg, Size: 67 x 98\n",
      "Poster: tt0000665.jpg, Size: 67 x 98\n",
      "Poster: tt0000666.jpg, Size: 67 x 98\n",
      "Poster: tt0000667.jpg, Size: 67 x 98\n",
      "Poster: tt0000668.jpg, Size: 67 x 98\n",
      "Poster: tt0000669.jpg, Size: 67 x 98\n",
      "Poster: tt0000670.jpg, Size: 67 x 98\n",
      "Poster: tt0000671.jpg, Size: 67 x 98\n",
      "Poster: tt0000672.jpg, Size: 67 x 98\n",
      "Poster: tt0000673.jpg, Size: 67 x 98\n",
      "Poster: tt0000674.jpg, Size: 67 x 98\n",
      "Poster: tt0000675.jpg, Size: 67 x 98\n",
      "Poster: tt0000676.jpg, Size: 67 x 98\n",
      "Poster: tt0000678.jpg, Size: 67 x 98\n",
      "Poster: tt0000679.jpg, Size: 67 x 98\n",
      "Poster: tt0000680.jpg, Size: 67 x 98\n",
      "Poster: tt0000681.jpg, Size: 67 x 98\n",
      "Poster: tt0000682.jpg, Size: 67 x 98\n",
      "Poster: tt0000683.jpg, Size: 67 x 98\n",
      "Poster: tt0000684.jpg, Size: 67 x 98\n",
      "Poster: tt0000685.jpg, Size: 67 x 98\n",
      "Poster: tt0000686.jpg, Size: 67 x 98\n",
      "Poster: tt0000687.jpg, Size: 67 x 98\n",
      "Poster: tt0000688.jpg, Size: 67 x 98\n",
      "Poster: tt0000689.jpg, Size: 67 x 98\n",
      "Poster: tt0000691.jpg, Size: 67 x 98\n",
      "Poster: tt0000692.jpg, Size: 67 x 98\n",
      "Poster: tt0000693.jpg, Size: 67 x 98\n",
      "Poster: tt0000694.jpg, Size: 67 x 98\n",
      "Poster: tt0000695.jpg, Size: 67 x 98\n",
      "Poster: tt0000696.jpg, Size: 67 x 98\n",
      "Poster: tt0000697.jpg, Size: 67 x 98\n",
      "Poster: tt0000699.jpg, Size: 67 x 98\n",
      "Poster: tt0000700.jpg, Size: 67 x 98\n",
      "Poster: tt0000701.jpg, Size: 67 x 98\n",
      "Poster: tt0000702.jpg, Size: 67 x 98\n",
      "Poster: tt0000703.jpg, Size: 67 x 98\n",
      "Poster: tt0000704.jpg, Size: 67 x 98\n",
      "Poster: tt0000705.jpg, Size: 67 x 98\n",
      "Poster: tt0000706.jpg, Size: 67 x 98\n",
      "Poster: tt0000707.jpg, Size: 67 x 98\n",
      "Poster: tt0000708.jpg, Size: 67 x 98\n",
      "Poster: tt0000709.jpg, Size: 67 x 98\n",
      "Poster: tt0000711.jpg, Size: 67 x 98\n",
      "Poster: tt0000712.jpg, Size: 67 x 98\n",
      "Poster: tt0000714.jpg, Size: 67 x 98\n",
      "Poster: tt0000715.jpg, Size: 67 x 98\n",
      "Poster: tt0000716.jpg, Size: 67 x 98\n",
      "Poster: tt0000717.jpg, Size: 67 x 98\n",
      "Poster: tt0000718.jpg, Size: 67 x 98\n",
      "Poster: tt0000719.jpg, Size: 67 x 98\n",
      "Poster: tt0000720.jpg, Size: 67 x 98\n",
      "Poster: tt0000721.jpg, Size: 67 x 98\n",
      "Poster: tt0000722.jpg, Size: 67 x 98\n",
      "Poster: tt0000723.jpg, Size: 67 x 98\n",
      "Poster: tt0000724.jpg, Size: 67 x 98\n",
      "Poster: tt0000725.jpg, Size: 67 x 98\n",
      "Poster: tt0000726.jpg, Size: 67 x 98\n",
      "Poster: tt0000727.jpg, Size: 67 x 98\n",
      "Poster: tt0000728.jpg, Size: 67 x 98\n",
      "Poster: tt0000729.jpg, Size: 67 x 98\n",
      "Poster: tt0000730.jpg, Size: 67 x 98\n",
      "Poster: tt0000731.jpg, Size: 67 x 98\n",
      "Poster: tt0000732.jpg, Size: 67 x 98\n",
      "Poster: tt0000733.jpg, Size: 67 x 98\n",
      "Poster: tt0000734.jpg, Size: 67 x 98\n",
      "Poster: tt0000735.jpg, Size: 67 x 98\n",
      "Poster: tt0000736.jpg, Size: 67 x 98\n",
      "Poster: tt0000737.jpg, Size: 67 x 98\n",
      "Poster: tt0000738.jpg, Size: 67 x 98\n",
      "Poster: tt0000739.jpg, Size: 67 x 98\n",
      "Poster: tt0000740.jpg, Size: 67 x 98\n",
      "Poster: tt0000741.jpg, Size: 67 x 98\n",
      "Poster: tt0000742.jpg, Size: 67 x 98\n",
      "Poster: tt0000743.jpg, Size: 67 x 98\n",
      "Poster: tt0000744.jpg, Size: 67 x 98\n",
      "Poster: tt0000745.jpg, Size: 67 x 98\n",
      "Poster: tt0000746.jpg, Size: 67 x 98\n",
      "Poster: tt0000747.jpg, Size: 67 x 98\n",
      "Poster: tt0000748.jpg, Size: 67 x 98\n",
      "Poster: tt0000749.jpg, Size: 67 x 98\n",
      "Poster: tt0000750.jpg, Size: 67 x 98\n",
      "Poster: tt0000751.jpg, Size: 67 x 98\n",
      "Poster: tt0000752.jpg, Size: 67 x 98\n",
      "Poster: tt0000753.jpg, Size: 67 x 98\n",
      "Poster: tt0000754.jpg, Size: 67 x 98\n",
      "Poster: tt0000755.jpg, Size: 67 x 98\n",
      "Poster: tt0000756.jpg, Size: 67 x 98\n",
      "Poster: tt0000757.jpg, Size: 67 x 98\n",
      "Poster: tt0000758.jpg, Size: 67 x 98\n",
      "Poster: tt0000759.jpg, Size: 67 x 98\n",
      "Poster: tt0000760.jpg, Size: 67 x 98\n",
      "Poster: tt0000761.jpg, Size: 67 x 98\n",
      "Poster: tt0000762.jpg, Size: 67 x 98\n",
      "Poster: tt0000763.jpg, Size: 67 x 98\n",
      "Poster: tt0000764.jpg, Size: 67 x 98\n",
      "Poster: tt0000765.jpg, Size: 67 x 98\n",
      "Poster: tt0000766.jpg, Size: 67 x 98\n",
      "Poster: tt0000767.jpg, Size: 67 x 98\n",
      "Poster: tt0000768.jpg, Size: 67 x 98\n",
      "Poster: tt0000769.jpg, Size: 67 x 98\n",
      "Poster: tt0000770.jpg, Size: 67 x 98\n",
      "Poster: tt0000771.jpg, Size: 67 x 98\n",
      "Poster: tt0000772.jpg, Size: 67 x 98\n",
      "Poster: tt0000773.jpg, Size: 67 x 98\n",
      "Poster: tt0000774.jpg, Size: 67 x 98\n",
      "Poster: tt0000775.jpg, Size: 67 x 98\n",
      "Poster: tt0000776.jpg, Size: 67 x 98\n",
      "Poster: tt0000777.jpg, Size: 67 x 98\n",
      "Poster: tt0000778.jpg, Size: 67 x 98\n",
      "Poster: tt0000779.jpg, Size: 67 x 98\n",
      "Poster: tt0000780.jpg, Size: 67 x 98\n",
      "Poster: tt0000781.jpg, Size: 67 x 98\n",
      "Poster: tt0000782.jpg, Size: 67 x 98\n",
      "Poster: tt0000783.jpg, Size: 67 x 98\n",
      "Poster: tt0000784.jpg, Size: 67 x 98\n",
      "Poster: tt0000785.jpg, Size: 67 x 98\n",
      "Poster: tt0000786.jpg, Size: 67 x 98\n",
      "Poster: tt0000787.jpg, Size: 67 x 98\n",
      "Poster: tt0000788.jpg, Size: 67 x 98\n",
      "Poster: tt0000789.jpg, Size: 67 x 98\n",
      "Poster: tt0000791.jpg, Size: 67 x 98\n",
      "Poster: tt0000792.jpg, Size: 67 x 98\n",
      "Poster: tt0000793.jpg, Size: 67 x 98\n",
      "Poster: tt0000794.jpg, Size: 67 x 98\n",
      "Poster: tt0000795.jpg, Size: 67 x 98\n",
      "Poster: tt0000796.jpg, Size: 67 x 98\n",
      "Poster: tt0000797.jpg, Size: 67 x 98\n",
      "Poster: tt0000798.jpg, Size: 67 x 98\n",
      "Poster: tt0000799.jpg, Size: 67 x 98\n",
      "Poster: tt0000800.jpg, Size: 67 x 98\n",
      "Poster: tt0000801.jpg, Size: 67 x 98\n",
      "Poster: tt0000802.jpg, Size: 67 x 98\n",
      "Poster: tt0000803.jpg, Size: 67 x 98\n",
      "Poster: tt0000804.jpg, Size: 67 x 98\n",
      "Poster: tt0000805.jpg, Size: 67 x 98\n",
      "Poster: tt0000806.jpg, Size: 67 x 98\n",
      "Poster: tt0000807.jpg, Size: 67 x 98\n",
      "Poster: tt0000808.jpg, Size: 67 x 98\n",
      "Poster: tt0000809.jpg, Size: 67 x 98\n",
      "Poster: tt0000810.jpg, Size: 67 x 98\n",
      "Poster: tt0000812.jpg, Size: 67 x 98\n",
      "Poster: tt0000813.jpg, Size: 67 x 98\n",
      "Poster: tt0000814.jpg, Size: 67 x 98\n",
      "Poster: tt0000815.jpg, Size: 67 x 98\n",
      "Poster: tt0000816.jpg, Size: 67 x 98\n",
      "Poster: tt0000817.jpg, Size: 67 x 98\n",
      "Poster: tt0000818.jpg, Size: 67 x 98\n",
      "Poster: tt0000819.jpg, Size: 67 x 98\n",
      "Poster: tt0000820.jpg, Size: 67 x 98\n",
      "Poster: tt0000821.jpg, Size: 67 x 98\n",
      "Poster: tt0000822.jpg, Size: 67 x 98\n",
      "Poster: tt0000823.jpg, Size: 67 x 98\n",
      "Poster: tt0000824.jpg, Size: 67 x 98\n",
      "Poster: tt0000825.jpg, Size: 67 x 98\n",
      "Poster: tt0000826.jpg, Size: 67 x 98\n",
      "Poster: tt0000827.jpg, Size: 67 x 98\n",
      "Poster: tt0000828.jpg, Size: 67 x 98\n",
      "Poster: tt0000829.jpg, Size: 67 x 98\n",
      "Poster: tt0000830.jpg, Size: 67 x 98\n",
      "Poster: tt0000831.jpg, Size: 67 x 98\n",
      "Poster: tt0000832.jpg, Size: 67 x 98\n",
      "Poster: tt0000833.jpg, Size: 67 x 98\n",
      "Poster: tt0000834.jpg, Size: 67 x 98\n",
      "Poster: tt0000835.jpg, Size: 67 x 98\n",
      "Poster: tt0000836.jpg, Size: 67 x 98\n",
      "Poster: tt0000837.jpg, Size: 67 x 98\n",
      "Poster: tt0000838.jpg, Size: 67 x 98\n",
      "Poster: tt0000841.jpg, Size: 67 x 98\n",
      "Poster: tt0000842.jpg, Size: 67 x 98\n",
      "Poster: tt0000843.jpg, Size: 67 x 98\n",
      "Poster: tt0000844.jpg, Size: 67 x 98\n",
      "Poster: tt0000845.jpg, Size: 67 x 98\n",
      "Poster: tt0000846.jpg, Size: 67 x 98\n",
      "Poster: tt0000847.jpg, Size: 67 x 98\n",
      "Poster: tt0000848.jpg, Size: 67 x 98\n",
      "Poster: tt0000849.jpg, Size: 67 x 98\n",
      "Poster: tt0000850.jpg, Size: 67 x 98\n",
      "Poster: tt0000851.jpg, Size: 67 x 98\n",
      "Poster: tt0000852.jpg, Size: 67 x 98\n",
      "Poster: tt0000853.jpg, Size: 67 x 98\n",
      "Poster: tt0000854.jpg, Size: 67 x 98\n",
      "Poster: tt0000855.jpg, Size: 67 x 98\n",
      "Poster: tt0000856.jpg, Size: 67 x 98\n",
      "Poster: tt0000857.jpg, Size: 67 x 98\n",
      "Poster: tt0000858.jpg, Size: 67 x 98\n",
      "Poster: tt0000859.jpg, Size: 67 x 98\n",
      "Poster: tt0000861.jpg, Size: 67 x 98\n",
      "Poster: tt0000862.jpg, Size: 67 x 98\n",
      "Poster: tt0000863.jpg, Size: 67 x 98\n",
      "Poster: tt0000864.jpg, Size: 67 x 98\n",
      "Poster: tt0000865.jpg, Size: 67 x 98\n",
      "Poster: tt0000866.jpg, Size: 67 x 98\n",
      "Poster: tt0000867.jpg, Size: 67 x 98\n",
      "Poster: tt0000868.jpg, Size: 67 x 98\n",
      "Poster: tt0000869.jpg, Size: 67 x 98\n",
      "Poster: tt0000870.jpg, Size: 67 x 98\n",
      "Poster: tt0000871.jpg, Size: 67 x 98\n",
      "Poster: tt0000872.jpg, Size: 67 x 98\n",
      "Poster: tt0000873.jpg, Size: 67 x 98\n",
      "Poster: tt0000874.jpg, Size: 67 x 98\n",
      "Poster: tt0000875.jpg, Size: 67 x 98\n",
      "Poster: tt0000877.jpg, Size: 67 x 98\n",
      "Poster: tt0000878.jpg, Size: 67 x 98\n",
      "Poster: tt0000879.jpg, Size: 67 x 98\n",
      "Poster: tt0000880.jpg, Size: 67 x 98\n",
      "Poster: tt0000881.jpg, Size: 67 x 98\n",
      "Poster: tt0000882.jpg, Size: 67 x 98\n",
      "Poster: tt0000883.jpg, Size: 67 x 98\n",
      "Poster: tt0000884.jpg, Size: 67 x 98\n",
      "Poster: tt0000885.jpg, Size: 67 x 98\n",
      "Poster: tt0000886.jpg, Size: 67 x 98\n",
      "Poster: tt0000887.jpg, Size: 67 x 98\n",
      "Poster: tt0000888.jpg, Size: 67 x 98\n",
      "Poster: tt0000889.jpg, Size: 67 x 98\n",
      "Poster: tt0000890.jpg, Size: 67 x 98\n",
      "Poster: tt0000891.jpg, Size: 67 x 98\n",
      "Poster: tt0000892.jpg, Size: 67 x 98\n",
      "Poster: tt0000893.jpg, Size: 67 x 98\n",
      "Poster: tt0000894.jpg, Size: 67 x 98\n",
      "Poster: tt0000895.jpg, Size: 67 x 98\n",
      "Poster: tt0000896.jpg, Size: 67 x 98\n",
      "Poster: tt0000897.jpg, Size: 67 x 98\n",
      "Poster: tt0000898.jpg, Size: 67 x 98\n",
      "Poster: tt0000899.jpg, Size: 67 x 98\n",
      "Poster: tt0000900.jpg, Size: 67 x 98\n",
      "Poster: tt0000901.jpg, Size: 67 x 98\n",
      "Poster: tt0000902.jpg, Size: 67 x 98\n",
      "Poster: tt0000903.jpg, Size: 67 x 98\n",
      "Poster: tt0000904.jpg, Size: 67 x 98\n",
      "Poster: tt0000905.jpg, Size: 67 x 98\n",
      "Poster: tt0000906.jpg, Size: 67 x 98\n",
      "Poster: tt0000907.jpg, Size: 67 x 98\n",
      "Poster: tt0000908.jpg, Size: 67 x 98\n",
      "Poster: tt0000909.jpg, Size: 67 x 98\n",
      "Poster: tt0000910.jpg, Size: 67 x 98\n",
      "Poster: tt0000911.jpg, Size: 67 x 98\n",
      "Poster: tt0000912.jpg, Size: 67 x 98\n",
      "Poster: tt0000913.jpg, Size: 67 x 98\n",
      "Poster: tt0000914.jpg, Size: 67 x 98\n",
      "Poster: tt0000915.jpg, Size: 67 x 98\n",
      "Poster: tt0000916.jpg, Size: 67 x 98\n",
      "Poster: tt0000917.jpg, Size: 67 x 98\n",
      "Poster: tt0000918.jpg, Size: 67 x 98\n",
      "Poster: tt0000919.jpg, Size: 67 x 98\n",
      "Poster: tt0000920.jpg, Size: 67 x 98\n",
      "Poster: tt0000921.jpg, Size: 67 x 98\n",
      "Poster: tt0000922.jpg, Size: 67 x 98\n",
      "Poster: tt0000923.jpg, Size: 67 x 98\n",
      "Poster: tt0000924.jpg, Size: 67 x 98\n",
      "Poster: tt0000925.jpg, Size: 67 x 98\n",
      "Poster: tt0000926.jpg, Size: 67 x 98\n",
      "Poster: tt0000927.jpg, Size: 67 x 98\n",
      "Poster: tt0000928.jpg, Size: 67 x 98\n",
      "Poster: tt0000929.jpg, Size: 67 x 98\n",
      "Poster: tt0000931.jpg, Size: 67 x 98\n",
      "Poster: tt0000932.jpg, Size: 67 x 98\n",
      "Poster: tt0000933.jpg, Size: 67 x 98\n",
      "Poster: tt0000934.jpg, Size: 67 x 98\n",
      "Poster: tt0000935.jpg, Size: 67 x 98\n",
      "Poster: tt0000936.jpg, Size: 67 x 98\n",
      "Poster: tt0000937.jpg, Size: 67 x 98\n",
      "Poster: tt0000938.jpg, Size: 67 x 98\n",
      "Poster: tt0000939.jpg, Size: 67 x 98\n",
      "Poster: tt0000940.jpg, Size: 67 x 98\n",
      "Poster: tt0000941.jpg, Size: 67 x 98\n",
      "Poster: tt0000942.jpg, Size: 67 x 98\n",
      "Poster: tt0000943.jpg, Size: 67 x 98\n",
      "Poster: tt0000944.jpg, Size: 67 x 98\n",
      "Poster: tt0000945.jpg, Size: 67 x 98\n",
      "Poster: tt0000946.jpg, Size: 67 x 98\n",
      "Poster: tt0000947.jpg, Size: 67 x 98\n",
      "Poster: tt0000948.jpg, Size: 67 x 98\n",
      "Poster: tt0000949.jpg, Size: 67 x 98\n",
      "Poster: tt0000950.jpg, Size: 67 x 98\n",
      "Poster: tt0000951.jpg, Size: 67 x 98\n",
      "Poster: tt0000952.jpg, Size: 67 x 98\n",
      "Poster: tt0000953.jpg, Size: 67 x 98\n",
      "Poster: tt0000954.jpg, Size: 67 x 98\n",
      "Poster: tt0000956.jpg, Size: 67 x 98\n",
      "Poster: tt0000957.jpg, Size: 67 x 98\n",
      "Poster: tt0000958.jpg, Size: 67 x 98\n",
      "Poster: tt0000959.jpg, Size: 67 x 98\n",
      "Poster: tt0000960.jpg, Size: 67 x 98\n",
      "Poster: tt0000961.jpg, Size: 67 x 98\n",
      "Poster: tt0000963.jpg, Size: 67 x 98\n",
      "Poster: tt0000964.jpg, Size: 67 x 98\n",
      "Poster: tt0000965.jpg, Size: 67 x 98\n",
      "Poster: tt0000966.jpg, Size: 67 x 98\n",
      "Poster: tt0000967.jpg, Size: 67 x 98\n",
      "Poster: tt0000968.jpg, Size: 67 x 98\n",
      "Poster: tt0000969.jpg, Size: 67 x 98\n",
      "Poster: tt0000970.jpg, Size: 67 x 98\n",
      "Poster: tt0000971.jpg, Size: 67 x 98\n",
      "Poster: tt0000972.jpg, Size: 67 x 98\n",
      "Poster: tt0000973.jpg, Size: 67 x 98\n",
      "Poster: tt0000974.jpg, Size: 67 x 98\n",
      "Poster: tt0000975.jpg, Size: 67 x 98\n",
      "Poster: tt0000976.jpg, Size: 67 x 98\n",
      "Poster: tt0000977.jpg, Size: 67 x 98\n",
      "Poster: tt0000978.jpg, Size: 67 x 98\n",
      "Poster: tt0000979.jpg, Size: 67 x 98\n",
      "Poster: tt0000980.jpg, Size: 67 x 98\n",
      "Poster: tt0000981.jpg, Size: 67 x 98\n",
      "Poster: tt0000982.jpg, Size: 67 x 98\n",
      "Poster: tt0000983.jpg, Size: 67 x 98\n",
      "Poster: tt0000984.jpg, Size: 67 x 98\n",
      "Poster: tt0000985.jpg, Size: 67 x 98\n",
      "Poster: tt0000987.jpg, Size: 67 x 98\n",
      "Poster: tt0000988.jpg, Size: 67 x 98\n",
      "Poster: tt0000989.jpg, Size: 67 x 98\n",
      "Poster: tt0000991.jpg, Size: 67 x 98\n",
      "Poster: tt0000992.jpg, Size: 67 x 98\n",
      "Poster: tt0000993.jpg, Size: 67 x 98\n",
      "Poster: tt0000994.jpg, Size: 67 x 98\n",
      "Poster: tt0000995.jpg, Size: 67 x 98\n",
      "Poster: tt0000996.jpg, Size: 67 x 98\n",
      "Poster: tt0000997.jpg, Size: 67 x 98\n",
      "Poster: tt0000998.jpg, Size: 67 x 98\n",
      "Poster: tt0000999.jpg, Size: 67 x 98\n",
      "Poster: tt0001000.jpg, Size: 67 x 98\n"
     ]
    }
   ],
   "source": [
    "poster_images_dir = \"poster_images\"\n",
    "\n",
    "for filename in os.listdir(poster_images_dir):\n",
    "    if filename.endswith(\".jpg\"):  \n",
    "        image_path = os.path.join(poster_images_dir, filename)\n",
    "        \n",
    "        with Image.open(image_path) as img:\n",
    "            width, height = img.size\n",
    "            \n",
    "            print(f\"Poster: {filename}, Size: {width} x {height}\")\n"
   ]
  },
  {
   "cell_type": "code",
   "execution_count": null,
   "metadata": {},
   "outputs": [],
   "source": []
  }
 ],
 "metadata": {
  "kernelspec": {
   "display_name": "Python 3",
   "language": "python",
   "name": "python3"
  },
  "language_info": {
   "codemirror_mode": {
    "name": "ipython",
    "version": 3
   },
   "file_extension": ".py",
   "mimetype": "text/x-python",
   "name": "python",
   "nbconvert_exporter": "python",
   "pygments_lexer": "ipython3",
   "version": "3.9.13"
  }
 },
 "nbformat": 4,
 "nbformat_minor": 2
}
