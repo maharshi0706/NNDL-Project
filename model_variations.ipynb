{
 "cells": [
  {
   "cell_type": "code",
   "execution_count": null,
   "metadata": {},
   "outputs": [],
   "source": [
    "# First Variation\n",
    "m1 = tf.keras.Sequential([\n",
    "    layers.Conv2D(16, kernel_size=(5,5), activation='relu', input_shape=X_train[0].shape),\n",
    "    layers.MaxPooling2D((2,2)),\n",
    "\n",
    "    layers.Conv2D(32, (5,5), activation='relu'),\n",
    "    layers.MaxPooling2D((2,2)),\n",
    "    \n",
    "\n",
    "    layers.Conv2D(64, (5,5), activation='relu'),\n",
    "    layers.MaxPooling2D((2,2)),\n",
    "\n",
    "    layers.Flatten(),\n",
    "    layers.Dense(128,activation='relu'),\n",
    "    layers.Dense(24, activation='sigmoid')\n",
    "])\n",
    "\n",
    "m1.compile(optimizer='adam',loss='binary_crossentropy',metrics=['accuracy'])\n",
    "history= m1.fit(X_train,y_train,epochs=10,validation_data=(X_test,y_test))"
   ]
  },
  {
   "cell_type": "code",
   "execution_count": null,
   "metadata": {},
   "outputs": [],
   "source": [
    "# Second variation\n",
    "model = tf.keras.Sequential([\n",
    "    layers.Conv2D(16, kernel_size=(3,3), activation='relu', input_shape=X_train[0].shape),\n",
    "    layers.MaxPooling2D((2,2)),\n",
    "   \n",
    "    layers.Conv2D(32, (3,3), activation='relu'),\n",
    "    layers.MaxPooling2D((2,2)),\n",
    "    \n",
    "    layers.Conv2D(64, (3,3), activation='relu'),\n",
    "    layers.MaxPooling2D((2,2)),\n",
    "    \n",
    "    layers.Flatten(),\n",
    "    layers.Dense(128,activation='relu'),\n",
    "    layers.Dropout(0.3),\n",
    "    layers.Dense(24, activation='sigmoid')\n",
    "])\n",
    "\n",
    "model.compile(optimizer='adam',loss='binary_crossentropy',metrics=['accuracy'])"
   ]
  }
 ],
 "metadata": {
  "language_info": {
   "name": "python"
  }
 },
 "nbformat": 4,
 "nbformat_minor": 2
}
